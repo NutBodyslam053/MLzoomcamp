{
 "cells": [
  {
   "attachments": {},
   "cell_type": "markdown",
   "metadata": {},
   "source": [
    "# Machine Learning for Classification\n",
    "## Credit Scoring\n",
    "*URL = \"https://github.com/gastonstat/CreditScoring\"*\n",
    "\n",
    "**Context:**\n",
    "- Predict behavior to retain customers. The dataset was obtained from Github.\n",
    "\n",
    "**Content:**\n",
    "- The project contains two datasets in csv format (raw data, and cleaned data), as well as the R scripts for the analysis.\n",
    "\n",
    " Column Name | Description \n",
    " -------- | ----------- \n",
    "1 Status | credit status; 0=\"unk\", 1=\"ok\", 2=\"default\" \n",
    "2 Seniority\t| job seniority (years)\n",
    "3 Home | type of home ownership; 0=\"unk\", 1=\"rent\", 2=\"owner\", 3=\"priv\", 4=\"ignore\", 5=\"parents\", 6=\"other\"\n",
    "4 Time | time of requested loan\n",
    "5 Age | client's age\n",
    "6 Marital | marital status; 0=\"unk\", 1=\"single\", 2=\"married\", 3=\"widow\", 4=\"separated\", 5=\"divorced\"\n",
    "7 Records | existance of records; 0=\"unk\", 1=\"no_rec\", 2=\"yes_rec\"\n",
    "8 Job | type of job; 0=\"unk\", 1=\"fixed\", 2=\"partime\", 3=\"freelance\", 4=\"others\"\n",
    "9 Expenses | amount of expenses\n",
    "10 Income | amount of income\n",
    "11 Assets | amount of assets\n",
    "12 Debt | amount of debt\n",
    "13 Amount | amount requested of loan\n",
    "14 Price | price of good\n",
    "\n",
    "**Model:**\n",
    "- Decision Tree"
   ]
  },
  {
   "cell_type": "code",
   "execution_count": 1,
   "metadata": {},
   "outputs": [],
   "source": [
    "import pandas as pd\n",
    "import numpy as np\n",
    "\n",
    "import seaborn as sns\n",
    "from matplotlib import pyplot as plt\n",
    "%matplotlib inline\n",
    "from pprint import pprint"
   ]
  },
  {
   "attachments": {},
   "cell_type": "markdown",
   "metadata": {},
   "source": [
    "## Data Preparation"
   ]
  },
  {
   "cell_type": "code",
   "execution_count": 2,
   "metadata": {},
   "outputs": [],
   "source": [
    "df = pd.read_csv('CreditScoring.csv')"
   ]
  },
  {
   "cell_type": "code",
   "execution_count": 3,
   "metadata": {},
   "outputs": [
    {
     "data": {
      "text/html": [
       "<div>\n",
       "<style scoped>\n",
       "    .dataframe tbody tr th:only-of-type {\n",
       "        vertical-align: middle;\n",
       "    }\n",
       "\n",
       "    .dataframe tbody tr th {\n",
       "        vertical-align: top;\n",
       "    }\n",
       "\n",
       "    .dataframe thead th {\n",
       "        text-align: right;\n",
       "    }\n",
       "</style>\n",
       "<table border=\"1\" class=\"dataframe\">\n",
       "  <thead>\n",
       "    <tr style=\"text-align: right;\">\n",
       "      <th></th>\n",
       "      <th>Status</th>\n",
       "      <th>Seniority</th>\n",
       "      <th>Home</th>\n",
       "      <th>Time</th>\n",
       "      <th>Age</th>\n",
       "      <th>Marital</th>\n",
       "      <th>Records</th>\n",
       "      <th>Job</th>\n",
       "      <th>Expenses</th>\n",
       "      <th>Income</th>\n",
       "      <th>Assets</th>\n",
       "      <th>Debt</th>\n",
       "      <th>Amount</th>\n",
       "      <th>Price</th>\n",
       "    </tr>\n",
       "  </thead>\n",
       "  <tbody>\n",
       "    <tr>\n",
       "      <th>0</th>\n",
       "      <td>1</td>\n",
       "      <td>9</td>\n",
       "      <td>1</td>\n",
       "      <td>60</td>\n",
       "      <td>30</td>\n",
       "      <td>2</td>\n",
       "      <td>1</td>\n",
       "      <td>3</td>\n",
       "      <td>73</td>\n",
       "      <td>129</td>\n",
       "      <td>0</td>\n",
       "      <td>0</td>\n",
       "      <td>800</td>\n",
       "      <td>846</td>\n",
       "    </tr>\n",
       "    <tr>\n",
       "      <th>1</th>\n",
       "      <td>1</td>\n",
       "      <td>17</td>\n",
       "      <td>1</td>\n",
       "      <td>60</td>\n",
       "      <td>58</td>\n",
       "      <td>3</td>\n",
       "      <td>1</td>\n",
       "      <td>1</td>\n",
       "      <td>48</td>\n",
       "      <td>131</td>\n",
       "      <td>0</td>\n",
       "      <td>0</td>\n",
       "      <td>1000</td>\n",
       "      <td>1658</td>\n",
       "    </tr>\n",
       "    <tr>\n",
       "      <th>2</th>\n",
       "      <td>2</td>\n",
       "      <td>10</td>\n",
       "      <td>2</td>\n",
       "      <td>36</td>\n",
       "      <td>46</td>\n",
       "      <td>2</td>\n",
       "      <td>2</td>\n",
       "      <td>3</td>\n",
       "      <td>90</td>\n",
       "      <td>200</td>\n",
       "      <td>3000</td>\n",
       "      <td>0</td>\n",
       "      <td>2000</td>\n",
       "      <td>2985</td>\n",
       "    </tr>\n",
       "    <tr>\n",
       "      <th>3</th>\n",
       "      <td>1</td>\n",
       "      <td>0</td>\n",
       "      <td>1</td>\n",
       "      <td>60</td>\n",
       "      <td>24</td>\n",
       "      <td>1</td>\n",
       "      <td>1</td>\n",
       "      <td>1</td>\n",
       "      <td>63</td>\n",
       "      <td>182</td>\n",
       "      <td>2500</td>\n",
       "      <td>0</td>\n",
       "      <td>900</td>\n",
       "      <td>1325</td>\n",
       "    </tr>\n",
       "    <tr>\n",
       "      <th>4</th>\n",
       "      <td>1</td>\n",
       "      <td>0</td>\n",
       "      <td>1</td>\n",
       "      <td>36</td>\n",
       "      <td>26</td>\n",
       "      <td>1</td>\n",
       "      <td>1</td>\n",
       "      <td>1</td>\n",
       "      <td>46</td>\n",
       "      <td>107</td>\n",
       "      <td>0</td>\n",
       "      <td>0</td>\n",
       "      <td>310</td>\n",
       "      <td>910</td>\n",
       "    </tr>\n",
       "  </tbody>\n",
       "</table>\n",
       "</div>"
      ],
      "text/plain": [
       "   Status  Seniority  Home  Time  Age  Marital  Records  Job  Expenses  \\\n",
       "0       1          9     1    60   30        2        1    3        73   \n",
       "1       1         17     1    60   58        3        1    1        48   \n",
       "2       2         10     2    36   46        2        2    3        90   \n",
       "3       1          0     1    60   24        1        1    1        63   \n",
       "4       1          0     1    36   26        1        1    1        46   \n",
       "\n",
       "   Income  Assets  Debt  Amount  Price  \n",
       "0     129       0     0     800    846  \n",
       "1     131       0     0    1000   1658  \n",
       "2     200    3000     0    2000   2985  \n",
       "3     182    2500     0     900   1325  \n",
       "4     107       0     0     310    910  "
      ]
     },
     "execution_count": 3,
     "metadata": {},
     "output_type": "execute_result"
    }
   ],
   "source": [
    "df.head()"
   ]
  },
  {
   "cell_type": "code",
   "execution_count": 4,
   "metadata": {},
   "outputs": [
    {
     "data": {
      "text/html": [
       "<div>\n",
       "<style scoped>\n",
       "    .dataframe tbody tr th:only-of-type {\n",
       "        vertical-align: middle;\n",
       "    }\n",
       "\n",
       "    .dataframe tbody tr th {\n",
       "        vertical-align: top;\n",
       "    }\n",
       "\n",
       "    .dataframe thead th {\n",
       "        text-align: right;\n",
       "    }\n",
       "</style>\n",
       "<table border=\"1\" class=\"dataframe\">\n",
       "  <thead>\n",
       "    <tr style=\"text-align: right;\">\n",
       "      <th></th>\n",
       "      <th>status</th>\n",
       "      <th>seniority</th>\n",
       "      <th>home</th>\n",
       "      <th>time</th>\n",
       "      <th>age</th>\n",
       "      <th>marital</th>\n",
       "      <th>records</th>\n",
       "      <th>job</th>\n",
       "      <th>expenses</th>\n",
       "      <th>income</th>\n",
       "      <th>assets</th>\n",
       "      <th>debt</th>\n",
       "      <th>amount</th>\n",
       "      <th>price</th>\n",
       "    </tr>\n",
       "  </thead>\n",
       "  <tbody>\n",
       "    <tr>\n",
       "      <th>0</th>\n",
       "      <td>1</td>\n",
       "      <td>9</td>\n",
       "      <td>1</td>\n",
       "      <td>60</td>\n",
       "      <td>30</td>\n",
       "      <td>2</td>\n",
       "      <td>1</td>\n",
       "      <td>3</td>\n",
       "      <td>73</td>\n",
       "      <td>129</td>\n",
       "      <td>0</td>\n",
       "      <td>0</td>\n",
       "      <td>800</td>\n",
       "      <td>846</td>\n",
       "    </tr>\n",
       "    <tr>\n",
       "      <th>1</th>\n",
       "      <td>1</td>\n",
       "      <td>17</td>\n",
       "      <td>1</td>\n",
       "      <td>60</td>\n",
       "      <td>58</td>\n",
       "      <td>3</td>\n",
       "      <td>1</td>\n",
       "      <td>1</td>\n",
       "      <td>48</td>\n",
       "      <td>131</td>\n",
       "      <td>0</td>\n",
       "      <td>0</td>\n",
       "      <td>1000</td>\n",
       "      <td>1658</td>\n",
       "    </tr>\n",
       "    <tr>\n",
       "      <th>2</th>\n",
       "      <td>2</td>\n",
       "      <td>10</td>\n",
       "      <td>2</td>\n",
       "      <td>36</td>\n",
       "      <td>46</td>\n",
       "      <td>2</td>\n",
       "      <td>2</td>\n",
       "      <td>3</td>\n",
       "      <td>90</td>\n",
       "      <td>200</td>\n",
       "      <td>3000</td>\n",
       "      <td>0</td>\n",
       "      <td>2000</td>\n",
       "      <td>2985</td>\n",
       "    </tr>\n",
       "    <tr>\n",
       "      <th>3</th>\n",
       "      <td>1</td>\n",
       "      <td>0</td>\n",
       "      <td>1</td>\n",
       "      <td>60</td>\n",
       "      <td>24</td>\n",
       "      <td>1</td>\n",
       "      <td>1</td>\n",
       "      <td>1</td>\n",
       "      <td>63</td>\n",
       "      <td>182</td>\n",
       "      <td>2500</td>\n",
       "      <td>0</td>\n",
       "      <td>900</td>\n",
       "      <td>1325</td>\n",
       "    </tr>\n",
       "    <tr>\n",
       "      <th>4</th>\n",
       "      <td>1</td>\n",
       "      <td>0</td>\n",
       "      <td>1</td>\n",
       "      <td>36</td>\n",
       "      <td>26</td>\n",
       "      <td>1</td>\n",
       "      <td>1</td>\n",
       "      <td>1</td>\n",
       "      <td>46</td>\n",
       "      <td>107</td>\n",
       "      <td>0</td>\n",
       "      <td>0</td>\n",
       "      <td>310</td>\n",
       "      <td>910</td>\n",
       "    </tr>\n",
       "  </tbody>\n",
       "</table>\n",
       "</div>"
      ],
      "text/plain": [
       "   status  seniority  home  time  age  marital  records  job  expenses  \\\n",
       "0       1          9     1    60   30        2        1    3        73   \n",
       "1       1         17     1    60   58        3        1    1        48   \n",
       "2       2         10     2    36   46        2        2    3        90   \n",
       "3       1          0     1    60   24        1        1    1        63   \n",
       "4       1          0     1    36   26        1        1    1        46   \n",
       "\n",
       "   income  assets  debt  amount  price  \n",
       "0     129       0     0     800    846  \n",
       "1     131       0     0    1000   1658  \n",
       "2     200    3000     0    2000   2985  \n",
       "3     182    2500     0     900   1325  \n",
       "4     107       0     0     310    910  "
      ]
     },
     "execution_count": 4,
     "metadata": {},
     "output_type": "execute_result"
    }
   ],
   "source": [
    "df.columns = df.columns.str.lower()\n",
    "df.head()"
   ]
  },
  {
   "attachments": {},
   "cell_type": "markdown",
   "metadata": {},
   "source": [
    "Categorical variables are represented by numbers. \n",
    "\n",
    "Let's convert it:"
   ]
  },
  {
   "cell_type": "code",
   "execution_count": 5,
   "metadata": {},
   "outputs": [
    {
     "name": "stdout",
     "output_type": "stream",
     "text": [
      "status: (3)\n",
      "1    3200\n",
      "2    1254\n",
      "0       1\n",
      "Name: status, dtype: int64\n",
      "-------------------------\n",
      "home: (7)\n",
      "2    2107\n",
      "1     973\n",
      "5     783\n",
      "6     319\n",
      "3     247\n",
      "4      20\n",
      "0       6\n",
      "Name: home, dtype: int64\n",
      "-------------------------\n",
      "marital: (6)\n",
      "2    3241\n",
      "1     978\n",
      "4     130\n",
      "3      67\n",
      "5      38\n",
      "0       1\n",
      "Name: marital, dtype: int64\n",
      "-------------------------\n",
      "records: (2)\n",
      "1    3682\n",
      "2     773\n",
      "Name: records, dtype: int64\n",
      "-------------------------\n",
      "job: (5)\n",
      "1    2806\n",
      "3    1024\n",
      "2     452\n",
      "4     171\n",
      "0       2\n",
      "Name: job, dtype: int64\n",
      "-------------------------\n"
     ]
    }
   ],
   "source": [
    "for c in ['status', 'home', 'marital', 'records', 'job']:\n",
    "    print(f\"{c}: ({df[c].nunique()})\")\n",
    "    print(df[c].value_counts())\n",
    "    print(\"-\"*25)"
   ]
  },
  {
   "cell_type": "code",
   "execution_count": 6,
   "metadata": {},
   "outputs": [
    {
     "data": {
      "text/html": [
       "<div>\n",
       "<style scoped>\n",
       "    .dataframe tbody tr th:only-of-type {\n",
       "        vertical-align: middle;\n",
       "    }\n",
       "\n",
       "    .dataframe tbody tr th {\n",
       "        vertical-align: top;\n",
       "    }\n",
       "\n",
       "    .dataframe thead th {\n",
       "        text-align: right;\n",
       "    }\n",
       "</style>\n",
       "<table border=\"1\" class=\"dataframe\">\n",
       "  <thead>\n",
       "    <tr style=\"text-align: right;\">\n",
       "      <th></th>\n",
       "      <th>status</th>\n",
       "      <th>seniority</th>\n",
       "      <th>home</th>\n",
       "      <th>time</th>\n",
       "      <th>age</th>\n",
       "      <th>marital</th>\n",
       "      <th>records</th>\n",
       "      <th>job</th>\n",
       "      <th>expenses</th>\n",
       "      <th>income</th>\n",
       "      <th>assets</th>\n",
       "      <th>debt</th>\n",
       "      <th>amount</th>\n",
       "      <th>price</th>\n",
       "    </tr>\n",
       "  </thead>\n",
       "  <tbody>\n",
       "    <tr>\n",
       "      <th>0</th>\n",
       "      <td>ok</td>\n",
       "      <td>9</td>\n",
       "      <td>1</td>\n",
       "      <td>60</td>\n",
       "      <td>30</td>\n",
       "      <td>2</td>\n",
       "      <td>1</td>\n",
       "      <td>3</td>\n",
       "      <td>73</td>\n",
       "      <td>129</td>\n",
       "      <td>0</td>\n",
       "      <td>0</td>\n",
       "      <td>800</td>\n",
       "      <td>846</td>\n",
       "    </tr>\n",
       "    <tr>\n",
       "      <th>1</th>\n",
       "      <td>ok</td>\n",
       "      <td>17</td>\n",
       "      <td>1</td>\n",
       "      <td>60</td>\n",
       "      <td>58</td>\n",
       "      <td>3</td>\n",
       "      <td>1</td>\n",
       "      <td>1</td>\n",
       "      <td>48</td>\n",
       "      <td>131</td>\n",
       "      <td>0</td>\n",
       "      <td>0</td>\n",
       "      <td>1000</td>\n",
       "      <td>1658</td>\n",
       "    </tr>\n",
       "    <tr>\n",
       "      <th>2</th>\n",
       "      <td>default</td>\n",
       "      <td>10</td>\n",
       "      <td>2</td>\n",
       "      <td>36</td>\n",
       "      <td>46</td>\n",
       "      <td>2</td>\n",
       "      <td>2</td>\n",
       "      <td>3</td>\n",
       "      <td>90</td>\n",
       "      <td>200</td>\n",
       "      <td>3000</td>\n",
       "      <td>0</td>\n",
       "      <td>2000</td>\n",
       "      <td>2985</td>\n",
       "    </tr>\n",
       "    <tr>\n",
       "      <th>3</th>\n",
       "      <td>ok</td>\n",
       "      <td>0</td>\n",
       "      <td>1</td>\n",
       "      <td>60</td>\n",
       "      <td>24</td>\n",
       "      <td>1</td>\n",
       "      <td>1</td>\n",
       "      <td>1</td>\n",
       "      <td>63</td>\n",
       "      <td>182</td>\n",
       "      <td>2500</td>\n",
       "      <td>0</td>\n",
       "      <td>900</td>\n",
       "      <td>1325</td>\n",
       "    </tr>\n",
       "    <tr>\n",
       "      <th>4</th>\n",
       "      <td>ok</td>\n",
       "      <td>0</td>\n",
       "      <td>1</td>\n",
       "      <td>36</td>\n",
       "      <td>26</td>\n",
       "      <td>1</td>\n",
       "      <td>1</td>\n",
       "      <td>1</td>\n",
       "      <td>46</td>\n",
       "      <td>107</td>\n",
       "      <td>0</td>\n",
       "      <td>0</td>\n",
       "      <td>310</td>\n",
       "      <td>910</td>\n",
       "    </tr>\n",
       "  </tbody>\n",
       "</table>\n",
       "</div>"
      ],
      "text/plain": [
       "    status  seniority  home  time  age  marital  records  job  expenses  \\\n",
       "0       ok          9     1    60   30        2        1    3        73   \n",
       "1       ok         17     1    60   58        3        1    1        48   \n",
       "2  default         10     2    36   46        2        2    3        90   \n",
       "3       ok          0     1    60   24        1        1    1        63   \n",
       "4       ok          0     1    36   26        1        1    1        46   \n",
       "\n",
       "   income  assets  debt  amount  price  \n",
       "0     129       0     0     800    846  \n",
       "1     131       0     0    1000   1658  \n",
       "2     200    3000     0    2000   2985  \n",
       "3     182    2500     0     900   1325  \n",
       "4     107       0     0     310    910  "
      ]
     },
     "execution_count": 6,
     "metadata": {},
     "output_type": "execute_result"
    }
   ],
   "source": [
    "status_values = {\n",
    "    1: 'ok',\n",
    "    2: 'default',\n",
    "    0: 'unk'\n",
    "}\n",
    "\n",
    "df.status = df.status.map(status_values)\n",
    "df.head()"
   ]
  },
  {
   "cell_type": "code",
   "execution_count": 7,
   "metadata": {},
   "outputs": [],
   "source": [
    "home_values = {\n",
    "    1: 'rent',\n",
    "    2: 'owner',\n",
    "    3: 'private',\n",
    "    4: 'ignore',\n",
    "    5: 'parents',\n",
    "    6: 'other',\n",
    "    0: 'unk'\n",
    "}\n",
    "\n",
    "df.home = df.home.map(home_values)"
   ]
  },
  {
   "cell_type": "code",
   "execution_count": 8,
   "metadata": {},
   "outputs": [],
   "source": [
    "marital_values = {\n",
    "    1: 'single',\n",
    "    2: 'married',\n",
    "    3: 'widow',\n",
    "    4: 'separated',\n",
    "    5: 'divorced',\n",
    "    0: 'unk'\n",
    "}\n",
    "\n",
    "df.marital = df.marital.map(marital_values)"
   ]
  },
  {
   "cell_type": "code",
   "execution_count": 9,
   "metadata": {
    "scrolled": true
   },
   "outputs": [],
   "source": [
    "records_values = {\n",
    "    1: 'no',\n",
    "    2: 'yes',\n",
    "    0: 'unk'\n",
    "}\n",
    "\n",
    "df.records = df.records.map(records_values)"
   ]
  },
  {
   "cell_type": "code",
   "execution_count": 10,
   "metadata": {},
   "outputs": [],
   "source": [
    "job_values = {\n",
    "    1: 'fixed',\n",
    "    2: 'partime',\n",
    "    3: 'freelance',\n",
    "    4: 'others',\n",
    "    0: 'unk'\n",
    "}\n",
    "\n",
    "df.job = df.job.map(job_values)"
   ]
  },
  {
   "cell_type": "code",
   "execution_count": 11,
   "metadata": {},
   "outputs": [
    {
     "data": {
      "text/html": [
       "<div>\n",
       "<style scoped>\n",
       "    .dataframe tbody tr th:only-of-type {\n",
       "        vertical-align: middle;\n",
       "    }\n",
       "\n",
       "    .dataframe tbody tr th {\n",
       "        vertical-align: top;\n",
       "    }\n",
       "\n",
       "    .dataframe thead th {\n",
       "        text-align: right;\n",
       "    }\n",
       "</style>\n",
       "<table border=\"1\" class=\"dataframe\">\n",
       "  <thead>\n",
       "    <tr style=\"text-align: right;\">\n",
       "      <th></th>\n",
       "      <th>status</th>\n",
       "      <th>seniority</th>\n",
       "      <th>home</th>\n",
       "      <th>time</th>\n",
       "      <th>age</th>\n",
       "      <th>marital</th>\n",
       "      <th>records</th>\n",
       "      <th>job</th>\n",
       "      <th>expenses</th>\n",
       "      <th>income</th>\n",
       "      <th>assets</th>\n",
       "      <th>debt</th>\n",
       "      <th>amount</th>\n",
       "      <th>price</th>\n",
       "    </tr>\n",
       "  </thead>\n",
       "  <tbody>\n",
       "    <tr>\n",
       "      <th>0</th>\n",
       "      <td>ok</td>\n",
       "      <td>9</td>\n",
       "      <td>rent</td>\n",
       "      <td>60</td>\n",
       "      <td>30</td>\n",
       "      <td>married</td>\n",
       "      <td>no</td>\n",
       "      <td>freelance</td>\n",
       "      <td>73</td>\n",
       "      <td>129</td>\n",
       "      <td>0</td>\n",
       "      <td>0</td>\n",
       "      <td>800</td>\n",
       "      <td>846</td>\n",
       "    </tr>\n",
       "    <tr>\n",
       "      <th>1</th>\n",
       "      <td>ok</td>\n",
       "      <td>17</td>\n",
       "      <td>rent</td>\n",
       "      <td>60</td>\n",
       "      <td>58</td>\n",
       "      <td>widow</td>\n",
       "      <td>no</td>\n",
       "      <td>fixed</td>\n",
       "      <td>48</td>\n",
       "      <td>131</td>\n",
       "      <td>0</td>\n",
       "      <td>0</td>\n",
       "      <td>1000</td>\n",
       "      <td>1658</td>\n",
       "    </tr>\n",
       "    <tr>\n",
       "      <th>2</th>\n",
       "      <td>default</td>\n",
       "      <td>10</td>\n",
       "      <td>owner</td>\n",
       "      <td>36</td>\n",
       "      <td>46</td>\n",
       "      <td>married</td>\n",
       "      <td>yes</td>\n",
       "      <td>freelance</td>\n",
       "      <td>90</td>\n",
       "      <td>200</td>\n",
       "      <td>3000</td>\n",
       "      <td>0</td>\n",
       "      <td>2000</td>\n",
       "      <td>2985</td>\n",
       "    </tr>\n",
       "    <tr>\n",
       "      <th>3</th>\n",
       "      <td>ok</td>\n",
       "      <td>0</td>\n",
       "      <td>rent</td>\n",
       "      <td>60</td>\n",
       "      <td>24</td>\n",
       "      <td>single</td>\n",
       "      <td>no</td>\n",
       "      <td>fixed</td>\n",
       "      <td>63</td>\n",
       "      <td>182</td>\n",
       "      <td>2500</td>\n",
       "      <td>0</td>\n",
       "      <td>900</td>\n",
       "      <td>1325</td>\n",
       "    </tr>\n",
       "    <tr>\n",
       "      <th>4</th>\n",
       "      <td>ok</td>\n",
       "      <td>0</td>\n",
       "      <td>rent</td>\n",
       "      <td>36</td>\n",
       "      <td>26</td>\n",
       "      <td>single</td>\n",
       "      <td>no</td>\n",
       "      <td>fixed</td>\n",
       "      <td>46</td>\n",
       "      <td>107</td>\n",
       "      <td>0</td>\n",
       "      <td>0</td>\n",
       "      <td>310</td>\n",
       "      <td>910</td>\n",
       "    </tr>\n",
       "  </tbody>\n",
       "</table>\n",
       "</div>"
      ],
      "text/plain": [
       "    status  seniority   home  time  age  marital records        job  expenses  \\\n",
       "0       ok          9   rent    60   30  married      no  freelance        73   \n",
       "1       ok         17   rent    60   58    widow      no      fixed        48   \n",
       "2  default         10  owner    36   46  married     yes  freelance        90   \n",
       "3       ok          0   rent    60   24   single      no      fixed        63   \n",
       "4       ok          0   rent    36   26   single      no      fixed        46   \n",
       "\n",
       "   income  assets  debt  amount  price  \n",
       "0     129       0     0     800    846  \n",
       "1     131       0     0    1000   1658  \n",
       "2     200    3000     0    2000   2985  \n",
       "3     182    2500     0     900   1325  \n",
       "4     107       0     0     310    910  "
      ]
     },
     "execution_count": 11,
     "metadata": {},
     "output_type": "execute_result"
    }
   ],
   "source": [
    "df.head()"
   ]
  },
  {
   "cell_type": "markdown",
   "metadata": {},
   "source": [
    "After this, all the categorical variables have strings, not numbers\n",
    "\n",
    "Let's look at numberical variables:  "
   ]
  },
  {
   "cell_type": "code",
   "execution_count": 12,
   "metadata": {},
   "outputs": [
    {
     "data": {
      "text/html": [
       "<div>\n",
       "<style scoped>\n",
       "    .dataframe tbody tr th:only-of-type {\n",
       "        vertical-align: middle;\n",
       "    }\n",
       "\n",
       "    .dataframe tbody tr th {\n",
       "        vertical-align: top;\n",
       "    }\n",
       "\n",
       "    .dataframe thead th {\n",
       "        text-align: right;\n",
       "    }\n",
       "</style>\n",
       "<table border=\"1\" class=\"dataframe\">\n",
       "  <thead>\n",
       "    <tr style=\"text-align: right;\">\n",
       "      <th></th>\n",
       "      <th>seniority</th>\n",
       "      <th>time</th>\n",
       "      <th>age</th>\n",
       "      <th>expenses</th>\n",
       "      <th>income</th>\n",
       "      <th>assets</th>\n",
       "      <th>debt</th>\n",
       "      <th>amount</th>\n",
       "      <th>price</th>\n",
       "    </tr>\n",
       "  </thead>\n",
       "  <tbody>\n",
       "    <tr>\n",
       "      <th>count</th>\n",
       "      <td>4455.0</td>\n",
       "      <td>4455.0</td>\n",
       "      <td>4455.0</td>\n",
       "      <td>4455.0</td>\n",
       "      <td>4455.0</td>\n",
       "      <td>4455.0</td>\n",
       "      <td>4455.0</td>\n",
       "      <td>4455.0</td>\n",
       "      <td>4455.0</td>\n",
       "    </tr>\n",
       "    <tr>\n",
       "      <th>mean</th>\n",
       "      <td>8.0</td>\n",
       "      <td>46.0</td>\n",
       "      <td>37.0</td>\n",
       "      <td>56.0</td>\n",
       "      <td>763317.0</td>\n",
       "      <td>1060341.0</td>\n",
       "      <td>404382.0</td>\n",
       "      <td>1039.0</td>\n",
       "      <td>1463.0</td>\n",
       "    </tr>\n",
       "    <tr>\n",
       "      <th>std</th>\n",
       "      <td>8.0</td>\n",
       "      <td>15.0</td>\n",
       "      <td>11.0</td>\n",
       "      <td>20.0</td>\n",
       "      <td>8703625.0</td>\n",
       "      <td>10217569.0</td>\n",
       "      <td>6344253.0</td>\n",
       "      <td>475.0</td>\n",
       "      <td>628.0</td>\n",
       "    </tr>\n",
       "    <tr>\n",
       "      <th>min</th>\n",
       "      <td>0.0</td>\n",
       "      <td>6.0</td>\n",
       "      <td>18.0</td>\n",
       "      <td>35.0</td>\n",
       "      <td>0.0</td>\n",
       "      <td>0.0</td>\n",
       "      <td>0.0</td>\n",
       "      <td>100.0</td>\n",
       "      <td>105.0</td>\n",
       "    </tr>\n",
       "    <tr>\n",
       "      <th>25%</th>\n",
       "      <td>2.0</td>\n",
       "      <td>36.0</td>\n",
       "      <td>28.0</td>\n",
       "      <td>35.0</td>\n",
       "      <td>80.0</td>\n",
       "      <td>0.0</td>\n",
       "      <td>0.0</td>\n",
       "      <td>700.0</td>\n",
       "      <td>1118.0</td>\n",
       "    </tr>\n",
       "    <tr>\n",
       "      <th>50%</th>\n",
       "      <td>5.0</td>\n",
       "      <td>48.0</td>\n",
       "      <td>36.0</td>\n",
       "      <td>51.0</td>\n",
       "      <td>120.0</td>\n",
       "      <td>3500.0</td>\n",
       "      <td>0.0</td>\n",
       "      <td>1000.0</td>\n",
       "      <td>1400.0</td>\n",
       "    </tr>\n",
       "    <tr>\n",
       "      <th>75%</th>\n",
       "      <td>12.0</td>\n",
       "      <td>60.0</td>\n",
       "      <td>45.0</td>\n",
       "      <td>72.0</td>\n",
       "      <td>166.0</td>\n",
       "      <td>6000.0</td>\n",
       "      <td>0.0</td>\n",
       "      <td>1300.0</td>\n",
       "      <td>1692.0</td>\n",
       "    </tr>\n",
       "    <tr>\n",
       "      <th>max</th>\n",
       "      <td>48.0</td>\n",
       "      <td>72.0</td>\n",
       "      <td>68.0</td>\n",
       "      <td>180.0</td>\n",
       "      <td>99999999.0</td>\n",
       "      <td>99999999.0</td>\n",
       "      <td>99999999.0</td>\n",
       "      <td>5000.0</td>\n",
       "      <td>11140.0</td>\n",
       "    </tr>\n",
       "  </tbody>\n",
       "</table>\n",
       "</div>"
      ],
      "text/plain": [
       "       seniority    time     age  expenses      income      assets  \\\n",
       "count     4455.0  4455.0  4455.0    4455.0      4455.0      4455.0   \n",
       "mean         8.0    46.0    37.0      56.0    763317.0   1060341.0   \n",
       "std          8.0    15.0    11.0      20.0   8703625.0  10217569.0   \n",
       "min          0.0     6.0    18.0      35.0         0.0         0.0   \n",
       "25%          2.0    36.0    28.0      35.0        80.0         0.0   \n",
       "50%          5.0    48.0    36.0      51.0       120.0      3500.0   \n",
       "75%         12.0    60.0    45.0      72.0       166.0      6000.0   \n",
       "max         48.0    72.0    68.0     180.0  99999999.0  99999999.0   \n",
       "\n",
       "             debt  amount    price  \n",
       "count      4455.0  4455.0   4455.0  \n",
       "mean     404382.0  1039.0   1463.0  \n",
       "std     6344253.0   475.0    628.0  \n",
       "min           0.0   100.0    105.0  \n",
       "25%           0.0   700.0   1118.0  \n",
       "50%           0.0  1000.0   1400.0  \n",
       "75%           0.0  1300.0   1692.0  \n",
       "max    99999999.0  5000.0  11140.0  "
      ]
     },
     "execution_count": 12,
     "metadata": {},
     "output_type": "execute_result"
    }
   ],
   "source": [
    "df.describe().round()"
   ]
  },
  {
   "cell_type": "markdown",
   "metadata": {},
   "source": [
    "99999999 indicate missing values. Let's replace it by `NaN`: "
   ]
  },
  {
   "cell_type": "code",
   "execution_count": 13,
   "metadata": {},
   "outputs": [],
   "source": [
    "for c in ['income', 'assets', 'debt']:\n",
    "    df[c] = df[c].replace(to_replace=99999999, value=np.nan)"
   ]
  },
  {
   "cell_type": "markdown",
   "metadata": {},
   "source": [
    "Now the stats are more meaninful"
   ]
  },
  {
   "cell_type": "code",
   "execution_count": 14,
   "metadata": {},
   "outputs": [
    {
     "data": {
      "text/html": [
       "<div>\n",
       "<style scoped>\n",
       "    .dataframe tbody tr th:only-of-type {\n",
       "        vertical-align: middle;\n",
       "    }\n",
       "\n",
       "    .dataframe tbody tr th {\n",
       "        vertical-align: top;\n",
       "    }\n",
       "\n",
       "    .dataframe thead th {\n",
       "        text-align: right;\n",
       "    }\n",
       "</style>\n",
       "<table border=\"1\" class=\"dataframe\">\n",
       "  <thead>\n",
       "    <tr style=\"text-align: right;\">\n",
       "      <th></th>\n",
       "      <th>seniority</th>\n",
       "      <th>time</th>\n",
       "      <th>age</th>\n",
       "      <th>expenses</th>\n",
       "      <th>income</th>\n",
       "      <th>assets</th>\n",
       "      <th>debt</th>\n",
       "      <th>amount</th>\n",
       "      <th>price</th>\n",
       "    </tr>\n",
       "  </thead>\n",
       "  <tbody>\n",
       "    <tr>\n",
       "      <th>count</th>\n",
       "      <td>4455.0</td>\n",
       "      <td>4455.0</td>\n",
       "      <td>4455.0</td>\n",
       "      <td>4455.0</td>\n",
       "      <td>4421.0</td>\n",
       "      <td>4408.0</td>\n",
       "      <td>4437.0</td>\n",
       "      <td>4455.0</td>\n",
       "      <td>4455.0</td>\n",
       "    </tr>\n",
       "    <tr>\n",
       "      <th>mean</th>\n",
       "      <td>8.0</td>\n",
       "      <td>46.0</td>\n",
       "      <td>37.0</td>\n",
       "      <td>56.0</td>\n",
       "      <td>131.0</td>\n",
       "      <td>5403.0</td>\n",
       "      <td>343.0</td>\n",
       "      <td>1039.0</td>\n",
       "      <td>1463.0</td>\n",
       "    </tr>\n",
       "    <tr>\n",
       "      <th>std</th>\n",
       "      <td>8.0</td>\n",
       "      <td>15.0</td>\n",
       "      <td>11.0</td>\n",
       "      <td>20.0</td>\n",
       "      <td>86.0</td>\n",
       "      <td>11573.0</td>\n",
       "      <td>1246.0</td>\n",
       "      <td>475.0</td>\n",
       "      <td>628.0</td>\n",
       "    </tr>\n",
       "    <tr>\n",
       "      <th>min</th>\n",
       "      <td>0.0</td>\n",
       "      <td>6.0</td>\n",
       "      <td>18.0</td>\n",
       "      <td>35.0</td>\n",
       "      <td>0.0</td>\n",
       "      <td>0.0</td>\n",
       "      <td>0.0</td>\n",
       "      <td>100.0</td>\n",
       "      <td>105.0</td>\n",
       "    </tr>\n",
       "    <tr>\n",
       "      <th>25%</th>\n",
       "      <td>2.0</td>\n",
       "      <td>36.0</td>\n",
       "      <td>28.0</td>\n",
       "      <td>35.0</td>\n",
       "      <td>80.0</td>\n",
       "      <td>0.0</td>\n",
       "      <td>0.0</td>\n",
       "      <td>700.0</td>\n",
       "      <td>1118.0</td>\n",
       "    </tr>\n",
       "    <tr>\n",
       "      <th>50%</th>\n",
       "      <td>5.0</td>\n",
       "      <td>48.0</td>\n",
       "      <td>36.0</td>\n",
       "      <td>51.0</td>\n",
       "      <td>120.0</td>\n",
       "      <td>3000.0</td>\n",
       "      <td>0.0</td>\n",
       "      <td>1000.0</td>\n",
       "      <td>1400.0</td>\n",
       "    </tr>\n",
       "    <tr>\n",
       "      <th>75%</th>\n",
       "      <td>12.0</td>\n",
       "      <td>60.0</td>\n",
       "      <td>45.0</td>\n",
       "      <td>72.0</td>\n",
       "      <td>165.0</td>\n",
       "      <td>6000.0</td>\n",
       "      <td>0.0</td>\n",
       "      <td>1300.0</td>\n",
       "      <td>1692.0</td>\n",
       "    </tr>\n",
       "    <tr>\n",
       "      <th>max</th>\n",
       "      <td>48.0</td>\n",
       "      <td>72.0</td>\n",
       "      <td>68.0</td>\n",
       "      <td>180.0</td>\n",
       "      <td>959.0</td>\n",
       "      <td>300000.0</td>\n",
       "      <td>30000.0</td>\n",
       "      <td>5000.0</td>\n",
       "      <td>11140.0</td>\n",
       "    </tr>\n",
       "  </tbody>\n",
       "</table>\n",
       "</div>"
      ],
      "text/plain": [
       "       seniority    time     age  expenses  income    assets     debt  amount  \\\n",
       "count     4455.0  4455.0  4455.0    4455.0  4421.0    4408.0   4437.0  4455.0   \n",
       "mean         8.0    46.0    37.0      56.0   131.0    5403.0    343.0  1039.0   \n",
       "std          8.0    15.0    11.0      20.0    86.0   11573.0   1246.0   475.0   \n",
       "min          0.0     6.0    18.0      35.0     0.0       0.0      0.0   100.0   \n",
       "25%          2.0    36.0    28.0      35.0    80.0       0.0      0.0   700.0   \n",
       "50%          5.0    48.0    36.0      51.0   120.0    3000.0      0.0  1000.0   \n",
       "75%         12.0    60.0    45.0      72.0   165.0    6000.0      0.0  1300.0   \n",
       "max         48.0    72.0    68.0     180.0   959.0  300000.0  30000.0  5000.0   \n",
       "\n",
       "         price  \n",
       "count   4455.0  \n",
       "mean    1463.0  \n",
       "std      628.0  \n",
       "min      105.0  \n",
       "25%     1118.0  \n",
       "50%     1400.0  \n",
       "75%     1692.0  \n",
       "max    11140.0  "
      ]
     },
     "execution_count": 14,
     "metadata": {},
     "output_type": "execute_result"
    }
   ],
   "source": [
    "df.describe().round()"
   ]
  },
  {
   "cell_type": "markdown",
   "metadata": {},
   "source": [
    "Let's look at the target variable"
   ]
  },
  {
   "cell_type": "code",
   "execution_count": 15,
   "metadata": {},
   "outputs": [
    {
     "data": {
      "text/plain": [
       "ok         3200\n",
       "default    1254\n",
       "unk           1\n",
       "Name: status, dtype: int64"
      ]
     },
     "execution_count": 15,
     "metadata": {},
     "output_type": "execute_result"
    }
   ],
   "source": [
    "df.status.value_counts()"
   ]
  },
  {
   "cell_type": "markdown",
   "metadata": {},
   "source": [
    "There's one record for which the status is unknown. Let's remove it - it's not useful for us"
   ]
  },
  {
   "cell_type": "code",
   "execution_count": 303,
   "metadata": {},
   "outputs": [
    {
     "data": {
      "text/plain": [
       "ok         3200\n",
       "default    1254\n",
       "Name: status, dtype: int64"
      ]
     },
     "execution_count": 303,
     "metadata": {},
     "output_type": "execute_result"
    }
   ],
   "source": [
    "df = df[df.status != 'unk']\n",
    "df.status.value_counts()"
   ]
  },
  {
   "cell_type": "code",
   "execution_count": 304,
   "metadata": {},
   "outputs": [
    {
     "data": {
      "text/plain": [
       "status        0\n",
       "seniority     0\n",
       "home          0\n",
       "time          0\n",
       "age           0\n",
       "marital       0\n",
       "records       0\n",
       "job           0\n",
       "expenses      0\n",
       "income       34\n",
       "assets       47\n",
       "debt         18\n",
       "amount        0\n",
       "price         0\n",
       "dtype: int64"
      ]
     },
     "execution_count": 304,
     "metadata": {},
     "output_type": "execute_result"
    }
   ],
   "source": [
    "df.isnull().sum()"
   ]
  },
  {
   "cell_type": "code",
   "execution_count": 305,
   "metadata": {},
   "outputs": [
    {
     "data": {
      "text/plain": [
       "status       0\n",
       "seniority    0\n",
       "home         0\n",
       "time         0\n",
       "age          0\n",
       "marital      0\n",
       "records      0\n",
       "job          0\n",
       "expenses     0\n",
       "income       0\n",
       "assets       0\n",
       "debt         0\n",
       "amount       0\n",
       "price        0\n",
       "dtype: int64"
      ]
     },
     "execution_count": 305,
     "metadata": {},
     "output_type": "execute_result"
    }
   ],
   "source": [
    "df = df.fillna(0)\n",
    "df.isnull().sum()"
   ]
  },
  {
   "cell_type": "markdown",
   "metadata": {},
   "source": [
    "Now we're ready to prepare the data for training:\n",
    "\n",
    "* First, do train-validation-test split\n",
    "* Then, apply one-hot encoding to categorical features and get the feature matrix "
   ]
  },
  {
   "cell_type": "code",
   "execution_count": 18,
   "metadata": {},
   "outputs": [],
   "source": [
    "from sklearn.model_selection import train_test_split"
   ]
  },
  {
   "attachments": {},
   "cell_type": "markdown",
   "metadata": {},
   "source": [
    "**Train-Valid-Test Split:**\n",
    "The term `validation dataset` is primarily used to assess the performance of models during hyperparameter tuning and data preparation, while the term `test dataset` is primarily used to evaluate the performance of a final, tuned model in comparison to other final models.\n",
    "\n",
    "$$\n",
    "   \\fbox{\\thickspace\\enspace\\quad\\qquad\\qquad\\qquad\\qquad\\qquad df \\ (100) \\qquad\\qquad\\qquad\\qquad\\qquad\\quad\\enspace\\thickspace}\n",
    "$$\n",
    "\n",
    "$$\\Downarrow$$\n",
    "\n",
    "$$\n",
    "   \\fbox{\\medspace\\enspace\\qquad\\quad\\qquad df\\_train\\_full \\ (80) \\qquad\\qquad\\quad\\enspace\\medspace}\n",
    "   \\fbox{\\quad df\\_test \\ (20) \\quad}\n",
    "$$\n",
    "\n",
    "$$\\Downarrow$$\n",
    "\n",
    "$$\n",
    "   \\fbox{\\medspace\\qquad\\quad df\\text{\\textunderscore}train \\ (60) \\quad\\quad\\medspace}\n",
    "   \\fbox{\\quad df\\_val \\ (20) \\quad}\n",
    "   \\fbox{\\quad df\\_test \\ (20) \\quad}\n",
    "$$"
   ]
  },
  {
   "cell_type": "code",
   "execution_count": 294,
   "metadata": {},
   "outputs": [
    {
     "name": "stdout",
     "output_type": "stream",
     "text": [
      "df (4454) => df_train_full (3563) + df_test (891)\n"
     ]
    }
   ],
   "source": [
    "df_train_full, df_test = train_test_split(df, test_size=0.2, random_state=11)\n",
    "print(\"df ({}) => df_train_full ({}) + df_test ({})\".format(len(df), len(df_train_full), len(df_test)))"
   ]
  },
  {
   "cell_type": "code",
   "execution_count": 295,
   "metadata": {},
   "outputs": [
    {
     "name": "stdout",
     "output_type": "stream",
     "text": [
      "df_train_full (3563) => df_train (2672) + df_val (891)\n"
     ]
    }
   ],
   "source": [
    "df_train, df_val = train_test_split(df_train_full, test_size=0.25, random_state=11)\n",
    "print(\"df_train_full ({}) => df_train ({}) + df_val ({})\".format(len(df_train_full), len(df_train), len(df_val)))"
   ]
  },
  {
   "cell_type": "code",
   "execution_count": 296,
   "metadata": {},
   "outputs": [
    {
     "name": "stdout",
     "output_type": "stream",
     "text": [
      "[df_train -> y_train] (2672) + [df_val -> y_val] (891)\n"
     ]
    }
   ],
   "source": [
    "y_train = (df_train.status == 'default').values\n",
    "y_val = (df_val.status == 'default').values\n",
    "\n",
    "del df_train['status']\n",
    "del df_val['status']\n",
    "\n",
    "print(\"[df_train -> y_train] ({}) + [df_val -> y_val] ({})\".format(len(y_train), len(y_val)))"
   ]
  },
  {
   "attachments": {},
   "cell_type": "markdown",
   "metadata": {},
   "source": [
    "For One-Hot Encoding, we'll use `DictVectorizer`"
   ]
  },
  {
   "cell_type": "code",
   "execution_count": 23,
   "metadata": {},
   "outputs": [],
   "source": [
    "from sklearn.feature_extraction import DictVectorizer"
   ]
  },
  {
   "cell_type": "code",
   "execution_count": 306,
   "metadata": {},
   "outputs": [],
   "source": [
    "dict_train = df_train.to_dict(orient='records')\n",
    "dict_val = df_val.to_dict(orient='records')"
   ]
  },
  {
   "cell_type": "code",
   "execution_count": 307,
   "metadata": {},
   "outputs": [
    {
     "data": {
      "text/plain": [
       "{'seniority': 10,\n",
       " 'home': 'owner',\n",
       " 'time': 36,\n",
       " 'age': 36,\n",
       " 'marital': 'married',\n",
       " 'records': 'no',\n",
       " 'job': 'freelance',\n",
       " 'expenses': 75,\n",
       " 'income': 0.0,\n",
       " 'assets': 10000.0,\n",
       " 'debt': 0.0,\n",
       " 'amount': 1000,\n",
       " 'price': 1400}"
      ]
     },
     "execution_count": 307,
     "metadata": {},
     "output_type": "execute_result"
    }
   ],
   "source": [
    "dict_train[0]"
   ]
  },
  {
   "cell_type": "code",
   "execution_count": 308,
   "metadata": {},
   "outputs": [],
   "source": [
    "dv = DictVectorizer(sparse=False)\n",
    "\n",
    "X_train = dv.fit_transform(dict_train)\n",
    "X_val = dv.transform(dict_val)"
   ]
  },
  {
   "cell_type": "code",
   "execution_count": 171,
   "metadata": {},
   "outputs": [
    {
     "data": {
      "text/plain": [
       "(pandas.core.frame.DataFrame, pandas.core.frame.DataFrame)"
      ]
     },
     "execution_count": 171,
     "metadata": {},
     "output_type": "execute_result"
    }
   ],
   "source": [
    "type(df_train_full), type(df_test)"
   ]
  },
  {
   "cell_type": "code",
   "execution_count": 175,
   "metadata": {},
   "outputs": [
    {
     "data": {
      "text/plain": [
       "(pandas.core.frame.DataFrame, pandas.core.frame.DataFrame)"
      ]
     },
     "execution_count": 175,
     "metadata": {},
     "output_type": "execute_result"
    }
   ],
   "source": [
    "type(df_train), type(df_val)"
   ]
  },
  {
   "cell_type": "code",
   "execution_count": 168,
   "metadata": {},
   "outputs": [
    {
     "data": {
      "text/plain": [
       "(numpy.ndarray, numpy.ndarray, numpy.ndarray, numpy.ndarray)"
      ]
     },
     "execution_count": 168,
     "metadata": {},
     "output_type": "execute_result"
    }
   ],
   "source": [
    "type(X_train), type(X_val), type(y_train), type(y_val)"
   ]
  },
  {
   "cell_type": "markdown",
   "metadata": {},
   "source": [
    "Now we're ready to train a model. We'll start with decision trees"
   ]
  },
  {
   "cell_type": "markdown",
   "metadata": {},
   "source": [
    "## Decision trees\n",
    "\n",
    "We'll use `DecisionTreeClassifier` and for evaluating the quality of our models, we'll use AUC\n"
   ]
  },
  {
   "cell_type": "code",
   "execution_count": 28,
   "metadata": {},
   "outputs": [],
   "source": [
    "from sklearn.tree import DecisionTreeClassifier\n",
    "from sklearn.feature_extraction import DictVectorizer\n",
    "from sklearn.metrics import roc_auc_score"
   ]
  },
  {
   "cell_type": "code",
   "execution_count": 29,
   "metadata": {},
   "outputs": [],
   "source": [
    "def assess_risk(client):\n",
    "    if client['records'] == 'yes':\n",
    "        if client['job'] == 'parttime':\n",
    "            return 'default'\n",
    "        else:\n",
    "            return 'ok'\n",
    "    else:\n",
    "        if client['assets'] > 6000:\n",
    "            return 'ok'\n",
    "        else:\n",
    "            return 'default'"
   ]
  },
  {
   "cell_type": "code",
   "execution_count": 30,
   "metadata": {},
   "outputs": [
    {
     "name": "stdout",
     "output_type": "stream",
     "text": [
      "{'age': 36,\n",
      " 'amount': 1000,\n",
      " 'assets': 10000.0,\n",
      " 'debt': 0.0,\n",
      " 'expenses': 75,\n",
      " 'home': 'owner',\n",
      " 'income': 0.0,\n",
      " 'job': 'freelance',\n",
      " 'marital': 'married',\n",
      " 'price': 1400,\n",
      " 'records': 'no',\n",
      " 'seniority': 10,\n",
      " 'time': 36}\n"
     ]
    }
   ],
   "source": [
    "x_i = df_train.iloc[0].to_dict()\n",
    "pprint(x_i)"
   ]
  },
  {
   "cell_type": "code",
   "execution_count": 31,
   "metadata": {},
   "outputs": [
    {
     "data": {
      "text/plain": [
       "'ok'"
      ]
     },
     "execution_count": 31,
     "metadata": {},
     "output_type": "execute_result"
    }
   ],
   "source": [
    "assess_risk(x_i)"
   ]
  },
  {
   "cell_type": "markdown",
   "metadata": {},
   "source": [
    "Let's fit the tree with default parameters"
   ]
  },
  {
   "cell_type": "code",
   "execution_count": 32,
   "metadata": {},
   "outputs": [
    {
     "data": {
      "text/html": [
       "<style>#sk-container-id-1 {color: black;background-color: white;}#sk-container-id-1 pre{padding: 0;}#sk-container-id-1 div.sk-toggleable {background-color: white;}#sk-container-id-1 label.sk-toggleable__label {cursor: pointer;display: block;width: 100%;margin-bottom: 0;padding: 0.3em;box-sizing: border-box;text-align: center;}#sk-container-id-1 label.sk-toggleable__label-arrow:before {content: \"▸\";float: left;margin-right: 0.25em;color: #696969;}#sk-container-id-1 label.sk-toggleable__label-arrow:hover:before {color: black;}#sk-container-id-1 div.sk-estimator:hover label.sk-toggleable__label-arrow:before {color: black;}#sk-container-id-1 div.sk-toggleable__content {max-height: 0;max-width: 0;overflow: hidden;text-align: left;background-color: #f0f8ff;}#sk-container-id-1 div.sk-toggleable__content pre {margin: 0.2em;color: black;border-radius: 0.25em;background-color: #f0f8ff;}#sk-container-id-1 input.sk-toggleable__control:checked~div.sk-toggleable__content {max-height: 200px;max-width: 100%;overflow: auto;}#sk-container-id-1 input.sk-toggleable__control:checked~label.sk-toggleable__label-arrow:before {content: \"▾\";}#sk-container-id-1 div.sk-estimator input.sk-toggleable__control:checked~label.sk-toggleable__label {background-color: #d4ebff;}#sk-container-id-1 div.sk-label input.sk-toggleable__control:checked~label.sk-toggleable__label {background-color: #d4ebff;}#sk-container-id-1 input.sk-hidden--visually {border: 0;clip: rect(1px 1px 1px 1px);clip: rect(1px, 1px, 1px, 1px);height: 1px;margin: -1px;overflow: hidden;padding: 0;position: absolute;width: 1px;}#sk-container-id-1 div.sk-estimator {font-family: monospace;background-color: #f0f8ff;border: 1px dotted black;border-radius: 0.25em;box-sizing: border-box;margin-bottom: 0.5em;}#sk-container-id-1 div.sk-estimator:hover {background-color: #d4ebff;}#sk-container-id-1 div.sk-parallel-item::after {content: \"\";width: 100%;border-bottom: 1px solid gray;flex-grow: 1;}#sk-container-id-1 div.sk-label:hover label.sk-toggleable__label {background-color: #d4ebff;}#sk-container-id-1 div.sk-serial::before {content: \"\";position: absolute;border-left: 1px solid gray;box-sizing: border-box;top: 0;bottom: 0;left: 50%;z-index: 0;}#sk-container-id-1 div.sk-serial {display: flex;flex-direction: column;align-items: center;background-color: white;padding-right: 0.2em;padding-left: 0.2em;position: relative;}#sk-container-id-1 div.sk-item {position: relative;z-index: 1;}#sk-container-id-1 div.sk-parallel {display: flex;align-items: stretch;justify-content: center;background-color: white;position: relative;}#sk-container-id-1 div.sk-item::before, #sk-container-id-1 div.sk-parallel-item::before {content: \"\";position: absolute;border-left: 1px solid gray;box-sizing: border-box;top: 0;bottom: 0;left: 50%;z-index: -1;}#sk-container-id-1 div.sk-parallel-item {display: flex;flex-direction: column;z-index: 1;position: relative;background-color: white;}#sk-container-id-1 div.sk-parallel-item:first-child::after {align-self: flex-end;width: 50%;}#sk-container-id-1 div.sk-parallel-item:last-child::after {align-self: flex-start;width: 50%;}#sk-container-id-1 div.sk-parallel-item:only-child::after {width: 0;}#sk-container-id-1 div.sk-dashed-wrapped {border: 1px dashed gray;margin: 0 0.4em 0.5em 0.4em;box-sizing: border-box;padding-bottom: 0.4em;background-color: white;}#sk-container-id-1 div.sk-label label {font-family: monospace;font-weight: bold;display: inline-block;line-height: 1.2em;}#sk-container-id-1 div.sk-label-container {text-align: center;}#sk-container-id-1 div.sk-container {/* jupyter's `normalize.less` sets `[hidden] { display: none; }` but bootstrap.min.css set `[hidden] { display: none !important; }` so we also need the `!important` here to be able to override the default hidden behavior on the sphinx rendered scikit-learn.org. See: https://github.com/scikit-learn/scikit-learn/issues/21755 */display: inline-block !important;position: relative;}#sk-container-id-1 div.sk-text-repr-fallback {display: none;}</style><div id=\"sk-container-id-1\" class=\"sk-top-container\"><div class=\"sk-text-repr-fallback\"><pre>DecisionTreeClassifier()</pre><b>In a Jupyter environment, please rerun this cell to show the HTML representation or trust the notebook. <br />On GitHub, the HTML representation is unable to render, please try loading this page with nbviewer.org.</b></div><div class=\"sk-container\" hidden><div class=\"sk-item\"><div class=\"sk-estimator sk-toggleable\"><input class=\"sk-toggleable__control sk-hidden--visually\" id=\"sk-estimator-id-1\" type=\"checkbox\" checked><label for=\"sk-estimator-id-1\" class=\"sk-toggleable__label sk-toggleable__label-arrow\">DecisionTreeClassifier</label><div class=\"sk-toggleable__content\"><pre>DecisionTreeClassifier()</pre></div></div></div></div></div>"
      ],
      "text/plain": [
       "DecisionTreeClassifier()"
      ]
     },
     "execution_count": 32,
     "metadata": {},
     "output_type": "execute_result"
    }
   ],
   "source": [
    "dt = DecisionTreeClassifier()\n",
    "dt.fit(X_train, y_train)"
   ]
  },
  {
   "attachments": {},
   "cell_type": "markdown",
   "metadata": {},
   "source": [
    "To get the predictions (probabilities), we use `predict_proba`. Let's check AUC on validation data:"
   ]
  },
  {
   "cell_type": "code",
   "execution_count": 33,
   "metadata": {},
   "outputs": [
    {
     "data": {
      "text/plain": [
       "0.6437419776706789"
      ]
     },
     "execution_count": 33,
     "metadata": {},
     "output_type": "execute_result"
    }
   ],
   "source": [
    "y_pred = dt.predict_proba(X_val)[:, 1]\n",
    "roc_auc_score(y_val, y_pred)"
   ]
  },
  {
   "attachments": {},
   "cell_type": "markdown",
   "metadata": {},
   "source": [
    "And on train data:"
   ]
  },
  {
   "cell_type": "code",
   "execution_count": 34,
   "metadata": {
    "scrolled": true
   },
   "outputs": [
    {
     "data": {
      "text/plain": [
       "1.0"
      ]
     },
     "execution_count": 34,
     "metadata": {},
     "output_type": "execute_result"
    }
   ],
   "source": [
    "y_pred = dt.predict_proba(X_train)[:, 1]\n",
    "roc_auc_score(y_train, y_pred)"
   ]
  },
  {
   "cell_type": "markdown",
   "metadata": {},
   "source": [
    "That's a case of _overfitting_ - our model on the training data performs perfectly, but fails on validation\n",
    "\n",
    "Let's change the depth parameter: restring the size of the tree to 2 levels:"
   ]
  },
  {
   "cell_type": "code",
   "execution_count": 35,
   "metadata": {},
   "outputs": [],
   "source": [
    "from sklearn.tree import export_text"
   ]
  },
  {
   "cell_type": "code",
   "execution_count": 36,
   "metadata": {
    "scrolled": true
   },
   "outputs": [
    {
     "name": "stdout",
     "output_type": "stream",
     "text": [
      "train auc: 0.705\n",
      "val auc: 0.669\n"
     ]
    }
   ],
   "source": [
    "dt = DecisionTreeClassifier(max_depth=2)\n",
    "dt.fit(X_train, y_train)\n",
    "\n",
    "y_pred = dt.predict_proba(X_train)[:, 1]\n",
    "auc = roc_auc_score(y_train, y_pred)\n",
    "print(f\"train auc: {auc:.3f}\")\n",
    "\n",
    "y_pred = dt.predict_proba(X_val)[:, 1]\n",
    "auc = roc_auc_score(y_val, y_pred)\n",
    "print(f\"val auc: {auc:.3f}\")"
   ]
  },
  {
   "cell_type": "code",
   "execution_count": 37,
   "metadata": {},
   "outputs": [
    {
     "name": "stdout",
     "output_type": "stream",
     "text": [
      "|--- records=yes <= 0.50\n",
      "|   |--- job=partime <= 0.50\n",
      "|   |   |--- class: False\n",
      "|   |--- job=partime >  0.50\n",
      "|   |   |--- class: True\n",
      "|--- records=yes >  0.50\n",
      "|   |--- seniority <= 6.50\n",
      "|   |   |--- class: True\n",
      "|   |--- seniority >  6.50\n",
      "|   |   |--- class: False\n",
      "\n"
     ]
    }
   ],
   "source": [
    "print(export_text(dt, feature_names=dv.feature_names_))"
   ]
  },
  {
   "attachments": {},
   "cell_type": "markdown",
   "metadata": {},
   "source": [
    "#### Finding the best split.\n",
    "Common measures of impurity are Gini, Entropy => Information Gain, and Misclassification Rate.\n",
    "\n",
    "**Desision tree learning algorithm:**\n",
    "- Find the best split.\n",
    "- Stopping criteria preventing from overfitting when:\n",
    "    - Group already pure.\n",
    "    - Tree reached depth limit.\n",
    "    - Group too small to split."
   ]
  },
  {
   "cell_type": "code",
   "execution_count": 38,
   "metadata": {},
   "outputs": [
    {
     "data": {
      "text/html": [
       "<div>\n",
       "<style scoped>\n",
       "    .dataframe tbody tr th:only-of-type {\n",
       "        vertical-align: middle;\n",
       "    }\n",
       "\n",
       "    .dataframe tbody tr th {\n",
       "        vertical-align: top;\n",
       "    }\n",
       "\n",
       "    .dataframe thead th {\n",
       "        text-align: right;\n",
       "    }\n",
       "</style>\n",
       "<table border=\"1\" class=\"dataframe\">\n",
       "  <thead>\n",
       "    <tr style=\"text-align: right;\">\n",
       "      <th></th>\n",
       "      <th>assets</th>\n",
       "      <th>status</th>\n",
       "    </tr>\n",
       "  </thead>\n",
       "  <tbody>\n",
       "    <tr>\n",
       "      <th>0</th>\n",
       "      <td>8000</td>\n",
       "      <td>default</td>\n",
       "    </tr>\n",
       "    <tr>\n",
       "      <th>1</th>\n",
       "      <td>2000</td>\n",
       "      <td>default</td>\n",
       "    </tr>\n",
       "    <tr>\n",
       "      <th>2</th>\n",
       "      <td>0</td>\n",
       "      <td>default</td>\n",
       "    </tr>\n",
       "    <tr>\n",
       "      <th>3</th>\n",
       "      <td>5000</td>\n",
       "      <td>ok</td>\n",
       "    </tr>\n",
       "    <tr>\n",
       "      <th>4</th>\n",
       "      <td>5000</td>\n",
       "      <td>ok</td>\n",
       "    </tr>\n",
       "    <tr>\n",
       "      <th>5</th>\n",
       "      <td>4000</td>\n",
       "      <td>ok</td>\n",
       "    </tr>\n",
       "    <tr>\n",
       "      <th>6</th>\n",
       "      <td>9000</td>\n",
       "      <td>ok</td>\n",
       "    </tr>\n",
       "    <tr>\n",
       "      <th>7</th>\n",
       "      <td>3000</td>\n",
       "      <td>default</td>\n",
       "    </tr>\n",
       "  </tbody>\n",
       "</table>\n",
       "</div>"
      ],
      "text/plain": [
       "   assets   status\n",
       "0    8000  default\n",
       "1    2000  default\n",
       "2       0  default\n",
       "3    5000       ok\n",
       "4    5000       ok\n",
       "5    4000       ok\n",
       "6    9000       ok\n",
       "7    3000  default"
      ]
     },
     "execution_count": 38,
     "metadata": {},
     "output_type": "execute_result"
    }
   ],
   "source": [
    "data = [\n",
    "    [8000, 'default'],\n",
    "    [2000, 'default'],\n",
    "    [   0, 'default'],\n",
    "    [5000, 'ok'],\n",
    "    [5000, 'ok'],\n",
    "    [4000, 'ok'],\n",
    "    [9000, 'ok'],\n",
    "    [3000, 'default'],\n",
    "]\n",
    "\n",
    "df_example = pd.DataFrame(data, columns=['assets', 'status'])\n",
    "df_example"
   ]
  },
  {
   "cell_type": "code",
   "execution_count": 39,
   "metadata": {},
   "outputs": [
    {
     "data": {
      "text/html": [
       "<div>\n",
       "<style scoped>\n",
       "    .dataframe tbody tr th:only-of-type {\n",
       "        vertical-align: middle;\n",
       "    }\n",
       "\n",
       "    .dataframe tbody tr th {\n",
       "        vertical-align: top;\n",
       "    }\n",
       "\n",
       "    .dataframe thead th {\n",
       "        text-align: right;\n",
       "    }\n",
       "</style>\n",
       "<table border=\"1\" class=\"dataframe\">\n",
       "  <thead>\n",
       "    <tr style=\"text-align: right;\">\n",
       "      <th></th>\n",
       "      <th>assets</th>\n",
       "      <th>status</th>\n",
       "    </tr>\n",
       "  </thead>\n",
       "  <tbody>\n",
       "    <tr>\n",
       "      <th>2</th>\n",
       "      <td>0</td>\n",
       "      <td>default</td>\n",
       "    </tr>\n",
       "    <tr>\n",
       "      <th>1</th>\n",
       "      <td>2000</td>\n",
       "      <td>default</td>\n",
       "    </tr>\n",
       "    <tr>\n",
       "      <th>7</th>\n",
       "      <td>3000</td>\n",
       "      <td>default</td>\n",
       "    </tr>\n",
       "    <tr>\n",
       "      <th>5</th>\n",
       "      <td>4000</td>\n",
       "      <td>ok</td>\n",
       "    </tr>\n",
       "    <tr>\n",
       "      <th>3</th>\n",
       "      <td>5000</td>\n",
       "      <td>ok</td>\n",
       "    </tr>\n",
       "    <tr>\n",
       "      <th>4</th>\n",
       "      <td>5000</td>\n",
       "      <td>ok</td>\n",
       "    </tr>\n",
       "    <tr>\n",
       "      <th>0</th>\n",
       "      <td>8000</td>\n",
       "      <td>default</td>\n",
       "    </tr>\n",
       "    <tr>\n",
       "      <th>6</th>\n",
       "      <td>9000</td>\n",
       "      <td>ok</td>\n",
       "    </tr>\n",
       "  </tbody>\n",
       "</table>\n",
       "</div>"
      ],
      "text/plain": [
       "   assets   status\n",
       "2       0  default\n",
       "1    2000  default\n",
       "7    3000  default\n",
       "5    4000       ok\n",
       "3    5000       ok\n",
       "4    5000       ok\n",
       "0    8000  default\n",
       "6    9000       ok"
      ]
     },
     "execution_count": 39,
     "metadata": {},
     "output_type": "execute_result"
    }
   ],
   "source": [
    "df_example.sort_values('assets')"
   ]
  },
  {
   "cell_type": "code",
   "execution_count": 40,
   "metadata": {},
   "outputs": [],
   "source": [
    "from IPython.display import display"
   ]
  },
  {
   "cell_type": "code",
   "execution_count": 41,
   "metadata": {},
   "outputs": [
    {
     "name": "stdout",
     "output_type": "stream",
     "text": [
      "assets (0):\n",
      "   assets   status\n",
      "2       0  default\n",
      "\n",
      "default    1.0\n",
      "Name: status, dtype: float64\n",
      "\n",
      "   assets   status\n",
      "0    8000  default\n",
      "1    2000  default\n",
      "3    5000       ok\n",
      "4    5000       ok\n",
      "5    4000       ok\n",
      "6    9000       ok\n",
      "7    3000  default\n",
      "\n",
      "ok         0.571429\n",
      "default    0.428571\n",
      "Name: status, dtype: float64\n",
      "-------------------------\n",
      "assets (2000):\n",
      "   assets   status\n",
      "1    2000  default\n",
      "2       0  default\n",
      "\n",
      "default    1.0\n",
      "Name: status, dtype: float64\n",
      "\n",
      "   assets   status\n",
      "0    8000  default\n",
      "3    5000       ok\n",
      "4    5000       ok\n",
      "5    4000       ok\n",
      "6    9000       ok\n",
      "7    3000  default\n",
      "\n",
      "ok         0.666667\n",
      "default    0.333333\n",
      "Name: status, dtype: float64\n",
      "-------------------------\n",
      "assets (3000):\n",
      "   assets   status\n",
      "1    2000  default\n",
      "2       0  default\n",
      "7    3000  default\n",
      "\n",
      "default    1.0\n",
      "Name: status, dtype: float64\n",
      "\n",
      "   assets   status\n",
      "0    8000  default\n",
      "3    5000       ok\n",
      "4    5000       ok\n",
      "5    4000       ok\n",
      "6    9000       ok\n",
      "\n",
      "ok         0.8\n",
      "default    0.2\n",
      "Name: status, dtype: float64\n",
      "-------------------------\n",
      "assets (4000):\n",
      "   assets   status\n",
      "1    2000  default\n",
      "2       0  default\n",
      "5    4000       ok\n",
      "7    3000  default\n",
      "\n",
      "default    0.75\n",
      "ok         0.25\n",
      "Name: status, dtype: float64\n",
      "\n",
      "   assets   status\n",
      "0    8000  default\n",
      "3    5000       ok\n",
      "4    5000       ok\n",
      "6    9000       ok\n",
      "\n",
      "ok         0.75\n",
      "default    0.25\n",
      "Name: status, dtype: float64\n",
      "-------------------------\n",
      "assets (5000):\n",
      "   assets   status\n",
      "1    2000  default\n",
      "2       0  default\n",
      "3    5000       ok\n",
      "4    5000       ok\n",
      "5    4000       ok\n",
      "7    3000  default\n",
      "\n",
      "default    0.5\n",
      "ok         0.5\n",
      "Name: status, dtype: float64\n",
      "\n",
      "   assets   status\n",
      "0    8000  default\n",
      "6    9000       ok\n",
      "\n",
      "default    0.5\n",
      "ok         0.5\n",
      "Name: status, dtype: float64\n",
      "-------------------------\n",
      "assets (8000):\n",
      "   assets   status\n",
      "0    8000  default\n",
      "1    2000  default\n",
      "2       0  default\n",
      "3    5000       ok\n",
      "4    5000       ok\n",
      "5    4000       ok\n",
      "7    3000  default\n",
      "\n",
      "default    0.571429\n",
      "ok         0.428571\n",
      "Name: status, dtype: float64\n",
      "\n",
      "   assets status\n",
      "6    9000     ok\n",
      "\n",
      "ok    1.0\n",
      "Name: status, dtype: float64\n",
      "-------------------------\n"
     ]
    }
   ],
   "source": [
    "Ts = [0, 2000, 3000, 4000, 5000, 8000]\n",
    "\n",
    "for T in Ts:\n",
    "    df_left = df_example[df_example.assets <= T]\n",
    "    df_right = df_example[df_example.assets > T]\n",
    "    print(f\"assets ({T}):\")\n",
    "    print(df_left)\n",
    "    print()\n",
    "    print(df_left.status.value_counts(normalize=True))\n",
    "    print()\n",
    "    print(df_right)\n",
    "    print()\n",
    "    print(df_right.status.value_counts(normalize=True))\n",
    "    print(\"-\"*25)"
   ]
  },
  {
   "attachments": {},
   "cell_type": "markdown",
   "metadata": {},
   "source": [
    "T | Decision Left | Impurity Left | Decision Right | Impurity Right | AVG\n",
    "---: | ---: | ---: | ---: | ---: | ---:\n",
    "0 | default | 0% | ok | 43% | 21%\n",
    "2000 | default | 0% | ok | 33% | 16%\n",
    "3000 | default | 0% | ok | 20% | 10%\n",
    "4000 | default | 25% | ok | 25% | 25%\n",
    "5000 | default | 50% | ok | 50% | 25%\n",
    "8000 | default | 43% | ok | 0% | 21%\n",
    "\n",
    "Best Split: T = 3000, Impurity (Misclassification Rate) = 10%"
   ]
  },
  {
   "cell_type": "code",
   "execution_count": 42,
   "metadata": {},
   "outputs": [
    {
     "data": {
      "text/html": [
       "<div>\n",
       "<style scoped>\n",
       "    .dataframe tbody tr th:only-of-type {\n",
       "        vertical-align: middle;\n",
       "    }\n",
       "\n",
       "    .dataframe tbody tr th {\n",
       "        vertical-align: top;\n",
       "    }\n",
       "\n",
       "    .dataframe thead th {\n",
       "        text-align: right;\n",
       "    }\n",
       "</style>\n",
       "<table border=\"1\" class=\"dataframe\">\n",
       "  <thead>\n",
       "    <tr style=\"text-align: right;\">\n",
       "      <th></th>\n",
       "      <th>assets</th>\n",
       "      <th>debt</th>\n",
       "      <th>status</th>\n",
       "    </tr>\n",
       "  </thead>\n",
       "  <tbody>\n",
       "    <tr>\n",
       "      <th>0</th>\n",
       "      <td>8000</td>\n",
       "      <td>3000</td>\n",
       "      <td>default</td>\n",
       "    </tr>\n",
       "    <tr>\n",
       "      <th>1</th>\n",
       "      <td>2000</td>\n",
       "      <td>1000</td>\n",
       "      <td>default</td>\n",
       "    </tr>\n",
       "    <tr>\n",
       "      <th>2</th>\n",
       "      <td>0</td>\n",
       "      <td>1000</td>\n",
       "      <td>default</td>\n",
       "    </tr>\n",
       "    <tr>\n",
       "      <th>3</th>\n",
       "      <td>5000</td>\n",
       "      <td>1000</td>\n",
       "      <td>ok</td>\n",
       "    </tr>\n",
       "    <tr>\n",
       "      <th>4</th>\n",
       "      <td>5000</td>\n",
       "      <td>1000</td>\n",
       "      <td>ok</td>\n",
       "    </tr>\n",
       "    <tr>\n",
       "      <th>5</th>\n",
       "      <td>4000</td>\n",
       "      <td>1000</td>\n",
       "      <td>ok</td>\n",
       "    </tr>\n",
       "    <tr>\n",
       "      <th>6</th>\n",
       "      <td>9000</td>\n",
       "      <td>500</td>\n",
       "      <td>ok</td>\n",
       "    </tr>\n",
       "    <tr>\n",
       "      <th>7</th>\n",
       "      <td>3000</td>\n",
       "      <td>2000</td>\n",
       "      <td>default</td>\n",
       "    </tr>\n",
       "  </tbody>\n",
       "</table>\n",
       "</div>"
      ],
      "text/plain": [
       "   assets  debt   status\n",
       "0    8000  3000  default\n",
       "1    2000  1000  default\n",
       "2       0  1000  default\n",
       "3    5000  1000       ok\n",
       "4    5000  1000       ok\n",
       "5    4000  1000       ok\n",
       "6    9000   500       ok\n",
       "7    3000  2000  default"
      ]
     },
     "execution_count": 42,
     "metadata": {},
     "output_type": "execute_result"
    }
   ],
   "source": [
    "data = [\n",
    "    [8000, 3000, 'default'],\n",
    "    [2000, 1000, 'default'],\n",
    "    [   0, 1000, 'default'],\n",
    "    [5000, 1000, 'ok'],\n",
    "    [5000, 1000, 'ok'],\n",
    "    [4000, 1000, 'ok'],\n",
    "    [9000,  500, 'ok'],\n",
    "    [3000, 2000, 'default'],\n",
    "]\n",
    "\n",
    "df_example = pd.DataFrame(data, columns=['assets', 'debt', 'status'])\n",
    "df_example"
   ]
  },
  {
   "cell_type": "code",
   "execution_count": 43,
   "metadata": {},
   "outputs": [
    {
     "data": {
      "text/html": [
       "<div>\n",
       "<style scoped>\n",
       "    .dataframe tbody tr th:only-of-type {\n",
       "        vertical-align: middle;\n",
       "    }\n",
       "\n",
       "    .dataframe tbody tr th {\n",
       "        vertical-align: top;\n",
       "    }\n",
       "\n",
       "    .dataframe thead th {\n",
       "        text-align: right;\n",
       "    }\n",
       "</style>\n",
       "<table border=\"1\" class=\"dataframe\">\n",
       "  <thead>\n",
       "    <tr style=\"text-align: right;\">\n",
       "      <th></th>\n",
       "      <th>assets</th>\n",
       "      <th>debt</th>\n",
       "      <th>status</th>\n",
       "    </tr>\n",
       "  </thead>\n",
       "  <tbody>\n",
       "    <tr>\n",
       "      <th>6</th>\n",
       "      <td>9000</td>\n",
       "      <td>500</td>\n",
       "      <td>ok</td>\n",
       "    </tr>\n",
       "    <tr>\n",
       "      <th>1</th>\n",
       "      <td>2000</td>\n",
       "      <td>1000</td>\n",
       "      <td>default</td>\n",
       "    </tr>\n",
       "    <tr>\n",
       "      <th>2</th>\n",
       "      <td>0</td>\n",
       "      <td>1000</td>\n",
       "      <td>default</td>\n",
       "    </tr>\n",
       "    <tr>\n",
       "      <th>3</th>\n",
       "      <td>5000</td>\n",
       "      <td>1000</td>\n",
       "      <td>ok</td>\n",
       "    </tr>\n",
       "    <tr>\n",
       "      <th>4</th>\n",
       "      <td>5000</td>\n",
       "      <td>1000</td>\n",
       "      <td>ok</td>\n",
       "    </tr>\n",
       "    <tr>\n",
       "      <th>5</th>\n",
       "      <td>4000</td>\n",
       "      <td>1000</td>\n",
       "      <td>ok</td>\n",
       "    </tr>\n",
       "    <tr>\n",
       "      <th>7</th>\n",
       "      <td>3000</td>\n",
       "      <td>2000</td>\n",
       "      <td>default</td>\n",
       "    </tr>\n",
       "    <tr>\n",
       "      <th>0</th>\n",
       "      <td>8000</td>\n",
       "      <td>3000</td>\n",
       "      <td>default</td>\n",
       "    </tr>\n",
       "  </tbody>\n",
       "</table>\n",
       "</div>"
      ],
      "text/plain": [
       "   assets  debt   status\n",
       "6    9000   500       ok\n",
       "1    2000  1000  default\n",
       "2       0  1000  default\n",
       "3    5000  1000       ok\n",
       "4    5000  1000       ok\n",
       "5    4000  1000       ok\n",
       "7    3000  2000  default\n",
       "0    8000  3000  default"
      ]
     },
     "execution_count": 43,
     "metadata": {},
     "output_type": "execute_result"
    }
   ],
   "source": [
    "df_example.sort_values('debt')"
   ]
  },
  {
   "cell_type": "code",
   "execution_count": 44,
   "metadata": {},
   "outputs": [
    {
     "name": "stdout",
     "output_type": "stream",
     "text": [
      "assets (0):\n",
      "   assets  debt   status\n",
      "2       0  1000  default\n",
      "\n",
      "default    1.0\n",
      "Name: status, dtype: float64\n",
      "\n",
      "   assets  debt   status\n",
      "0    8000  3000  default\n",
      "1    2000  1000  default\n",
      "3    5000  1000       ok\n",
      "4    5000  1000       ok\n",
      "5    4000  1000       ok\n",
      "6    9000   500       ok\n",
      "7    3000  2000  default\n",
      "\n",
      "ok         0.571429\n",
      "default    0.428571\n",
      "Name: status, dtype: float64\n",
      "-------------------------\n",
      "assets (2000):\n",
      "   assets  debt   status\n",
      "1    2000  1000  default\n",
      "2       0  1000  default\n",
      "\n",
      "default    1.0\n",
      "Name: status, dtype: float64\n",
      "\n",
      "   assets  debt   status\n",
      "0    8000  3000  default\n",
      "3    5000  1000       ok\n",
      "4    5000  1000       ok\n",
      "5    4000  1000       ok\n",
      "6    9000   500       ok\n",
      "7    3000  2000  default\n",
      "\n",
      "ok         0.666667\n",
      "default    0.333333\n",
      "Name: status, dtype: float64\n",
      "-------------------------\n",
      "assets (3000):\n",
      "   assets  debt   status\n",
      "1    2000  1000  default\n",
      "2       0  1000  default\n",
      "7    3000  2000  default\n",
      "\n",
      "default    1.0\n",
      "Name: status, dtype: float64\n",
      "\n",
      "   assets  debt   status\n",
      "0    8000  3000  default\n",
      "3    5000  1000       ok\n",
      "4    5000  1000       ok\n",
      "5    4000  1000       ok\n",
      "6    9000   500       ok\n",
      "\n",
      "ok         0.8\n",
      "default    0.2\n",
      "Name: status, dtype: float64\n",
      "-------------------------\n",
      "assets (4000):\n",
      "   assets  debt   status\n",
      "1    2000  1000  default\n",
      "2       0  1000  default\n",
      "5    4000  1000       ok\n",
      "7    3000  2000  default\n",
      "\n",
      "default    0.75\n",
      "ok         0.25\n",
      "Name: status, dtype: float64\n",
      "\n",
      "   assets  debt   status\n",
      "0    8000  3000  default\n",
      "3    5000  1000       ok\n",
      "4    5000  1000       ok\n",
      "6    9000   500       ok\n",
      "\n",
      "ok         0.75\n",
      "default    0.25\n",
      "Name: status, dtype: float64\n",
      "-------------------------\n",
      "assets (5000):\n",
      "   assets  debt   status\n",
      "1    2000  1000  default\n",
      "2       0  1000  default\n",
      "3    5000  1000       ok\n",
      "4    5000  1000       ok\n",
      "5    4000  1000       ok\n",
      "7    3000  2000  default\n",
      "\n",
      "default    0.5\n",
      "ok         0.5\n",
      "Name: status, dtype: float64\n",
      "\n",
      "   assets  debt   status\n",
      "0    8000  3000  default\n",
      "6    9000   500       ok\n",
      "\n",
      "default    0.5\n",
      "ok         0.5\n",
      "Name: status, dtype: float64\n",
      "-------------------------\n",
      "assets (8000):\n",
      "   assets  debt   status\n",
      "0    8000  3000  default\n",
      "1    2000  1000  default\n",
      "2       0  1000  default\n",
      "3    5000  1000       ok\n",
      "4    5000  1000       ok\n",
      "5    4000  1000       ok\n",
      "7    3000  2000  default\n",
      "\n",
      "default    0.571429\n",
      "ok         0.428571\n",
      "Name: status, dtype: float64\n",
      "\n",
      "   assets  debt status\n",
      "6    9000   500     ok\n",
      "\n",
      "ok    1.0\n",
      "Name: status, dtype: float64\n",
      "-------------------------\n",
      "debt (500):\n",
      "   assets  debt status\n",
      "6    9000   500     ok\n",
      "\n",
      "ok    1.0\n",
      "Name: status, dtype: float64\n",
      "\n",
      "   assets  debt   status\n",
      "0    8000  3000  default\n",
      "1    2000  1000  default\n",
      "2       0  1000  default\n",
      "3    5000  1000       ok\n",
      "4    5000  1000       ok\n",
      "5    4000  1000       ok\n",
      "7    3000  2000  default\n",
      "\n",
      "default    0.571429\n",
      "ok         0.428571\n",
      "Name: status, dtype: float64\n",
      "-------------------------\n",
      "debt (1000):\n",
      "   assets  debt   status\n",
      "1    2000  1000  default\n",
      "2       0  1000  default\n",
      "3    5000  1000       ok\n",
      "4    5000  1000       ok\n",
      "5    4000  1000       ok\n",
      "6    9000   500       ok\n",
      "\n",
      "ok         0.666667\n",
      "default    0.333333\n",
      "Name: status, dtype: float64\n",
      "\n",
      "   assets  debt   status\n",
      "0    8000  3000  default\n",
      "7    3000  2000  default\n",
      "\n",
      "default    1.0\n",
      "Name: status, dtype: float64\n",
      "-------------------------\n",
      "debt (2000):\n",
      "   assets  debt   status\n",
      "1    2000  1000  default\n",
      "2       0  1000  default\n",
      "3    5000  1000       ok\n",
      "4    5000  1000       ok\n",
      "5    4000  1000       ok\n",
      "6    9000   500       ok\n",
      "7    3000  2000  default\n",
      "\n",
      "ok         0.571429\n",
      "default    0.428571\n",
      "Name: status, dtype: float64\n",
      "\n",
      "   assets  debt   status\n",
      "0    8000  3000  default\n",
      "\n",
      "default    1.0\n",
      "Name: status, dtype: float64\n",
      "-------------------------\n"
     ]
    }
   ],
   "source": [
    "Thresholds = {\n",
    "    'assets': [0, 2000, 3000, 4000, 5000, 8000],\n",
    "    'debt': [500, 1000, 2000]\n",
    "} \n",
    "\n",
    "for feature, Ts in Thresholds.items():\n",
    "    for T in Ts:\n",
    "        df_left = df_example[df_example[feature] <= T]\n",
    "        df_right = df_example[df_example[feature] > T]\n",
    "        print(f\"{feature} ({T}):\")\n",
    "        print(df_left)\n",
    "        print()\n",
    "        print(df_left.status.value_counts(normalize=True))\n",
    "        print()\n",
    "        print(df_right)\n",
    "        print()\n",
    "        print(df_right.status.value_counts(normalize=True))\n",
    "        print(\"-\"*25)"
   ]
  },
  {
   "attachments": {},
   "cell_type": "markdown",
   "metadata": {},
   "source": [
    "Feature | T | Decision Left | Impurity Left | Decision Right | Impurity Right | AVG\n",
    "---: | ---: | ---: | ---: | ---: | ---: | ---:\n",
    "assets | 0 | default | 0% | ok | 43% | 21%\n",
    "assets | 2000 | default | 0% | ok | 33% | 16%\n",
    "assets | 3000 | default | 0% | ok | 20% | 10%\n",
    "assets | 4000 | default | 25% | ok | 25% | 25%\n",
    "assets | 5000 | default | 50% | ok | 50% | 25%\n",
    "assets | 8000 | default | 43% | ok | 0% | 21%\n",
    "dept | 500 | ok | 0% | default | 43% | 21%\n",
    "dept | 1000 | ok | 33% | default | 0% | 16%\n",
    "dept | 2000 | ok | 43% | default | 0% | 21%\n",
    "\n",
    "Best Split: T = 3000, Impurity (Misclassification Rate) = 10%"
   ]
  },
  {
   "attachments": {},
   "cell_type": "markdown",
   "metadata": {},
   "source": [
    "### Tuning parameters"
   ]
  },
  {
   "attachments": {},
   "cell_type": "markdown",
   "metadata": {},
   "source": [
    "<p align=\"center\">\n",
    "    <img src=\"https://4.bp.blogspot.com/-x-uiAbUSV1I/W_T2FrGUM2I/AAAAAAAAAf8/RzWPE3q94SkpUfdbNq8h5JmFdRnrsx-LQCLcBGAs/s1600/a.PNG\">\n",
    "</p>"
   ]
  },
  {
   "cell_type": "code",
   "execution_count": 89,
   "metadata": {},
   "outputs": [
    {
     "name": "stdout",
     "output_type": "stream",
     "text": [
      "   1 -> 0.606\n",
      "   2 -> 0.669\n",
      "   3 -> 0.739\n",
      "   4 -> 0.761\n",
      "   5 -> 0.766\n",
      "   6 -> 0.745\n",
      "  10 -> 0.710\n",
      "  15 -> 0.679\n",
      "  20 -> 0.656\n",
      "None -> 0.667\n"
     ]
    }
   ],
   "source": [
    "# Compare the max depth parameters looking for the best preformance.\n",
    "for d in [1, 2, 3, 4, 5, 6, 10, 15, 20, None]:\n",
    "    dt = DecisionTreeClassifier(max_depth=d)\n",
    "    dt.fit(X_train, y_train)\n",
    "    y_pred = dt.predict_proba(X_val)[:, 1]\n",
    "    auc = roc_auc_score(y_val, y_pred)\n",
    "    print('%4s -> %.3f' % (d, auc))"
   ]
  },
  {
   "cell_type": "code",
   "execution_count": 84,
   "metadata": {},
   "outputs": [
    {
     "name": "stdout",
     "output_type": "stream",
     "text": [
      "   1 -> 0.761\n",
      "   5 -> 0.761\n",
      "  10 -> 0.761\n",
      "  15 -> 0.764\n",
      "  20 -> 0.761\n",
      "  50 -> 0.753\n",
      " 100 -> 0.756\n",
      " 200 -> 0.747\n"
     ]
    }
   ],
   "source": [
    "# Compare minnimum samples leaf looking for the best performance.\n",
    "for m in [1, 5, 10, 15, 20, 50, 100, 200]:\n",
    "    dt = DecisionTreeClassifier(max_depth=4, min_samples_leaf=m)\n",
    "    dt.fit(X_train, y_train)\n",
    "    y_pred = dt.predict_proba(X_val)[:, 1]\n",
    "    auc = roc_auc_score(y_val, y_pred)\n",
    "    print('%4s -> %.3f' % (m, auc))"
   ]
  },
  {
   "cell_type": "code",
   "execution_count": 90,
   "metadata": {},
   "outputs": [
    {
     "name": "stdout",
     "output_type": "stream",
     "text": [
      "depth: (4)\n",
      "   1 -> 0.761\n",
      "   5 -> 0.761\n",
      "  10 -> 0.761\n",
      "  15 -> 0.764\n",
      "  20 -> 0.761\n",
      "  50 -> 0.753\n",
      " 100 -> 0.756\n",
      " 200 -> 0.747\n",
      "---------------\n",
      "depth: (5)\n",
      "   1 -> 0.766\n",
      "   5 -> 0.768\n",
      "  10 -> 0.762\n",
      "  15 -> 0.772\n",
      "  20 -> 0.774\n",
      "  50 -> 0.768\n",
      " 100 -> 0.763\n",
      " 200 -> 0.759\n",
      "---------------\n",
      "depth: (6)\n",
      "   1 -> 0.761\n",
      "   5 -> 0.763\n",
      "  10 -> 0.778\n",
      "  15 -> 0.785\n",
      "  20 -> 0.774\n",
      "  50 -> 0.772\n",
      " 100 -> 0.776\n",
      " 200 -> 0.768\n",
      "---------------\n"
     ]
    }
   ],
   "source": [
    "# We notice that the max depth = 6 with minumum leaf node = 15 provide the best performance. \n",
    "for d in [4, 5, 6]:\n",
    "    print('depth: (%s)' % d)\n",
    "\n",
    "    for m in [1, 5, 10, 15, 20, 50, 100, 200]:\n",
    "        dt = DecisionTreeClassifier(max_depth=d, min_samples_leaf=m)\n",
    "        dt.fit(X_train, y_train)\n",
    "        y_pred = dt.predict_proba(X_val)[:, 1]\n",
    "        auc = roc_auc_score(y_val, y_pred)\n",
    "        print('%4s -> %.3f' % (m, auc))\n",
    "    \n",
    "    print(\"-\"*15)"
   ]
  },
  {
   "cell_type": "code",
   "execution_count": 91,
   "metadata": {},
   "outputs": [
    {
     "data": {
      "text/html": [
       "<div>\n",
       "<style scoped>\n",
       "    .dataframe tbody tr th:only-of-type {\n",
       "        vertical-align: middle;\n",
       "    }\n",
       "\n",
       "    .dataframe tbody tr th {\n",
       "        vertical-align: top;\n",
       "    }\n",
       "\n",
       "    .dataframe thead th {\n",
       "        text-align: right;\n",
       "    }\n",
       "</style>\n",
       "<table border=\"1\" class=\"dataframe\">\n",
       "  <thead>\n",
       "    <tr style=\"text-align: right;\">\n",
       "      <th></th>\n",
       "      <th>max_depth</th>\n",
       "      <th>min_samples_leaf</th>\n",
       "      <th>auc</th>\n",
       "    </tr>\n",
       "  </thead>\n",
       "  <tbody>\n",
       "    <tr>\n",
       "      <th>0</th>\n",
       "      <td>4</td>\n",
       "      <td>1</td>\n",
       "      <td>0.761283</td>\n",
       "    </tr>\n",
       "    <tr>\n",
       "      <th>1</th>\n",
       "      <td>4</td>\n",
       "      <td>5</td>\n",
       "      <td>0.761283</td>\n",
       "    </tr>\n",
       "    <tr>\n",
       "      <th>2</th>\n",
       "      <td>4</td>\n",
       "      <td>10</td>\n",
       "      <td>0.761283</td>\n",
       "    </tr>\n",
       "    <tr>\n",
       "      <th>3</th>\n",
       "      <td>4</td>\n",
       "      <td>15</td>\n",
       "      <td>0.763726</td>\n",
       "    </tr>\n",
       "    <tr>\n",
       "      <th>4</th>\n",
       "      <td>4</td>\n",
       "      <td>20</td>\n",
       "      <td>0.760910</td>\n",
       "    </tr>\n",
       "    <tr>\n",
       "      <th>5</th>\n",
       "      <td>4</td>\n",
       "      <td>50</td>\n",
       "      <td>0.753457</td>\n",
       "    </tr>\n",
       "    <tr>\n",
       "      <th>6</th>\n",
       "      <td>4</td>\n",
       "      <td>100</td>\n",
       "      <td>0.755937</td>\n",
       "    </tr>\n",
       "    <tr>\n",
       "      <th>7</th>\n",
       "      <td>4</td>\n",
       "      <td>200</td>\n",
       "      <td>0.747260</td>\n",
       "    </tr>\n",
       "    <tr>\n",
       "      <th>8</th>\n",
       "      <td>5</td>\n",
       "      <td>1</td>\n",
       "      <td>0.766496</td>\n",
       "    </tr>\n",
       "    <tr>\n",
       "      <th>9</th>\n",
       "      <td>5</td>\n",
       "      <td>5</td>\n",
       "      <td>0.767755</td>\n",
       "    </tr>\n",
       "    <tr>\n",
       "      <th>10</th>\n",
       "      <td>5</td>\n",
       "      <td>10</td>\n",
       "      <td>0.762276</td>\n",
       "    </tr>\n",
       "    <tr>\n",
       "      <th>11</th>\n",
       "      <td>5</td>\n",
       "      <td>15</td>\n",
       "      <td>0.772405</td>\n",
       "    </tr>\n",
       "    <tr>\n",
       "      <th>12</th>\n",
       "      <td>5</td>\n",
       "      <td>20</td>\n",
       "      <td>0.773537</td>\n",
       "    </tr>\n",
       "    <tr>\n",
       "      <th>13</th>\n",
       "      <td>5</td>\n",
       "      <td>50</td>\n",
       "      <td>0.766753</td>\n",
       "    </tr>\n",
       "    <tr>\n",
       "      <th>14</th>\n",
       "      <td>5</td>\n",
       "      <td>100</td>\n",
       "      <td>0.763384</td>\n",
       "    </tr>\n",
       "    <tr>\n",
       "      <th>15</th>\n",
       "      <td>5</td>\n",
       "      <td>200</td>\n",
       "      <td>0.759073</td>\n",
       "    </tr>\n",
       "    <tr>\n",
       "      <th>16</th>\n",
       "      <td>6</td>\n",
       "      <td>1</td>\n",
       "      <td>0.743839</td>\n",
       "    </tr>\n",
       "    <tr>\n",
       "      <th>17</th>\n",
       "      <td>6</td>\n",
       "      <td>5</td>\n",
       "      <td>0.760290</td>\n",
       "    </tr>\n",
       "    <tr>\n",
       "      <th>18</th>\n",
       "      <td>6</td>\n",
       "      <td>10</td>\n",
       "      <td>0.778299</td>\n",
       "    </tr>\n",
       "    <tr>\n",
       "      <th>19</th>\n",
       "      <td>6</td>\n",
       "      <td>15</td>\n",
       "      <td>0.785095</td>\n",
       "    </tr>\n",
       "    <tr>\n",
       "      <th>20</th>\n",
       "      <td>6</td>\n",
       "      <td>20</td>\n",
       "      <td>0.774279</td>\n",
       "    </tr>\n",
       "    <tr>\n",
       "      <th>21</th>\n",
       "      <td>6</td>\n",
       "      <td>50</td>\n",
       "      <td>0.770289</td>\n",
       "    </tr>\n",
       "    <tr>\n",
       "      <th>22</th>\n",
       "      <td>6</td>\n",
       "      <td>100</td>\n",
       "      <td>0.776434</td>\n",
       "    </tr>\n",
       "    <tr>\n",
       "      <th>23</th>\n",
       "      <td>6</td>\n",
       "      <td>200</td>\n",
       "      <td>0.768267</td>\n",
       "    </tr>\n",
       "  </tbody>\n",
       "</table>\n",
       "</div>"
      ],
      "text/plain": [
       "    max_depth  min_samples_leaf       auc\n",
       "0           4                 1  0.761283\n",
       "1           4                 5  0.761283\n",
       "2           4                10  0.761283\n",
       "3           4                15  0.763726\n",
       "4           4                20  0.760910\n",
       "5           4                50  0.753457\n",
       "6           4               100  0.755937\n",
       "7           4               200  0.747260\n",
       "8           5                 1  0.766496\n",
       "9           5                 5  0.767755\n",
       "10          5                10  0.762276\n",
       "11          5                15  0.772405\n",
       "12          5                20  0.773537\n",
       "13          5                50  0.766753\n",
       "14          5               100  0.763384\n",
       "15          5               200  0.759073\n",
       "16          6                 1  0.743839\n",
       "17          6                 5  0.760290\n",
       "18          6                10  0.778299\n",
       "19          6                15  0.785095\n",
       "20          6                20  0.774279\n",
       "21          6                50  0.770289\n",
       "22          6               100  0.776434\n",
       "23          6               200  0.768267"
      ]
     },
     "execution_count": 91,
     "metadata": {},
     "output_type": "execute_result"
    }
   ],
   "source": [
    "scores = []\n",
    "\n",
    "for d in [4, 5, 6]:\n",
    "    for m in [1, 5, 10, 15, 20, 50, 100, 200]:\n",
    "        dt = DecisionTreeClassifier(max_depth=d, min_samples_leaf=m)\n",
    "        dt.fit(X_train, y_train)\n",
    "        y_pred = dt.predict_proba(X_val)[:, 1]\n",
    "        auc = roc_auc_score(y_val, y_pred)\n",
    "        scores.append((d, m, auc))\n",
    "\n",
    "columns = ['max_depth', 'min_samples_leaf', 'auc']\n",
    "df_scores = pd.DataFrame(scores, columns=columns)\n",
    "df_scores"
   ]
  },
  {
   "cell_type": "code",
   "execution_count": 94,
   "metadata": {},
   "outputs": [
    {
     "data": {
      "text/html": [
       "<div>\n",
       "<style scoped>\n",
       "    .dataframe tbody tr th:only-of-type {\n",
       "        vertical-align: middle;\n",
       "    }\n",
       "\n",
       "    .dataframe tbody tr th {\n",
       "        vertical-align: top;\n",
       "    }\n",
       "\n",
       "    .dataframe thead th {\n",
       "        text-align: right;\n",
       "    }\n",
       "</style>\n",
       "<table border=\"1\" class=\"dataframe\">\n",
       "  <thead>\n",
       "    <tr style=\"text-align: right;\">\n",
       "      <th></th>\n",
       "      <th>max_depth</th>\n",
       "      <th>min_samples_leaf</th>\n",
       "      <th>auc</th>\n",
       "    </tr>\n",
       "  </thead>\n",
       "  <tbody>\n",
       "    <tr>\n",
       "      <th>19</th>\n",
       "      <td>6</td>\n",
       "      <td>15</td>\n",
       "      <td>0.785095</td>\n",
       "    </tr>\n",
       "    <tr>\n",
       "      <th>18</th>\n",
       "      <td>6</td>\n",
       "      <td>10</td>\n",
       "      <td>0.778299</td>\n",
       "    </tr>\n",
       "    <tr>\n",
       "      <th>22</th>\n",
       "      <td>6</td>\n",
       "      <td>100</td>\n",
       "      <td>0.776434</td>\n",
       "    </tr>\n",
       "    <tr>\n",
       "      <th>20</th>\n",
       "      <td>6</td>\n",
       "      <td>20</td>\n",
       "      <td>0.774279</td>\n",
       "    </tr>\n",
       "    <tr>\n",
       "      <th>12</th>\n",
       "      <td>5</td>\n",
       "      <td>20</td>\n",
       "      <td>0.773537</td>\n",
       "    </tr>\n",
       "  </tbody>\n",
       "</table>\n",
       "</div>"
      ],
      "text/plain": [
       "    max_depth  min_samples_leaf       auc\n",
       "19          6                15  0.785095\n",
       "18          6                10  0.778299\n",
       "22          6               100  0.776434\n",
       "20          6                20  0.774279\n",
       "12          5                20  0.773537"
      ]
     },
     "execution_count": 94,
     "metadata": {},
     "output_type": "execute_result"
    }
   ],
   "source": [
    "df_scores.sort_values(by='auc', ascending=False).head()"
   ]
  },
  {
   "cell_type": "code",
   "execution_count": 101,
   "metadata": {},
   "outputs": [
    {
     "data": {
      "text/html": [
       "<div>\n",
       "<style scoped>\n",
       "    .dataframe tbody tr th:only-of-type {\n",
       "        vertical-align: middle;\n",
       "    }\n",
       "\n",
       "    .dataframe tbody tr th {\n",
       "        vertical-align: top;\n",
       "    }\n",
       "\n",
       "    .dataframe thead th {\n",
       "        text-align: right;\n",
       "    }\n",
       "</style>\n",
       "<table border=\"1\" class=\"dataframe\">\n",
       "  <thead>\n",
       "    <tr style=\"text-align: right;\">\n",
       "      <th>max_depth</th>\n",
       "      <th>4</th>\n",
       "      <th>5</th>\n",
       "      <th>6</th>\n",
       "    </tr>\n",
       "    <tr>\n",
       "      <th>min_samples_leaf</th>\n",
       "      <th></th>\n",
       "      <th></th>\n",
       "      <th></th>\n",
       "    </tr>\n",
       "  </thead>\n",
       "  <tbody>\n",
       "    <tr>\n",
       "      <th>1</th>\n",
       "      <td>0.761283</td>\n",
       "      <td>0.766496</td>\n",
       "      <td>0.743839</td>\n",
       "    </tr>\n",
       "    <tr>\n",
       "      <th>5</th>\n",
       "      <td>0.761283</td>\n",
       "      <td>0.767755</td>\n",
       "      <td>0.760290</td>\n",
       "    </tr>\n",
       "    <tr>\n",
       "      <th>10</th>\n",
       "      <td>0.761283</td>\n",
       "      <td>0.762276</td>\n",
       "      <td>0.778299</td>\n",
       "    </tr>\n",
       "    <tr>\n",
       "      <th>15</th>\n",
       "      <td>0.763726</td>\n",
       "      <td>0.772405</td>\n",
       "      <td>0.785095</td>\n",
       "    </tr>\n",
       "    <tr>\n",
       "      <th>20</th>\n",
       "      <td>0.760910</td>\n",
       "      <td>0.773537</td>\n",
       "      <td>0.774279</td>\n",
       "    </tr>\n",
       "    <tr>\n",
       "      <th>50</th>\n",
       "      <td>0.753457</td>\n",
       "      <td>0.766753</td>\n",
       "      <td>0.770289</td>\n",
       "    </tr>\n",
       "    <tr>\n",
       "      <th>100</th>\n",
       "      <td>0.755937</td>\n",
       "      <td>0.763384</td>\n",
       "      <td>0.776434</td>\n",
       "    </tr>\n",
       "    <tr>\n",
       "      <th>200</th>\n",
       "      <td>0.747260</td>\n",
       "      <td>0.759073</td>\n",
       "      <td>0.768267</td>\n",
       "    </tr>\n",
       "  </tbody>\n",
       "</table>\n",
       "</div>"
      ],
      "text/plain": [
       "max_depth                4         5         6\n",
       "min_samples_leaf                              \n",
       "1                 0.761283  0.766496  0.743839\n",
       "5                 0.761283  0.767755  0.760290\n",
       "10                0.761283  0.762276  0.778299\n",
       "15                0.763726  0.772405  0.785095\n",
       "20                0.760910  0.773537  0.774279\n",
       "50                0.753457  0.766753  0.770289\n",
       "100               0.755937  0.763384  0.776434\n",
       "200               0.747260  0.759073  0.768267"
      ]
     },
     "execution_count": 101,
     "metadata": {},
     "output_type": "execute_result"
    }
   ],
   "source": [
    "df_scores_pivot = df_scores.pivot(index='min_samples_leaf', columns='max_depth', values='auc')\n",
    "df_scores_pivot"
   ]
  },
  {
   "cell_type": "code",
   "execution_count": 124,
   "metadata": {},
   "outputs": [
    {
     "data": {
      "image/png": "[encoded data removed]",
      "text/plain": [
       "<Figure size 500x400 with 2 Axes>"
      ]
     },
     "metadata": {},
     "output_type": "display_data"
    }
   ],
   "source": [
    "plt.figure(figsize=(5,4))\n",
    "sns.heatmap(df_scores_pivot, annot=True, fmt='.3f', cmap='gray');"
   ]
  },
  {
   "cell_type": "code",
   "execution_count": 125,
   "metadata": {},
   "outputs": [
    {
     "data": {
      "text/plain": [
       "0.7848562640769174"
      ]
     },
     "execution_count": 125,
     "metadata": {},
     "output_type": "execute_result"
    }
   ],
   "source": [
    "dt = DecisionTreeClassifier(max_depth=6, min_samples_leaf=15)\n",
    "dt.fit(X_train, y_train)\n",
    "\n",
    "y_pred_dt = dt.predict_proba(X_val)[:, 1]\n",
    "roc_auc_score(y_val, y_pred_dt)"
   ]
  },
  {
   "cell_type": "code",
   "execution_count": 126,
   "metadata": {},
   "outputs": [],
   "source": [
    "from sklearn.metrics import roc_curve"
   ]
  },
  {
   "cell_type": "code",
   "execution_count": 129,
   "metadata": {},
   "outputs": [
    {
     "data": {
      "image/png": "[encoded data removed]",
      "text/plain": [
       "<Figure size 400x400 with 1 Axes>"
      ]
     },
     "metadata": {},
     "output_type": "display_data"
    }
   ],
   "source": [
    "fpr, tpr, _ = roc_curve(y_val, y_pred_dt)\n",
    "\n",
    "plt.figure(figsize=(4, 4))\n",
    "\n",
    "plt.plot(fpr, tpr, color='black')\n",
    "plt.plot([0, 1], [0, 1], color='black', lw=0.7, linestyle='dashed', alpha=0.5)\n",
    "\n",
    "plt.xlim([-0.02, 1.02])\n",
    "plt.ylim([-0.02, 1.02])\n",
    "plt.xlabel('False Positive Rate')\n",
    "plt.ylabel('True Positive Rate')\n",
    "\n",
    "plt.title('ROC curve')\n",
    "\n",
    "plt.show()"
   ]
  },
  {
   "attachments": {},
   "cell_type": "markdown",
   "metadata": {},
   "source": [
    "## Random Forest"
   ]
  },
  {
   "cell_type": "code",
   "execution_count": 140,
   "metadata": {},
   "outputs": [
    {
     "data": {
      "image/svg+xml": "<svg xmlns=\"http://www.w3.org/2000/svg\" xmlns:xlink=\"http://www.w3.org/1999/xlink\" version=\"1.1\" id=\"MAIN_GRAPHICS\" x=\"0px\" y=\"0px\" width=\"820px\" height=\"627.411px\" viewBox=\"0 0 820 627.411\" style=\"enable-background:new 0 0 820 627.411;\" xml:space=\"preserve\">\n<style type=\"text/css\">\n\t.st0{fill:#333333;}\n\t.st1{fill:#FFFFFF;}\n\t.st2{fill:#80BC00;}\n\t.st3{fill:#318DDE;}\n</style>\n<g>\n\t<g>\n\t\t<rect x=\"402.242\" y=\"47.023\" class=\"st0\" width=\"4.103\" height=\"32.706\"/>\n\t\t<g>\n\t\t\t<polygon class=\"st0\" points=\"410.43,77.933 404.293,88.56 398.157,77.933    \"/>\n\t\t</g>\n\t</g>\n</g>\n<rect x=\"330.225\" y=\"513.1\" class=\"st0\" width=\"148.137\" height=\"31.568\"/>\n<g>\n\t<path class=\"st1\" d=\"M343.388,524.765h7.942v1.707h-6.067v2.911h5.381v1.708h-5.381v4.345h-1.875V524.765z\"/>\n\t<path class=\"st1\" d=\"M354.437,524.765h1.875v10.671h-1.875V524.765z\"/>\n\t<path class=\"st1\" d=\"M360.106,524.765h1.738l5.716,7.378v-7.378h1.844v10.671h-1.57l-5.884-7.592v7.592h-1.844V524.765z\"/>\n\t<path class=\"st1\" d=\"M376.871,524.688h1.738l4.695,10.747h-1.981l-1.083-2.576h-5.045l-1.098,2.576h-1.92L376.871,524.688z    M379.554,531.197l-1.844-4.268l-1.829,4.268H379.554z\"/>\n\t<path class=\"st1\" d=\"M386.075,524.765h1.875v8.964h5.609v1.707h-7.484V524.765z\"/>\n\t<path class=\"st1\" d=\"M401.971,524.765h4.756c1.341,0,2.393,0.396,3.079,1.067c0.564,0.578,0.884,1.371,0.884,2.301v0.031   c0,1.753-1.052,2.805-2.53,3.231l2.881,4.04h-2.225l-2.622-3.72h-2.347v3.72h-1.875V524.765z M406.589,530.055   c1.341,0,2.195-0.701,2.195-1.784v-0.03c0-1.144-0.823-1.769-2.21-1.769h-2.729v3.583H406.589z\"/>\n\t<path class=\"st1\" d=\"M413.934,524.765h7.911v1.677h-6.036v2.774h5.351v1.677h-5.351v2.865h6.112v1.678h-7.987V524.765z\"/>\n\t<path class=\"st1\" d=\"M424.372,533.881l1.128-1.342c1.021,0.884,2.059,1.387,3.369,1.387c1.158,0,1.891-0.549,1.891-1.342v-0.029   c0-0.763-0.428-1.174-2.409-1.632c-2.271-0.549-3.552-1.22-3.552-3.186v-0.03c0-1.83,1.524-3.095,3.644-3.095   c1.555,0,2.789,0.472,3.872,1.341l-1.007,1.418c-0.96-0.717-1.92-1.098-2.896-1.098c-1.098,0-1.738,0.564-1.738,1.266v0.03   c0,0.823,0.488,1.188,2.546,1.677c2.256,0.549,3.414,1.357,3.414,3.125v0.03c0,1.997-1.569,3.187-3.811,3.187   C427.192,535.588,425.652,535.023,424.372,533.881z\"/>\n\t<path class=\"st1\" d=\"M435.62,530.908v-6.144h1.875v6.067c0,1.98,1.021,3.033,2.698,3.033c1.661,0,2.683-0.991,2.683-2.957v-6.144   h1.875v6.052c0,3.186-1.799,4.786-4.588,4.786C437.389,535.603,435.62,534.002,435.62,530.908z\"/>\n\t<path class=\"st1\" d=\"M448.27,524.765h1.875v8.964h5.609v1.707h-7.484V524.765z\"/>\n\t<path class=\"st1\" d=\"M459.746,526.502h-3.385v-1.737h8.659v1.737h-3.385v8.934h-1.89V526.502z\"/>\n</g>\n<path class=\"st0\" d=\"M561.01,458.051H247.577v-35.669H561.01V458.051z M251.679,453.949h305.229v-27.466H251.679V453.949z\"/>\n<g>\n\t<path class=\"st0\" d=\"M261.816,435.098h1.997l3.247,5.045l3.247-5.045h1.997v10.67h-1.875v-7.652l-3.369,5.03h-0.061l-3.338-4.999   v7.621h-1.844V435.098z\"/>\n\t<path class=\"st0\" d=\"M279.77,435.021h1.738l4.695,10.746h-1.981l-1.083-2.576h-5.045l-1.098,2.576h-1.92L279.77,435.021z    M282.452,441.53l-1.844-4.269l-1.829,4.269H282.452z\"/>\n\t<path class=\"st0\" d=\"M287.922,444.197l1.234-1.28c0.625,0.809,1.25,1.266,2.149,1.266c1.006,0,1.692-0.671,1.692-2.104v-6.981   h1.936v7.042c0,1.266-0.381,2.211-1.006,2.836s-1.524,0.944-2.591,0.944C289.69,445.92,288.623,445.158,287.922,444.197z\"/>\n\t<path class=\"st0\" d=\"M297.98,440.463v-0.03c0-3.003,2.317-5.519,5.594-5.519s5.564,2.485,5.564,5.488v0.03   c0,3.003-2.317,5.519-5.594,5.519S297.98,443.466,297.98,440.463z M307.172,440.463v-0.03c0-2.073-1.509-3.796-3.628-3.796   c-2.119,0-3.598,1.692-3.598,3.766v0.03c0,2.073,1.509,3.78,3.628,3.78C305.693,444.213,307.172,442.536,307.172,440.463z\"/>\n\t<path class=\"st0\" d=\"M312.352,435.098h4.756c1.341,0,2.393,0.396,3.079,1.066c0.564,0.579,0.884,1.372,0.884,2.302v0.031   c0,1.753-1.052,2.805-2.53,3.231l2.881,4.039h-2.226l-2.622-3.719h-2.347v3.719h-1.875V435.098z M316.97,440.387   c1.341,0,2.195-0.701,2.195-1.783v-0.03c0-1.144-0.823-1.769-2.21-1.769h-2.729v3.582H316.97z\"/>\n\t<path class=\"st0\" d=\"M324.422,435.098h1.875v10.67h-1.875V435.098z\"/>\n\t<path class=\"st0\" d=\"M332.713,436.835h-3.384v-1.737h8.658v1.737h-3.384v8.933h-1.89V436.835z\"/>\n\t<path class=\"st0\" d=\"M344.052,441.561l-4.238-6.463h2.226l2.973,4.71l3.018-4.71h2.149l-4.238,6.417v4.253h-1.89V441.561z\"/>\n\t<path class=\"st0\" d=\"M357.37,435.098h2.073l3.216,8.201l3.201-8.201h2.028l-4.421,10.746h-1.662L357.37,435.098z\"/>\n\t<path class=\"st0\" d=\"M369.517,440.463v-0.03c0-3.003,2.317-5.519,5.594-5.519s5.564,2.485,5.564,5.488v0.03   c0,3.003-2.317,5.519-5.594,5.519S369.517,443.466,369.517,440.463z M378.708,440.463v-0.03c0-2.073-1.509-3.796-3.628-3.796   c-2.119,0-3.598,1.692-3.598,3.766v0.03c0,2.073,1.509,3.78,3.628,3.78C377.23,444.213,378.708,442.536,378.708,440.463z\"/>\n\t<path class=\"st0\" d=\"M385.931,436.835h-3.384v-1.737h8.658v1.737h-3.384v8.933h-1.89V436.835z\"/>\n\t<path class=\"st0\" d=\"M394.236,435.098h1.875v10.67h-1.875V435.098z\"/>\n\t<path class=\"st0\" d=\"M399.905,435.098h1.738l5.716,7.378v-7.378h1.844v10.67h-1.57l-5.884-7.591v7.591h-1.844V435.098z\"/>\n\t<path class=\"st0\" d=\"M412.418,440.463v-0.03c0-2.987,2.286-5.519,5.503-5.519c1.859,0,3.003,0.519,4.101,1.448l-1.189,1.418   c-0.823-0.701-1.631-1.144-2.987-1.144c-1.967,0-3.46,1.723-3.46,3.766v0.03c0,2.195,1.447,3.811,3.628,3.811   c1.006,0,1.92-0.319,2.576-0.808v-1.997h-2.729v-1.631h4.542v4.481c-1.052,0.899-2.561,1.662-4.451,1.662   C414.613,445.951,412.418,443.572,412.418,440.463z\"/>\n\t<path class=\"st0\" d=\"M436.438,433.604h1.601l-6.89,14.115h-1.601L436.438,433.604z\"/>\n\t<path class=\"st0\" d=\"M449.483,435.021h1.737l4.695,10.746h-1.981l-1.082-2.576h-5.046l-1.098,2.576h-1.921L449.483,435.021z    M452.166,441.53l-1.845-4.269l-1.829,4.269H452.166z\"/>\n\t<path class=\"st0\" d=\"M456.248,435.098h2.073l3.217,8.201l3.201-8.201h2.027l-4.421,10.746h-1.661L456.248,435.098z\"/>\n\t<path class=\"st0\" d=\"M469.537,435.098h7.911v1.677h-6.036v2.774h5.351v1.677h-5.351v2.865h6.112v1.677h-7.987V435.098z\"/>\n\t<path class=\"st0\" d=\"M480.693,435.098h4.756c1.342,0,2.394,0.396,3.079,1.066c0.564,0.579,0.884,1.372,0.884,2.302v0.031   c0,1.753-1.052,2.805-2.53,3.231l2.881,4.039h-2.226l-2.621-3.719h-2.348v3.719h-1.875V435.098z M485.312,440.387   c1.342,0,2.195-0.701,2.195-1.783v-0.03c0-1.144-0.823-1.769-2.21-1.769h-2.729v3.582H485.312z\"/>\n\t<path class=\"st0\" d=\"M496.437,435.021h1.737l4.695,10.746h-1.981l-1.082-2.576h-5.046l-1.098,2.576h-1.921L496.437,435.021z    M499.119,441.53l-1.845-4.269l-1.829,4.269H499.119z\"/>\n\t<path class=\"st0\" d=\"M504.498,440.463v-0.03c0-2.987,2.286-5.519,5.503-5.519c1.859,0,3.003,0.519,4.101,1.448l-1.189,1.418   c-0.823-0.701-1.631-1.144-2.987-1.144c-1.967,0-3.46,1.723-3.46,3.766v0.03c0,2.195,1.447,3.811,3.628,3.811   c1.006,0,1.92-0.319,2.576-0.808v-1.997h-2.729v-1.631h4.542v4.481c-1.052,0.899-2.561,1.662-4.451,1.662   C506.693,445.951,504.498,443.572,504.498,440.463z\"/>\n\t<path class=\"st0\" d=\"M517.97,435.098h1.875v10.67h-1.875V435.098z\"/>\n\t<path class=\"st0\" d=\"M523.64,435.098h1.737l5.717,7.378v-7.378h1.845v10.67h-1.57l-5.884-7.591v7.591h-1.845V435.098z\"/>\n\t<path class=\"st0\" d=\"M536.15,440.463v-0.03c0-2.987,2.286-5.519,5.503-5.519c1.859,0,3.003,0.519,4.101,1.448l-1.189,1.418   c-0.823-0.701-1.631-1.144-2.987-1.144c-1.967,0-3.46,1.723-3.46,3.766v0.03c0,2.195,1.447,3.811,3.628,3.811   c1.006,0,1.92-0.319,2.576-0.808v-1.997h-2.729v-1.631h4.542v4.481c-1.052,0.899-2.561,1.662-4.451,1.662   C538.346,445.951,536.15,443.572,536.15,440.463z\"/>\n</g>\n<g>\n\t<path class=\"st0\" d=\"M73.596,279.144h3.273c2.639,0,4.462,1.811,4.462,4.174v0.024c0,2.363-1.823,4.198-4.462,4.198h-3.273V279.144   z M75.443,280.811v5.062h1.427c1.512,0,2.531-1.02,2.531-2.507v-0.024c0-1.487-1.02-2.531-2.531-2.531H75.443z\"/>\n\t<path class=\"st0\" d=\"M83.724,279.144h6.332v1.643h-4.497v1.703h3.957v1.643h-3.957v1.763h4.558v1.643h-6.393V279.144z\"/>\n\t<path class=\"st0\" d=\"M92.136,283.365v-0.024c0-2.387,1.799-4.341,4.378-4.341c1.583,0,2.53,0.527,3.31,1.295l-1.175,1.355   c-0.648-0.588-1.308-0.948-2.147-0.948c-1.415,0-2.435,1.175-2.435,2.615v0.024c0,1.439,0.996,2.639,2.435,2.639   c0.96,0,1.548-0.384,2.207-0.983l1.176,1.187c-0.864,0.924-1.823,1.5-3.442,1.5C93.971,287.683,92.136,285.776,92.136,283.365z\"/>\n\t<path class=\"st0\" d=\"M102.192,279.144h1.847v8.396h-1.847V279.144z\"/>\n\t<path class=\"st0\" d=\"M106.307,286.316l1.092-1.308c0.755,0.624,1.547,1.02,2.506,1.02c0.756,0,1.212-0.3,1.212-0.792v-0.024   c0-0.468-0.288-0.708-1.691-1.067c-1.69-0.432-2.782-0.899-2.782-2.567v-0.024c0-1.523,1.224-2.53,2.938-2.53   c1.224,0,2.267,0.384,3.118,1.067l-0.959,1.391c-0.744-0.516-1.476-0.828-2.184-0.828c-0.707,0-1.079,0.324-1.079,0.731v0.024   c0,0.551,0.359,0.731,1.812,1.103c1.702,0.444,2.662,1.056,2.662,2.519v0.024c0,1.667-1.271,2.603-3.082,2.603   C108.598,287.659,107.315,287.215,106.307,286.316z\"/>\n\t<path class=\"st0\" d=\"M115.391,279.144h1.847v8.396h-1.847V279.144z\"/>\n\t<path class=\"st0\" d=\"M119.711,283.365v-0.024c0-2.387,1.883-4.341,4.474-4.341s4.449,1.931,4.449,4.317v0.024   c0,2.387-1.883,4.342-4.474,4.342C121.571,287.683,119.711,285.752,119.711,283.365z M126.704,283.365v-0.024   c0-1.439-1.056-2.639-2.543-2.639s-2.519,1.175-2.519,2.615v0.024c0,1.439,1.056,2.639,2.543,2.639   S126.704,284.805,126.704,283.365z\"/>\n\t<path class=\"st0\" d=\"M131.028,279.144h1.703l3.934,5.169v-5.169h1.823v8.396h-1.571l-4.066-5.337v5.337h-1.822V279.144z\"/>\n\t<path class=\"st0\" d=\"M147.549,280.847h-2.554v-1.703h6.956v1.703h-2.555v6.692h-1.848V280.847z\"/>\n\t<path class=\"st0\" d=\"M154.116,279.144h3.838c1.067,0,1.895,0.3,2.446,0.852c0.468,0.468,0.72,1.127,0.72,1.919v0.024   c0,1.355-0.731,2.207-1.799,2.603l2.051,2.999h-2.159l-1.799-2.687h-1.451v2.687h-1.847V279.144z M157.833,283.222   c0.899,0,1.415-0.48,1.415-1.188v-0.024c0-0.792-0.552-1.2-1.451-1.2h-1.835v2.411H157.833z\"/>\n\t<path class=\"st0\" d=\"M163.535,279.144h6.332v1.643h-4.497v1.703h3.957v1.643h-3.957v1.763h4.558v1.643h-6.393V279.144z\"/>\n\t<path class=\"st0\" d=\"M172.319,279.144h6.332v1.643h-4.497v1.703h3.957v1.643h-3.957v1.763h4.558v1.643h-6.393V279.144z\"/>\n\t<path class=\"st0\" d=\"M180.695,282.946h3.694v1.751h-3.694V282.946z\"/>\n\t<path class=\"st0\" d=\"M187.509,280.955l-1.463,0.36l-0.384-1.511l2.41-0.72h1.26v8.456h-1.823V280.955z\"/>\n</g>\n<g>\n\t<path class=\"st0\" d=\"M346.004,279.144h3.273c2.639,0,4.462,1.811,4.462,4.174v0.024c0,2.363-1.823,4.198-4.462,4.198h-3.273   V279.144z M347.851,280.811v5.062h1.427c1.512,0,2.531-1.02,2.531-2.507v-0.024c0-1.487-1.02-2.531-2.531-2.531H347.851z\"/>\n\t<path class=\"st0\" d=\"M356.132,279.144h6.332v1.643h-4.497v1.703h3.957v1.643h-3.957v1.763h4.558v1.643h-6.393V279.144z\"/>\n\t<path class=\"st0\" d=\"M364.544,283.365v-0.024c0-2.387,1.799-4.341,4.378-4.341c1.583,0,2.53,0.527,3.31,1.295l-1.175,1.355   c-0.648-0.588-1.308-0.948-2.147-0.948c-1.415,0-2.435,1.175-2.435,2.615v0.024c0,1.439,0.996,2.639,2.435,2.639   c0.96,0,1.548-0.384,2.207-0.983l1.176,1.187c-0.864,0.924-1.823,1.5-3.442,1.5C366.379,287.683,364.544,285.776,364.544,283.365z\"/>\n\t<path class=\"st0\" d=\"M374.6,279.144h1.847v8.396H374.6V279.144z\"/>\n\t<path class=\"st0\" d=\"M378.715,286.316l1.092-1.308c0.755,0.624,1.547,1.02,2.506,1.02c0.756,0,1.212-0.3,1.212-0.792v-0.024   c0-0.468-0.288-0.708-1.691-1.067c-1.69-0.432-2.782-0.899-2.782-2.567v-0.024c0-1.523,1.224-2.53,2.938-2.53   c1.224,0,2.267,0.384,3.118,1.067l-0.959,1.391c-0.744-0.516-1.476-0.828-2.184-0.828c-0.707,0-1.079,0.324-1.079,0.731v0.024   c0,0.551,0.359,0.731,1.812,1.103c1.702,0.444,2.662,1.056,2.662,2.519v0.024c0,1.667-1.271,2.603-3.082,2.603   C381.006,287.659,379.723,287.215,378.715,286.316z\"/>\n\t<path class=\"st0\" d=\"M387.799,279.144h1.847v8.396h-1.847V279.144z\"/>\n\t<path class=\"st0\" d=\"M392.119,283.365v-0.024c0-2.387,1.883-4.341,4.474-4.341s4.449,1.931,4.449,4.317v0.024   c0,2.387-1.883,4.342-4.474,4.342C393.979,287.683,392.119,285.752,392.119,283.365z M399.111,283.365v-0.024   c0-1.439-1.056-2.639-2.543-2.639s-2.519,1.175-2.519,2.615v0.024c0,1.439,1.056,2.639,2.543,2.639   S399.111,284.805,399.111,283.365z\"/>\n\t<path class=\"st0\" d=\"M403.436,279.144h1.703l3.934,5.169v-5.169h1.823v8.396h-1.571l-4.066-5.337v5.337h-1.822V279.144z\"/>\n\t<path class=\"st0\" d=\"M419.957,280.847h-2.554v-1.703h6.956v1.703h-2.555v6.692h-1.848V280.847z\"/>\n\t<path class=\"st0\" d=\"M426.523,279.144h3.838c1.067,0,1.895,0.3,2.446,0.852c0.468,0.468,0.72,1.127,0.72,1.919v0.024   c0,1.355-0.731,2.207-1.799,2.603l2.051,2.999h-2.159l-1.799-2.687h-1.451v2.687h-1.847V279.144z M430.241,283.222   c0.899,0,1.415-0.48,1.415-1.188v-0.024c0-0.792-0.552-1.2-1.451-1.2h-1.835v2.411H430.241z\"/>\n\t<path class=\"st0\" d=\"M435.942,279.144h6.332v1.643h-4.497v1.703h3.957v1.643h-3.957v1.763h4.558v1.643h-6.393V279.144z\"/>\n\t<path class=\"st0\" d=\"M444.727,279.144h6.332v1.643h-4.497v1.703h3.957v1.643h-3.957v1.763h4.558v1.643h-6.393V279.144z\"/>\n\t<path class=\"st0\" d=\"M453.103,282.946h3.694v1.751h-3.694V282.946z\"/>\n\t<path class=\"st0\" d=\"M459.917,280.955l-1.463,0.36l-0.384-1.511l2.41-0.72h1.26v8.456h-1.823V280.955z\"/>\n</g>\n<g>\n\t<path class=\"st0\" d=\"M620.234,279.144h3.273c2.639,0,4.462,1.811,4.462,4.174v0.024c0,2.363-1.823,4.198-4.462,4.198h-3.273   V279.144z M622.081,280.811v5.062h1.427c1.512,0,2.531-1.02,2.531-2.507v-0.024c0-1.487-1.02-2.531-2.531-2.531H622.081z\"/>\n\t<path class=\"st0\" d=\"M630.362,279.144h6.332v1.643h-4.497v1.703h3.957v1.643h-3.957v1.763h4.558v1.643h-6.393V279.144z\"/>\n\t<path class=\"st0\" d=\"M638.774,283.365v-0.024c0-2.387,1.799-4.341,4.378-4.341c1.583,0,2.53,0.527,3.31,1.295l-1.175,1.355   c-0.648-0.588-1.308-0.948-2.147-0.948c-1.415,0-2.435,1.175-2.435,2.615v0.024c0,1.439,0.996,2.639,2.435,2.639   c0.96,0,1.548-0.384,2.207-0.983l1.176,1.187c-0.864,0.924-1.823,1.5-3.442,1.5C640.609,287.683,638.774,285.776,638.774,283.365z\"/>\n\t<path class=\"st0\" d=\"M648.83,279.144h1.847v8.396h-1.847V279.144z\"/>\n\t<path class=\"st0\" d=\"M652.945,286.316l1.092-1.308c0.755,0.624,1.547,1.02,2.506,1.02c0.756,0,1.212-0.3,1.212-0.792v-0.024   c0-0.468-0.288-0.708-1.691-1.067c-1.69-0.432-2.782-0.899-2.782-2.567v-0.024c0-1.523,1.224-2.53,2.938-2.53   c1.224,0,2.267,0.384,3.118,1.067l-0.959,1.391c-0.744-0.516-1.476-0.828-2.184-0.828c-0.707,0-1.079,0.324-1.079,0.731v0.024   c0,0.551,0.359,0.731,1.812,1.103c1.702,0.444,2.662,1.056,2.662,2.519v0.024c0,1.667-1.271,2.603-3.082,2.603   C655.236,287.659,653.953,287.215,652.945,286.316z\"/>\n\t<path class=\"st0\" d=\"M662.029,279.144h1.847v8.396h-1.847V279.144z\"/>\n\t<path class=\"st0\" d=\"M666.35,283.365v-0.024c0-2.387,1.883-4.341,4.474-4.341s4.449,1.931,4.449,4.317v0.024   c0,2.387-1.883,4.342-4.474,4.342C668.209,287.683,666.35,285.752,666.35,283.365z M673.342,283.365v-0.024   c0-1.439-1.056-2.639-2.543-2.639s-2.519,1.175-2.519,2.615v0.024c0,1.439,1.056,2.639,2.543,2.639   S673.342,284.805,673.342,283.365z\"/>\n\t<path class=\"st0\" d=\"M677.666,279.144h1.703l3.934,5.169v-5.169h1.823v8.396h-1.571l-4.066-5.337v5.337h-1.822V279.144z\"/>\n\t<path class=\"st0\" d=\"M694.188,280.847h-2.554v-1.703h6.956v1.703h-2.555v6.692h-1.848V280.847z\"/>\n\t<path class=\"st0\" d=\"M700.754,279.144h3.838c1.067,0,1.895,0.3,2.446,0.852c0.468,0.468,0.72,1.127,0.72,1.919v0.024   c0,1.355-0.731,2.207-1.799,2.603l2.051,2.999h-2.159l-1.799-2.687h-1.451v2.687h-1.847V279.144z M704.472,283.222   c0.899,0,1.415-0.48,1.415-1.188v-0.024c0-0.792-0.552-1.2-1.451-1.2h-1.835v2.411H704.472z\"/>\n\t<path class=\"st0\" d=\"M710.173,279.144h6.332v1.643h-4.497v1.703h3.957v1.643h-3.957v1.763h4.558v1.643h-6.393V279.144z\"/>\n\t<path class=\"st0\" d=\"M718.957,279.144h6.332v1.643h-4.497v1.703h3.957v1.643h-3.957v1.763h4.558v1.643h-6.393V279.144z\"/>\n\t<path class=\"st0\" d=\"M727.333,282.946h3.694v1.751h-3.694V282.946z\"/>\n\t<path class=\"st0\" d=\"M734.147,280.955l-1.463,0.36l-0.384-1.511l2.41-0.72h1.26v8.456h-1.823V280.955z\"/>\n</g>\n<g>\n\t<path class=\"st0\" d=\"M101.922,351.289h3.838c1.067,0,1.895,0.3,2.446,0.852c0.468,0.468,0.72,1.127,0.72,1.919v0.024   c0,1.355-0.731,2.207-1.799,2.603l2.051,2.999h-2.159l-1.799-2.687h-1.451v2.687h-1.847V351.289z M105.64,355.367   c0.899,0,1.415-0.48,1.415-1.188v-0.024c0-0.792-0.552-1.2-1.451-1.2h-1.835v2.411H105.64z\"/>\n\t<path class=\"st0\" d=\"M111.342,351.289h6.332v1.643h-4.497v1.703h3.957v1.643h-3.957v1.763h4.558v1.643h-6.393V351.289z\"/>\n\t<path class=\"st0\" d=\"M119.55,358.461l1.092-1.308c0.755,0.624,1.547,1.02,2.507,1.02c0.755,0,1.211-0.3,1.211-0.792v-0.024   c0-0.468-0.288-0.708-1.691-1.067c-1.69-0.432-2.782-0.899-2.782-2.567v-0.024c0-1.523,1.224-2.53,2.938-2.53   c1.224,0,2.267,0.384,3.118,1.067l-0.959,1.391c-0.744-0.516-1.476-0.828-2.184-0.828c-0.707,0-1.079,0.324-1.079,0.731v0.024   c0,0.551,0.359,0.731,1.811,1.103c1.703,0.444,2.663,1.056,2.663,2.519v0.024c0,1.667-1.271,2.603-3.082,2.603   C121.841,359.804,120.558,359.36,119.55,358.461z\"/>\n\t<path class=\"st0\" d=\"M128.418,356.086v-4.797h1.847v4.75c0,1.367,0.684,2.075,1.811,2.075c1.128,0,1.812-0.684,1.812-2.015v-4.81   h1.847v4.737c0,2.543-1.427,3.79-3.682,3.79S128.418,358.557,128.418,356.086z\"/>\n\t<path class=\"st0\" d=\"M138.365,351.289h1.847v6.716h4.186v1.679h-6.032V351.289z\"/>\n\t<path class=\"st0\" d=\"M147.291,352.992h-2.554v-1.703h6.956v1.703h-2.555v6.692h-1.848V352.992z\"/>\n\t<path class=\"st0\" d=\"M152.369,355.091h3.694v1.751h-3.694V355.091z\"/>\n\t<path class=\"st0\" d=\"M159.185,353.1l-1.463,0.36l-0.384-1.511l2.41-0.72h1.26v8.456h-1.823V353.1z\"/>\n</g>\n<g>\n\t<path class=\"st0\" d=\"M372.943,351.289h3.838c1.067,0,1.895,0.3,2.446,0.852c0.468,0.468,0.72,1.127,0.72,1.919v0.024   c0,1.355-0.731,2.207-1.799,2.603l2.051,2.999h-2.159l-1.799-2.687h-1.451v2.687h-1.847V351.289z M376.661,355.367   c0.899,0,1.415-0.48,1.415-1.188v-0.024c0-0.792-0.552-1.2-1.451-1.2h-1.835v2.411H376.661z\"/>\n\t<path class=\"st0\" d=\"M382.363,351.289h6.332v1.643h-4.497v1.703h3.957v1.643h-3.957v1.763h4.558v1.643h-6.393V351.289z\"/>\n\t<path class=\"st0\" d=\"M390.571,358.461l1.092-1.308c0.755,0.624,1.547,1.02,2.506,1.02c0.756,0,1.212-0.3,1.212-0.792v-0.024   c0-0.468-0.288-0.708-1.691-1.067c-1.69-0.432-2.782-0.899-2.782-2.567v-0.024c0-1.523,1.224-2.53,2.938-2.53   c1.224,0,2.267,0.384,3.118,1.067l-0.959,1.391c-0.744-0.516-1.476-0.828-2.184-0.828c-0.707,0-1.079,0.324-1.079,0.731v0.024   c0,0.551,0.359,0.731,1.812,1.103c1.702,0.444,2.662,1.056,2.662,2.519v0.024c0,1.667-1.271,2.603-3.082,2.603   C392.862,359.804,391.579,359.36,390.571,358.461z\"/>\n\t<path class=\"st0\" d=\"M399.439,356.086v-4.797h1.847v4.75c0,1.367,0.684,2.075,1.811,2.075c1.128,0,1.812-0.684,1.812-2.015v-4.81   h1.847v4.737c0,2.543-1.427,3.79-3.682,3.79S399.439,358.557,399.439,356.086z\"/>\n\t<path class=\"st0\" d=\"M409.387,351.289h1.847v6.716h4.186v1.679h-6.032V351.289z\"/>\n\t<path class=\"st0\" d=\"M418.312,352.992h-2.554v-1.703h6.956v1.703h-2.555v6.692h-1.848V352.992z\"/>\n\t<path class=\"st0\" d=\"M423.391,355.091h3.694v1.751h-3.694V355.091z\"/>\n\t<path class=\"st0\" d=\"M429.019,358.221l2.794-2.291c1.044-0.864,1.451-1.319,1.451-2.015c0-0.708-0.468-1.091-1.127-1.091   c-0.647,0-1.092,0.36-1.715,1.127l-1.296-1.043c0.828-1.127,1.632-1.739,3.131-1.739c1.738,0,2.891,1.019,2.891,2.59v0.024   c0,1.403-0.72,2.099-2.207,3.25l-1.367,1.055h3.657v1.595h-6.212V358.221z\"/>\n</g>\n<g>\n\t<path class=\"st0\" d=\"M646.173,351.289h3.838c1.067,0,1.895,0.3,2.446,0.852c0.468,0.468,0.72,1.127,0.72,1.919v0.024   c0,1.355-0.731,2.207-1.799,2.603l2.051,2.999h-2.159l-1.799-2.687h-1.451v2.687h-1.847V351.289z M649.891,355.367   c0.899,0,1.415-0.48,1.415-1.188v-0.024c0-0.792-0.552-1.2-1.451-1.2h-1.835v2.411H649.891z\"/>\n\t<path class=\"st0\" d=\"M655.593,351.289h6.332v1.643h-4.497v1.703h3.957v1.643h-3.957v1.763h4.558v1.643h-6.393V351.289z\"/>\n\t<path class=\"st0\" d=\"M663.801,358.461l1.092-1.308c0.755,0.624,1.547,1.02,2.506,1.02c0.756,0,1.212-0.3,1.212-0.792v-0.024   c0-0.468-0.288-0.708-1.691-1.067c-1.69-0.432-2.782-0.899-2.782-2.567v-0.024c0-1.523,1.224-2.53,2.938-2.53   c1.224,0,2.267,0.384,3.118,1.067l-0.959,1.391c-0.744-0.516-1.476-0.828-2.184-0.828c-0.707,0-1.079,0.324-1.079,0.731v0.024   c0,0.551,0.359,0.731,1.812,1.103c1.702,0.444,2.662,1.056,2.662,2.519v0.024c0,1.667-1.271,2.603-3.082,2.603   C666.092,359.804,664.809,359.36,663.801,358.461z\"/>\n\t<path class=\"st0\" d=\"M672.669,356.086v-4.797h1.847v4.75c0,1.367,0.684,2.075,1.811,2.075c1.128,0,1.812-0.684,1.812-2.015v-4.81   h1.847v4.737c0,2.543-1.427,3.79-3.682,3.79S672.669,358.557,672.669,356.086z\"/>\n\t<path class=\"st0\" d=\"M682.616,351.289h1.847v6.716h4.186v1.679h-6.032V351.289z\"/>\n\t<path class=\"st0\" d=\"M691.542,352.992h-2.554v-1.703h6.956v1.703h-2.555v6.692h-1.848V352.992z\"/>\n\t<path class=\"st0\" d=\"M696.62,355.091h3.694v1.751h-3.694V355.091z\"/>\n\t<path class=\"st0\" d=\"M702.668,351.289h1.703l3.934,5.169v-5.169h1.823v8.396h-1.571l-4.066-5.337v5.337h-1.822V351.289z\"/>\n</g>\n<g>\n\t<rect x=\"129.03\" y=\"116.826\" class=\"st0\" width=\"4.103\" height=\"58.527\"/>\n\t\n\t\t<rect x=\"49.063\" y=\"148.542\" transform=\"matrix(0.7071 -0.7071 0.7071 0.7071 -78.2721 112.2206)\" class=\"st0\" width=\"94.527\" height=\"4.102\"/>\n\t\n\t\t<rect x=\"10.509\" y=\"216.448\" transform=\"matrix(0.5301 -0.8479 0.8479 0.5301 -163.5858 141.796)\" class=\"st0\" width=\"71.277\" height=\"4.102\"/>\n\t\n\t\t<rect x=\"139.86\" y=\"216.448\" transform=\"matrix(0.5301 -0.8479 0.8479 0.5301 -102.8072 251.4753)\" class=\"st0\" width=\"71.277\" height=\"4.102\"/>\n\t\n\t\t<rect x=\"215.343\" y=\"182.86\" transform=\"matrix(0.8479 -0.5301 0.5301 0.8479 -82.7723 148.4837)\" class=\"st0\" width=\"4.102\" height=\"71.277\"/>\n\t\n\t\t<rect x=\"85.992\" y=\"182.86\" transform=\"matrix(0.8479 -0.5301 0.5301 0.8479 -102.446 79.9082)\" class=\"st0\" width=\"4.102\" height=\"71.277\"/>\n\t\n\t\t<rect x=\"164.08\" y=\"103.33\" transform=\"matrix(0.7071 -0.7071 0.7071 0.7071 -57.8266 161.5811)\" class=\"st0\" width=\"4.102\" height=\"94.527\"/>\n\t<circle class=\"st2\" cx=\"131.683\" cy=\"112.619\" r=\"16.461\"/>\n\t<circle class=\"st3\" cx=\"131.683\" cy=\"182.679\" r=\"16.461\"/>\n\t<circle class=\"st3\" cx=\"66.896\" cy=\"182.679\" r=\"16.461\"/>\n\t<circle class=\"st3\" cx=\"25.992\" cy=\"249.792\" r=\"16.461\"/>\n\t<circle class=\"st3\" cx=\"106.106\" cy=\"249.792\" r=\"16.461\"/>\n\t<circle class=\"st3\" cx=\"157.666\" cy=\"249.792\" r=\"16.461\"/>\n\t<circle class=\"st2\" cx=\"237.78\" cy=\"249.792\" r=\"16.461\"/>\n\t<circle class=\"st2\" cx=\"196.471\" cy=\"182.679\" r=\"16.461\"/>\n</g>\n<g>\n\t<rect x=\"401.438\" y=\"116.826\" class=\"st0\" width=\"4.103\" height=\"58.527\"/>\n\t\n\t\t<rect x=\"321.47\" y=\"148.542\" transform=\"matrix(0.7071 -0.7071 0.7071 0.7071 1.5143 304.8419)\" class=\"st0\" width=\"94.527\" height=\"4.102\"/>\n\t\n\t\t<rect x=\"282.916\" y=\"216.448\" transform=\"matrix(0.5301 -0.8479 0.8479 0.5301 -35.589 372.7752)\" class=\"st0\" width=\"71.277\" height=\"4.102\"/>\n\t\n\t\t<rect x=\"412.268\" y=\"216.448\" transform=\"matrix(0.5301 -0.8479 0.8479 0.5301 25.1896 482.4545)\" class=\"st0\" width=\"71.277\" height=\"4.102\"/>\n\t\n\t\t<rect x=\"487.751\" y=\"182.86\" transform=\"matrix(0.8479 -0.5301 0.5301 0.8479 -41.3409 292.8969)\" class=\"st0\" width=\"4.102\" height=\"71.277\"/>\n\t\n\t\t<rect x=\"358.399\" y=\"182.86\" transform=\"matrix(0.8479 -0.5301 0.5301 0.8479 -61.0142 224.3246)\" class=\"st0\" width=\"4.102\" height=\"71.277\"/>\n\t\n\t\t<rect x=\"436.488\" y=\"103.33\" transform=\"matrix(0.7071 -0.7071 0.7071 0.7071 21.9597 354.2014)\" class=\"st0\" width=\"4.102\" height=\"94.527\"/>\n\t<circle class=\"st2\" cx=\"404.091\" cy=\"112.619\" r=\"16.461\"/>\n\t<circle class=\"st3\" cx=\"404.091\" cy=\"182.679\" r=\"16.461\"/>\n\t<circle class=\"st2\" cx=\"339.304\" cy=\"182.679\" r=\"16.461\"/>\n\t<circle class=\"st2\" cx=\"298.399\" cy=\"249.792\" r=\"16.461\"/>\n\t<circle class=\"st3\" cx=\"378.514\" cy=\"249.792\" r=\"16.461\"/>\n\t<circle class=\"st3\" cx=\"430.073\" cy=\"249.792\" r=\"16.461\"/>\n\t<circle class=\"st3\" cx=\"510.188\" cy=\"249.792\" r=\"16.461\"/>\n\t<circle class=\"st3\" cx=\"468.878\" cy=\"182.679\" r=\"16.461\"/>\n</g>\n<g>\n\t<rect x=\"675.669\" y=\"116.826\" class=\"st0\" width=\"4.102\" height=\"58.527\"/>\n\t\n\t\t<rect x=\"595.701\" y=\"148.542\" transform=\"matrix(0.7071 -0.7071 0.7071 0.7071 81.8346 498.7521)\" class=\"st0\" width=\"94.527\" height=\"4.102\"/>\n\t\n\t\t<rect x=\"557.147\" y=\"216.448\" transform=\"matrix(0.5301 -0.8479 0.8479 0.5301 93.2645 605.3004)\" class=\"st0\" width=\"71.278\" height=\"4.102\"/>\n\t\n\t\t<rect x=\"686.498\" y=\"216.448\" transform=\"matrix(0.5301 -0.8479 0.8479 0.5301 154.0433 714.9799)\" class=\"st0\" width=\"71.278\" height=\"4.102\"/>\n\t\n\t\t<rect x=\"761.982\" y=\"182.86\" transform=\"matrix(0.8479 -0.5302 0.5302 0.8479 0.3699 438.2874)\" class=\"st0\" width=\"4.102\" height=\"71.278\"/>\n\t\n\t\t<rect x=\"632.63\" y=\"182.86\" transform=\"matrix(0.8479 -0.5302 0.5302 0.8479 -19.3042 369.7113)\" class=\"st0\" width=\"4.102\" height=\"71.278\"/>\n\t\n\t\t<rect x=\"710.719\" y=\"103.33\" transform=\"matrix(0.7071 -0.7071 0.7071 0.7071 102.2816 548.1144)\" class=\"st0\" width=\"4.102\" height=\"94.527\"/>\n\t<circle class=\"st2\" cx=\"678.322\" cy=\"112.619\" r=\"16.461\"/>\n\t<circle class=\"st2\" cx=\"678.322\" cy=\"182.679\" r=\"16.461\"/>\n\t<circle class=\"st3\" cx=\"613.535\" cy=\"182.679\" r=\"16.461\"/>\n\t<circle class=\"st3\" cx=\"572.63\" cy=\"249.792\" r=\"16.461\"/>\n\t<circle class=\"st3\" cx=\"652.744\" cy=\"249.792\" r=\"16.461\"/>\n\t<circle class=\"st3\" cx=\"704.304\" cy=\"249.792\" r=\"16.461\"/>\n\t<circle class=\"st3\" cx=\"784.419\" cy=\"249.792\" r=\"16.461\"/>\n\t<circle class=\"st3\" cx=\"743.109\" cy=\"182.679\" r=\"16.461\"/>\n</g>\n<rect x=\"350.852\" y=\"26.003\" class=\"st0\" width=\"106.884\" height=\"31.568\"/>\n<g>\n\t<path class=\"st1\" d=\"M366.339,36.668h3.979c3.354,0,5.67,2.302,5.67,5.305v0.03c0,3.003-2.317,5.335-5.67,5.335h-3.979V36.668z    M368.214,38.375v7.256h2.104c2.241,0,3.704-1.509,3.704-3.598v-0.031c0-2.088-1.463-3.628-3.704-3.628H368.214z\"/>\n\t<path class=\"st1\" d=\"M382.235,36.592h1.738l4.695,10.747h-1.981l-1.083-2.576h-5.045l-1.098,2.576h-1.92L382.235,36.592z    M384.917,43.101l-1.844-4.268l-1.829,4.268H384.917z\"/>\n\t<path class=\"st1\" d=\"M392.689,38.406h-3.384v-1.738h8.658v1.738h-3.384v8.933h-1.89V38.406z\"/>\n\t<path class=\"st1\" d=\"M403.296,36.592h1.738l4.695,10.747h-1.982l-1.083-2.576h-5.045l-1.098,2.576h-1.92L403.296,36.592z    M405.979,43.101l-1.844-4.268l-1.829,4.268H405.979z\"/>\n\t<path class=\"st1\" d=\"M411.602,45.784l1.128-1.342c1.021,0.884,2.059,1.387,3.369,1.387c1.158,0,1.891-0.549,1.891-1.341v-0.03   c0-0.762-0.428-1.174-2.409-1.631c-2.271-0.549-3.552-1.219-3.552-3.186V39.61c0-1.829,1.524-3.094,3.644-3.094   c1.555,0,2.789,0.472,3.872,1.341l-1.007,1.417c-0.96-0.716-1.92-1.097-2.896-1.097c-1.098,0-1.738,0.564-1.738,1.265v0.03   c0,0.823,0.488,1.189,2.546,1.677c2.256,0.549,3.414,1.357,3.414,3.125v0.03c0,1.997-1.569,3.186-3.811,3.186   C414.422,47.491,412.882,46.927,411.602,45.784z\"/>\n\t<path class=\"st1\" d=\"M423.017,36.668h7.911v1.677h-6.036v2.774h5.351v1.677h-5.351v2.866h6.112v1.677h-7.987V36.668z\"/>\n\t<path class=\"st1\" d=\"M436.794,38.406h-3.385v-1.738h8.658v1.738h-3.384v8.933h-1.89V38.406z\"/>\n</g>\n<g>\n\t<g>\n\t\t<rect x=\"402.242\" y=\"47.023\" class=\"st0\" width=\"4.103\" height=\"32.706\"/>\n\t\t<g>\n\t\t\t<polygon class=\"st0\" points=\"410.43,77.933 404.293,88.56 398.157,77.933    \"/>\n\t\t</g>\n\t</g>\n</g>\n<rect x=\"330.225\" y=\"513.1\" class=\"st0\" width=\"148.137\" height=\"31.568\"/>\n<g>\n\t<path class=\"st1\" d=\"M343.388,524.765h7.942v1.707h-6.067v2.911h5.381v1.708h-5.381v4.345h-1.875V524.765z\"/>\n\t<path class=\"st1\" d=\"M354.437,524.765h1.875v10.671h-1.875V524.765z\"/>\n\t<path class=\"st1\" d=\"M360.106,524.765h1.738l5.716,7.378v-7.378h1.844v10.671h-1.57l-5.884-7.592v7.592h-1.844V524.765z\"/>\n\t<path class=\"st1\" d=\"M376.871,524.688h1.738l4.695,10.747h-1.981l-1.083-2.576h-5.045l-1.098,2.576h-1.92L376.871,524.688z    M379.554,531.197l-1.844-4.268l-1.829,4.268H379.554z\"/>\n\t<path class=\"st1\" d=\"M386.075,524.765h1.875v8.964h5.609v1.707h-7.484V524.765z\"/>\n\t<path class=\"st1\" d=\"M401.97,524.765h4.756c1.341,0,2.393,0.396,3.08,1.067c0.563,0.578,0.884,1.371,0.884,2.301v0.031   c0,1.753-1.052,2.805-2.53,3.231l2.881,4.04h-2.226l-2.622-3.72h-2.347v3.72h-1.875V524.765z M406.589,530.055   c1.341,0,2.195-0.701,2.195-1.784v-0.03c0-1.144-0.823-1.769-2.21-1.769h-2.729v3.583H406.589z\"/>\n\t<path class=\"st1\" d=\"M413.934,524.765h7.911v1.677h-6.036v2.774h5.351v1.677h-5.351v2.865h6.112v1.678h-7.987V524.765z\"/>\n\t<path class=\"st1\" d=\"M424.372,533.881l1.128-1.342c1.021,0.884,2.059,1.387,3.369,1.387c1.158,0,1.891-0.549,1.891-1.342v-0.029   c0-0.763-0.428-1.174-2.409-1.632c-2.271-0.549-3.552-1.22-3.552-3.186v-0.03c0-1.83,1.524-3.095,3.644-3.095   c1.555,0,2.789,0.472,3.872,1.341l-1.007,1.418c-0.96-0.717-1.92-1.098-2.896-1.098c-1.098,0-1.738,0.564-1.738,1.266v0.03   c0,0.823,0.488,1.188,2.546,1.677c2.256,0.549,3.414,1.357,3.414,3.125v0.03c0,1.997-1.569,3.187-3.811,3.187   C427.192,535.588,425.652,535.023,424.372,533.881z\"/>\n\t<path class=\"st1\" d=\"M435.619,530.908v-6.144h1.875v6.067c0,1.98,1.021,3.033,2.698,3.033c1.661,0,2.683-0.991,2.683-2.957v-6.144   h1.875v6.052c0,3.186-1.799,4.786-4.588,4.786C437.388,535.603,435.619,534.002,435.619,530.908z\"/>\n\t<path class=\"st1\" d=\"M448.269,524.765h1.875v8.964h5.609v1.707h-7.484V524.765z\"/>\n\t<path class=\"st1\" d=\"M459.745,526.502h-3.385v-1.737h8.658v1.737h-3.384v8.934h-1.89V526.502z\"/>\n</g>\n<path class=\"st0\" d=\"M561.01,458.051H247.577v-35.669H561.01V458.051z M251.679,453.949h305.229v-27.466H251.679V453.949z\"/>\n<g>\n\t<path class=\"st0\" d=\"M261.816,435.098h1.997l3.247,5.045l3.247-5.045h1.997v10.67h-1.875v-7.652l-3.369,5.03h-0.061l-3.338-4.999   v7.621h-1.844V435.098z\"/>\n\t<path class=\"st0\" d=\"M279.77,435.021h1.738l4.695,10.746h-1.981l-1.083-2.576h-5.045l-1.098,2.576h-1.92L279.77,435.021z    M282.452,441.53l-1.844-4.269l-1.829,4.269H282.452z\"/>\n\t<path class=\"st0\" d=\"M287.922,444.197l1.234-1.28c0.625,0.809,1.25,1.266,2.149,1.266c1.006,0,1.692-0.671,1.692-2.104v-6.981   h1.936v7.042c0,1.266-0.381,2.211-1.006,2.836s-1.524,0.944-2.591,0.944C289.69,445.92,288.623,445.158,287.922,444.197z\"/>\n\t<path class=\"st0\" d=\"M297.98,440.463v-0.03c0-3.003,2.317-5.519,5.594-5.519s5.564,2.485,5.564,5.488v0.03   c0,3.003-2.317,5.519-5.594,5.519S297.98,443.466,297.98,440.463z M307.172,440.463v-0.03c0-2.073-1.509-3.796-3.628-3.796   c-2.119,0-3.598,1.692-3.598,3.766v0.03c0,2.073,1.509,3.78,3.628,3.78C305.693,444.213,307.172,442.536,307.172,440.463z\"/>\n\t<path class=\"st0\" d=\"M312.352,435.098h4.756c1.341,0,2.393,0.396,3.079,1.066c0.564,0.579,0.884,1.372,0.884,2.302v0.031   c0,1.753-1.052,2.805-2.53,3.231l2.881,4.039h-2.226l-2.622-3.719h-2.347v3.719h-1.875V435.098z M316.97,440.387   c1.341,0,2.195-0.701,2.195-1.783v-0.03c0-1.144-0.823-1.769-2.21-1.769h-2.729v3.582H316.97z\"/>\n\t<path class=\"st0\" d=\"M324.421,435.098h1.875v10.67h-1.875V435.098z\"/>\n\t<path class=\"st0\" d=\"M332.712,436.835h-3.384v-1.737h8.658v1.737h-3.384v8.933h-1.89V436.835z\"/>\n\t<path class=\"st0\" d=\"M344.051,441.561l-4.238-6.463h2.226l2.973,4.71l3.018-4.71h2.149l-4.238,6.417v4.253h-1.89V441.561z\"/>\n\t<path class=\"st0\" d=\"M357.37,435.098h2.073l3.216,8.201l3.201-8.201h2.027l-4.42,10.746h-1.662L357.37,435.098z\"/>\n\t<path class=\"st0\" d=\"M369.516,440.463v-0.03c0-3.003,2.317-5.519,5.594-5.519s5.564,2.485,5.564,5.488v0.03   c0,3.003-2.317,5.519-5.594,5.519S369.516,443.466,369.516,440.463z M378.708,440.463v-0.03c0-2.073-1.509-3.796-3.628-3.796   c-2.119,0-3.598,1.692-3.598,3.766v0.03c0,2.073,1.509,3.78,3.628,3.78C377.229,444.213,378.708,442.536,378.708,440.463z\"/>\n\t<path class=\"st0\" d=\"M385.93,436.835h-3.384v-1.737h8.658v1.737h-3.384v8.933h-1.89V436.835z\"/>\n\t<path class=\"st0\" d=\"M394.235,435.098h1.875v10.67h-1.875V435.098z\"/>\n\t<path class=\"st0\" d=\"M399.905,435.098h1.738l5.716,7.378v-7.378h1.844v10.67h-1.57l-5.884-7.591v7.591h-1.844V435.098z\"/>\n\t<path class=\"st0\" d=\"M412.417,440.463v-0.03c0-2.987,2.286-5.519,5.503-5.519c1.859,0,3.003,0.519,4.101,1.448l-1.189,1.418   c-0.823-0.701-1.631-1.144-2.987-1.144c-1.967,0-3.46,1.723-3.46,3.766v0.03c0,2.195,1.447,3.811,3.628,3.811   c1.006,0,1.92-0.319,2.576-0.808v-1.997h-2.729v-1.631h4.543v4.481c-1.052,0.899-2.561,1.662-4.451,1.662   C414.612,445.951,412.417,443.572,412.417,440.463z\"/>\n\t<path class=\"st0\" d=\"M436.437,433.604h1.601l-6.89,14.115h-1.601L436.437,433.604z\"/>\n\t<path class=\"st0\" d=\"M449.481,435.021h1.737l4.695,10.746h-1.981l-1.082-2.576h-5.046l-1.098,2.576h-1.921L449.481,435.021z    M452.164,441.53l-1.845-4.269l-1.829,4.269H452.164z\"/>\n\t<path class=\"st0\" d=\"M456.246,435.098h2.073l3.217,8.201l3.201-8.201h2.027l-4.421,10.746h-1.661L456.246,435.098z\"/>\n\t<path class=\"st0\" d=\"M469.536,435.098h7.911v1.677h-6.036v2.774h5.351v1.677h-5.351v2.865h6.112v1.677h-7.987V435.098z\"/>\n\t<path class=\"st0\" d=\"M480.692,435.098h4.756c1.342,0,2.394,0.396,3.079,1.066c0.564,0.579,0.884,1.372,0.884,2.302v0.031   c0,1.753-1.052,2.805-2.53,3.231l2.881,4.039h-2.226l-2.621-3.719h-2.348v3.719h-1.875V435.098z M485.311,440.387   c1.342,0,2.195-0.701,2.195-1.783v-0.03c0-1.144-0.823-1.769-2.21-1.769h-2.729v3.582H485.311z\"/>\n\t<path class=\"st0\" d=\"M496.436,435.021h1.737l4.695,10.746h-1.981l-1.082-2.576h-5.046l-1.098,2.576h-1.921L496.436,435.021z    M499.118,441.53l-1.845-4.269l-1.829,4.269H499.118z\"/>\n\t<path class=\"st0\" d=\"M504.497,440.463v-0.03c0-2.987,2.286-5.519,5.503-5.519c1.859,0,3.003,0.519,4.101,1.448l-1.189,1.418   c-0.823-0.701-1.631-1.144-2.987-1.144c-1.967,0-3.46,1.723-3.46,3.766v0.03c0,2.195,1.447,3.811,3.628,3.811   c1.006,0,1.92-0.319,2.576-0.808v-1.997h-2.729v-1.631h4.543v4.481c-1.052,0.899-2.561,1.662-4.451,1.662   C506.692,445.951,504.497,443.572,504.497,440.463z\"/>\n\t<path class=\"st0\" d=\"M517.969,435.098h1.875v10.67h-1.875V435.098z\"/>\n\t<path class=\"st0\" d=\"M523.639,435.098h1.737l5.717,7.378v-7.378h1.845v10.67h-1.57l-5.884-7.591v7.591h-1.845V435.098z\"/>\n\t<path class=\"st0\" d=\"M536.15,440.463v-0.03c0-2.987,2.286-5.519,5.503-5.519c1.859,0,3.003,0.519,4.101,1.448l-1.189,1.418   c-0.823-0.701-1.631-1.144-2.987-1.144c-1.967,0-3.46,1.723-3.46,3.766v0.03c0,2.195,1.447,3.811,3.628,3.811   c1.006,0,1.92-0.319,2.576-0.808v-1.997h-2.729v-1.631h4.542v4.481c-1.052,0.899-2.561,1.662-4.451,1.662   C538.346,445.951,536.15,443.572,536.15,440.463z\"/>\n</g>\n<g>\n\t<path class=\"st0\" d=\"M73.596,279.144h3.273c2.639,0,4.462,1.811,4.462,4.174v0.024c0,2.363-1.823,4.198-4.462,4.198h-3.273V279.144   z M75.443,280.811v5.062h1.427c1.512,0,2.531-1.02,2.531-2.507v-0.024c0-1.487-1.02-2.531-2.531-2.531H75.443z\"/>\n\t<path class=\"st0\" d=\"M83.724,279.144h6.332v1.643h-4.497v1.703h3.957v1.643h-3.957v1.763h4.558v1.643h-6.393V279.144z\"/>\n\t<path class=\"st0\" d=\"M92.136,283.365v-0.024c0-2.387,1.799-4.341,4.378-4.341c1.583,0,2.53,0.527,3.31,1.295l-1.175,1.355   c-0.648-0.588-1.308-0.948-2.147-0.948c-1.415,0-2.435,1.175-2.435,2.615v0.024c0,1.439,0.996,2.639,2.435,2.639   c0.96,0,1.548-0.384,2.207-0.983l1.176,1.187c-0.864,0.924-1.823,1.5-3.442,1.5C93.971,287.683,92.136,285.776,92.136,283.365z\"/>\n\t<path class=\"st0\" d=\"M102.192,279.144h1.847v8.396h-1.847V279.144z\"/>\n\t<path class=\"st0\" d=\"M106.308,286.316l1.092-1.308c0.755,0.624,1.547,1.02,2.507,1.02c0.755,0,1.211-0.3,1.211-0.792v-0.024   c0-0.468-0.288-0.708-1.691-1.067c-1.69-0.432-2.782-0.899-2.782-2.567v-0.024c0-1.523,1.224-2.53,2.938-2.53   c1.224,0,2.267,0.384,3.118,1.067l-0.959,1.391c-0.744-0.516-1.476-0.828-2.184-0.828c-0.707,0-1.079,0.324-1.079,0.731v0.024   c0,0.551,0.359,0.731,1.811,1.103c1.703,0.444,2.663,1.056,2.663,2.519v0.024c0,1.667-1.271,2.603-3.082,2.603   C108.599,287.659,107.316,287.215,106.308,286.316z\"/>\n\t<path class=\"st0\" d=\"M115.392,279.144h1.847v8.396h-1.847V279.144z\"/>\n\t<path class=\"st0\" d=\"M119.712,283.365v-0.024c0-2.387,1.883-4.341,4.474-4.341s4.449,1.931,4.449,4.317v0.024   c0,2.387-1.883,4.342-4.474,4.342S119.712,285.752,119.712,283.365z M126.705,283.365v-0.024c0-1.439-1.056-2.639-2.543-2.639   s-2.519,1.175-2.519,2.615v0.024c0,1.439,1.056,2.639,2.543,2.639S126.705,284.805,126.705,283.365z\"/>\n\t<path class=\"st0\" d=\"M131.028,279.144h1.703l3.934,5.169v-5.169h1.823v8.396h-1.571l-4.066-5.337v5.337h-1.822V279.144z\"/>\n\t<path class=\"st0\" d=\"M147.549,280.847h-2.554v-1.703h6.956v1.703h-2.555v6.692h-1.848V280.847z\"/>\n\t<path class=\"st0\" d=\"M154.116,279.144h3.838c1.067,0,1.895,0.3,2.446,0.852c0.468,0.468,0.72,1.127,0.72,1.919v0.024   c0,1.355-0.731,2.207-1.799,2.603l2.051,2.999h-2.159l-1.799-2.687h-1.451v2.687h-1.847V279.144z M157.833,283.222   c0.899,0,1.415-0.48,1.415-1.188v-0.024c0-0.792-0.552-1.2-1.451-1.2h-1.835v2.411H157.833z\"/>\n\t<path class=\"st0\" d=\"M163.536,279.144h6.332v1.643h-4.497v1.703h3.957v1.643h-3.957v1.763h4.558v1.643h-6.393V279.144z\"/>\n\t<path class=\"st0\" d=\"M172.32,279.144h6.332v1.643h-4.497v1.703h3.957v1.643h-3.957v1.763h4.558v1.643h-6.393V279.144z\"/>\n\t<path class=\"st0\" d=\"M180.695,282.946h3.694v1.751h-3.694V282.946z\"/>\n\t<path class=\"st0\" d=\"M187.51,280.955l-1.463,0.36l-0.384-1.511l2.41-0.72h1.26v8.456h-1.823V280.955z\"/>\n</g>\n<g>\n\t<path class=\"st0\" d=\"M346.004,279.144h3.273c2.639,0,4.462,1.811,4.462,4.174v0.024c0,2.363-1.823,4.198-4.462,4.198h-3.273   V279.144z M347.851,280.811v5.062h1.427c1.512,0,2.531-1.02,2.531-2.507v-0.024c0-1.487-1.02-2.531-2.531-2.531H347.851z\"/>\n\t<path class=\"st0\" d=\"M356.132,279.144h6.332v1.643h-4.497v1.703h3.957v1.643h-3.957v1.763h4.558v1.643h-6.393V279.144z\"/>\n\t<path class=\"st0\" d=\"M364.544,283.365v-0.024c0-2.387,1.799-4.341,4.378-4.341c1.583,0,2.53,0.527,3.31,1.295l-1.175,1.355   c-0.648-0.588-1.308-0.948-2.147-0.948c-1.415,0-2.435,1.175-2.435,2.615v0.024c0,1.439,0.996,2.639,2.435,2.639   c0.96,0,1.548-0.384,2.207-0.983l1.176,1.187c-0.864,0.924-1.823,1.5-3.442,1.5C366.379,287.683,364.544,285.776,364.544,283.365z\"/>\n\t<path class=\"st0\" d=\"M374.6,279.144h1.847v8.396H374.6V279.144z\"/>\n\t<path class=\"st0\" d=\"M378.716,286.316l1.092-1.308c0.755,0.624,1.547,1.02,2.507,1.02c0.755,0,1.211-0.3,1.211-0.792v-0.024   c0-0.468-0.288-0.708-1.691-1.067c-1.69-0.432-2.782-0.899-2.782-2.567v-0.024c0-1.523,1.224-2.53,2.938-2.53   c1.224,0,2.267,0.384,3.118,1.067l-0.959,1.391c-0.744-0.516-1.476-0.828-2.184-0.828c-0.707,0-1.079,0.324-1.079,0.731v0.024   c0,0.551,0.359,0.731,1.811,1.103c1.703,0.444,2.663,1.056,2.663,2.519v0.024c0,1.667-1.271,2.603-3.082,2.603   C381.007,287.659,379.724,287.215,378.716,286.316z\"/>\n\t<path class=\"st0\" d=\"M387.8,279.144h1.847v8.396H387.8V279.144z\"/>\n\t<path class=\"st0\" d=\"M392.12,283.365v-0.024c0-2.387,1.883-4.341,4.474-4.341s4.449,1.931,4.449,4.317v0.024   c0,2.387-1.883,4.342-4.474,4.342S392.12,285.752,392.12,283.365z M399.112,283.365v-0.024c0-1.439-1.056-2.639-2.543-2.639   s-2.519,1.175-2.519,2.615v0.024c0,1.439,1.056,2.639,2.543,2.639S399.112,284.805,399.112,283.365z\"/>\n\t<path class=\"st0\" d=\"M403.436,279.144h1.703l3.934,5.169v-5.169h1.823v8.396h-1.571l-4.066-5.337v5.337h-1.822V279.144z\"/>\n\t<path class=\"st0\" d=\"M419.957,280.847h-2.554v-1.703h6.956v1.703h-2.555v6.692h-1.848V280.847z\"/>\n\t<path class=\"st0\" d=\"M426.523,279.144h3.838c1.067,0,1.895,0.3,2.446,0.852c0.468,0.468,0.72,1.127,0.72,1.919v0.024   c0,1.355-0.731,2.207-1.799,2.603l2.051,2.999h-2.159l-1.799-2.687h-1.451v2.687h-1.847V279.144z M430.241,283.222   c0.899,0,1.415-0.48,1.415-1.188v-0.024c0-0.792-0.552-1.2-1.451-1.2h-1.835v2.411H430.241z\"/>\n\t<path class=\"st0\" d=\"M435.943,279.144h6.332v1.643h-4.497v1.703h3.957v1.643h-3.957v1.763h4.558v1.643h-6.393V279.144z\"/>\n\t<path class=\"st0\" d=\"M444.728,279.144h6.332v1.643h-4.497v1.703h3.957v1.643h-3.957v1.763h4.558v1.643h-6.393V279.144z\"/>\n\t<path class=\"st0\" d=\"M453.103,282.946h3.694v1.751h-3.694V282.946z\"/>\n\t<path class=\"st0\" d=\"M459.918,280.955l-1.463,0.36l-0.384-1.511l2.41-0.72h1.26v8.456h-1.823V280.955z\"/>\n</g>\n<g>\n\t<path class=\"st0\" d=\"M620.234,279.144h3.273c2.639,0,4.462,1.811,4.462,4.174v0.024c0,2.363-1.823,4.198-4.462,4.198h-3.273   V279.144z M622.081,280.811v5.062h1.427c1.512,0,2.531-1.02,2.531-2.507v-0.024c0-1.487-1.02-2.531-2.531-2.531H622.081z\"/>\n\t<path class=\"st0\" d=\"M630.362,279.144h6.332v1.643h-4.497v1.703h3.957v1.643h-3.957v1.763h4.558v1.643h-6.393V279.144z\"/>\n\t<path class=\"st0\" d=\"M638.774,283.365v-0.024c0-2.387,1.799-4.341,4.378-4.341c1.583,0,2.53,0.527,3.31,1.295l-1.175,1.355   c-0.648-0.588-1.308-0.948-2.147-0.948c-1.415,0-2.435,1.175-2.435,2.615v0.024c0,1.439,0.996,2.639,2.435,2.639   c0.96,0,1.548-0.384,2.207-0.983l1.176,1.187c-0.864,0.924-1.823,1.5-3.442,1.5C640.609,287.683,638.774,285.776,638.774,283.365z\"/>\n\t<path class=\"st0\" d=\"M648.83,279.144h1.847v8.396h-1.847V279.144z\"/>\n\t<path class=\"st0\" d=\"M652.946,286.316l1.092-1.308c0.755,0.624,1.547,1.02,2.507,1.02c0.755,0,1.211-0.3,1.211-0.792v-0.024   c0-0.468-0.288-0.708-1.691-1.067c-1.69-0.432-2.782-0.899-2.782-2.567v-0.024c0-1.523,1.224-2.53,2.938-2.53   c1.224,0,2.267,0.384,3.118,1.067l-0.959,1.391c-0.744-0.516-1.476-0.828-2.184-0.828c-0.707,0-1.079,0.324-1.079,0.731v0.024   c0,0.551,0.359,0.731,1.811,1.103c1.703,0.444,2.663,1.056,2.663,2.519v0.024c0,1.667-1.271,2.603-3.082,2.603   C655.237,287.659,653.954,287.215,652.946,286.316z\"/>\n\t<path class=\"st0\" d=\"M662.03,279.144h1.847v8.396h-1.847V279.144z\"/>\n\t<path class=\"st0\" d=\"M666.351,283.365v-0.024c0-2.387,1.883-4.341,4.474-4.341s4.449,1.931,4.449,4.317v0.024   c0,2.387-1.883,4.342-4.474,4.342S666.351,285.752,666.351,283.365z M673.343,283.365v-0.024c0-1.439-1.056-2.639-2.543-2.639   s-2.519,1.175-2.519,2.615v0.024c0,1.439,1.056,2.639,2.543,2.639S673.343,284.805,673.343,283.365z\"/>\n\t<path class=\"st0\" d=\"M677.666,279.144h1.703l3.934,5.169v-5.169h1.823v8.396h-1.571l-4.066-5.337v5.337h-1.822V279.144z\"/>\n\t<path class=\"st0\" d=\"M694.188,280.847h-2.554v-1.703h6.956v1.703h-2.555v6.692h-1.848V280.847z\"/>\n\t<path class=\"st0\" d=\"M700.754,279.144h3.838c1.067,0,1.895,0.3,2.446,0.852c0.468,0.468,0.72,1.127,0.72,1.919v0.024   c0,1.355-0.731,2.207-1.799,2.603l2.051,2.999h-2.159l-1.799-2.687h-1.451v2.687h-1.847V279.144z M704.472,283.222   c0.899,0,1.415-0.48,1.415-1.188v-0.024c0-0.792-0.552-1.2-1.451-1.2h-1.835v2.411H704.472z\"/>\n\t<path class=\"st0\" d=\"M710.174,279.144h6.332v1.643h-4.497v1.703h3.957v1.643h-3.957v1.763h4.558v1.643h-6.393V279.144z\"/>\n\t<path class=\"st0\" d=\"M718.958,279.144h6.332v1.643h-4.497v1.703h3.957v1.643h-3.957v1.763h4.558v1.643h-6.393V279.144z\"/>\n\t<path class=\"st0\" d=\"M727.333,282.946h3.694v1.751h-3.694V282.946z\"/>\n\t<path class=\"st0\" d=\"M734.148,280.955l-1.463,0.36l-0.384-1.511l2.41-0.72h1.26v8.456h-1.823V280.955z\"/>\n</g>\n<g>\n\t<path class=\"st0\" d=\"M101.922,351.289h3.838c1.067,0,1.895,0.3,2.446,0.852c0.468,0.468,0.72,1.127,0.72,1.919v0.024   c0,1.355-0.731,2.207-1.799,2.603l2.051,2.999h-2.159l-1.799-2.687h-1.451v2.687h-1.847V351.289z M105.64,355.367   c0.899,0,1.415-0.48,1.415-1.188v-0.024c0-0.792-0.552-1.2-1.451-1.2h-1.835v2.411H105.64z\"/>\n\t<path class=\"st0\" d=\"M111.342,351.289h6.332v1.643h-4.497v1.703h3.957v1.643h-3.957v1.763h4.558v1.643h-6.393V351.289z\"/>\n\t<path class=\"st0\" d=\"M119.55,358.461l1.092-1.308c0.755,0.624,1.547,1.02,2.507,1.02c0.755,0,1.211-0.3,1.211-0.792v-0.024   c0-0.468-0.288-0.708-1.691-1.067c-1.69-0.432-2.782-0.899-2.782-2.567v-0.024c0-1.523,1.224-2.53,2.938-2.53   c1.224,0,2.267,0.384,3.118,1.067l-0.959,1.391c-0.744-0.516-1.476-0.828-2.184-0.828c-0.707,0-1.079,0.324-1.079,0.731v0.024   c0,0.551,0.359,0.731,1.811,1.103c1.703,0.444,2.663,1.056,2.663,2.519v0.024c0,1.667-1.271,2.603-3.082,2.603   C121.841,359.804,120.558,359.36,119.55,358.461z\"/>\n\t<path class=\"st0\" d=\"M128.418,356.086v-4.797h1.847v4.75c0,1.367,0.684,2.075,1.811,2.075c1.128,0,1.812-0.684,1.812-2.015v-4.81   h1.847v4.737c0,2.543-1.427,3.79-3.682,3.79S128.418,358.557,128.418,356.086z\"/>\n\t<path class=\"st0\" d=\"M138.365,351.289h1.847v6.716h4.186v1.679h-6.032V351.289z\"/>\n\t<path class=\"st0\" d=\"M147.292,352.992h-2.554v-1.703h6.956v1.703h-2.555v6.692h-1.848V352.992z\"/>\n\t<path class=\"st0\" d=\"M152.369,355.091h3.694v1.751h-3.694V355.091z\"/>\n\t<path class=\"st0\" d=\"M159.185,353.1l-1.463,0.36l-0.384-1.511l2.41-0.72h1.26v8.456h-1.823V353.1z\"/>\n</g>\n<g>\n\t<path class=\"st0\" d=\"M372.943,351.289h3.838c1.067,0,1.895,0.3,2.446,0.852c0.468,0.468,0.72,1.127,0.72,1.919v0.024   c0,1.355-0.731,2.207-1.799,2.603l2.051,2.999h-2.159l-1.799-2.687h-1.451v2.687h-1.847V351.289z M376.661,355.367   c0.899,0,1.415-0.48,1.415-1.188v-0.024c0-0.792-0.552-1.2-1.451-1.2h-1.835v2.411H376.661z\"/>\n\t<path class=\"st0\" d=\"M382.363,351.289h6.332v1.643h-4.497v1.703h3.957v1.643h-3.957v1.763h4.558v1.643h-6.393V351.289z\"/>\n\t<path class=\"st0\" d=\"M390.571,358.461l1.092-1.308c0.755,0.624,1.547,1.02,2.506,1.02c0.756,0,1.212-0.3,1.212-0.792v-0.024   c0-0.468-0.288-0.708-1.691-1.067c-1.69-0.432-2.782-0.899-2.782-2.567v-0.024c0-1.523,1.224-2.53,2.938-2.53   c1.224,0,2.267,0.384,3.118,1.067l-0.959,1.391c-0.744-0.516-1.476-0.828-2.184-0.828c-0.707,0-1.079,0.324-1.079,0.731v0.024   c0,0.551,0.359,0.731,1.812,1.103c1.702,0.444,2.662,1.056,2.662,2.519v0.024c0,1.667-1.271,2.603-3.082,2.603   C392.862,359.804,391.579,359.36,390.571,358.461z\"/>\n\t<path class=\"st0\" d=\"M399.439,356.086v-4.797h1.847v4.75c0,1.367,0.684,2.075,1.811,2.075c1.128,0,1.812-0.684,1.812-2.015v-4.81   h1.847v4.737c0,2.543-1.427,3.79-3.682,3.79S399.439,358.557,399.439,356.086z\"/>\n\t<path class=\"st0\" d=\"M409.387,351.289h1.847v6.716h4.186v1.679h-6.032V351.289z\"/>\n\t<path class=\"st0\" d=\"M418.313,352.992h-2.554v-1.703h6.956v1.703h-2.555v6.692h-1.848V352.992z\"/>\n\t<path class=\"st0\" d=\"M423.391,355.091h3.694v1.751h-3.694V355.091z\"/>\n\t<path class=\"st0\" d=\"M429.02,358.221l2.794-2.291c1.044-0.864,1.451-1.319,1.451-2.015c0-0.708-0.468-1.091-1.127-1.091   c-0.647,0-1.092,0.36-1.715,1.127l-1.296-1.043c0.828-1.127,1.632-1.739,3.131-1.739c1.739,0,2.89,1.019,2.89,2.59v0.024   c0,1.403-0.719,2.099-2.206,3.25l-1.367,1.055h3.657v1.595h-6.212V358.221z\"/>\n</g>\n<g>\n\t<path class=\"st0\" d=\"M646.173,351.289h3.838c1.067,0,1.895,0.3,2.446,0.852c0.468,0.468,0.72,1.127,0.72,1.919v0.024   c0,1.355-0.731,2.207-1.799,2.603l2.051,2.999h-2.159l-1.799-2.687h-1.451v2.687h-1.847V351.289z M649.891,355.367   c0.899,0,1.415-0.48,1.415-1.188v-0.024c0-0.792-0.552-1.2-1.451-1.2h-1.835v2.411H649.891z\"/>\n\t<path class=\"st0\" d=\"M655.593,351.289h6.332v1.643h-4.497v1.703h3.957v1.643h-3.957v1.763h4.558v1.643h-6.393V351.289z\"/>\n\t<path class=\"st0\" d=\"M663.801,358.461l1.092-1.308c0.755,0.624,1.547,1.02,2.506,1.02c0.756,0,1.212-0.3,1.212-0.792v-0.024   c0-0.468-0.288-0.708-1.691-1.067c-1.69-0.432-2.782-0.899-2.782-2.567v-0.024c0-1.523,1.224-2.53,2.938-2.53   c1.224,0,2.267,0.384,3.118,1.067l-0.959,1.391c-0.744-0.516-1.476-0.828-2.184-0.828c-0.707,0-1.079,0.324-1.079,0.731v0.024   c0,0.551,0.359,0.731,1.812,1.103c1.702,0.444,2.662,1.056,2.662,2.519v0.024c0,1.667-1.271,2.603-3.082,2.603   C666.092,359.804,664.809,359.36,663.801,358.461z\"/>\n\t<path class=\"st0\" d=\"M672.669,356.086v-4.797h1.847v4.75c0,1.367,0.684,2.075,1.811,2.075c1.128,0,1.812-0.684,1.812-2.015v-4.81   h1.847v4.737c0,2.543-1.427,3.79-3.682,3.79S672.669,358.557,672.669,356.086z\"/>\n\t<path class=\"st0\" d=\"M682.616,351.289h1.847v6.716h4.186v1.679h-6.032V351.289z\"/>\n\t<path class=\"st0\" d=\"M691.543,352.992h-2.554v-1.703h6.956v1.703h-2.555v6.692h-1.848V352.992z\"/>\n\t<path class=\"st0\" d=\"M696.62,355.091h3.694v1.751h-3.694V355.091z\"/>\n\t<path class=\"st0\" d=\"M702.669,351.289h1.703l3.934,5.169v-5.169h1.823v8.396h-1.571l-4.066-5.337v5.337h-1.822V351.289z\"/>\n</g>\n<g>\n\t<rect x=\"129.03\" y=\"116.826\" class=\"st0\" width=\"4.103\" height=\"58.527\"/>\n\t\n\t\t<rect x=\"49.063\" y=\"148.542\" transform=\"matrix(0.7071 -0.7071 0.7071 0.7071 -78.2721 112.2206)\" class=\"st0\" width=\"94.527\" height=\"4.102\"/>\n\t\n\t\t<rect x=\"10.509\" y=\"216.448\" transform=\"matrix(0.5301 -0.8479 0.8479 0.5301 -163.5858 141.796)\" class=\"st0\" width=\"71.277\" height=\"4.102\"/>\n\t\n\t\t<rect x=\"139.86\" y=\"216.448\" transform=\"matrix(0.5301 -0.8479 0.8479 0.5301 -102.8072 251.4753)\" class=\"st0\" width=\"71.277\" height=\"4.102\"/>\n\t\n\t\t<rect x=\"215.343\" y=\"182.86\" transform=\"matrix(0.8479 -0.5301 0.5301 0.8479 -82.7723 148.4837)\" class=\"st0\" width=\"4.102\" height=\"71.277\"/>\n\t\n\t\t<rect x=\"85.992\" y=\"182.86\" transform=\"matrix(0.8479 -0.5301 0.5301 0.8479 -102.446 79.9082)\" class=\"st0\" width=\"4.102\" height=\"71.277\"/>\n\t\n\t\t<rect x=\"164.08\" y=\"103.33\" transform=\"matrix(0.7071 -0.7071 0.7071 0.7071 -57.8266 161.5811)\" class=\"st0\" width=\"4.102\" height=\"94.527\"/>\n\t<circle class=\"st2\" cx=\"131.683\" cy=\"112.619\" r=\"16.461\"/>\n\t<circle class=\"st3\" cx=\"131.683\" cy=\"182.679\" r=\"16.461\"/>\n\t<circle class=\"st3\" cx=\"66.896\" cy=\"182.679\" r=\"16.461\"/>\n\t<circle class=\"st3\" cx=\"25.992\" cy=\"249.792\" r=\"16.461\"/>\n\t<circle class=\"st3\" cx=\"106.106\" cy=\"249.792\" r=\"16.461\"/>\n\t<circle class=\"st3\" cx=\"157.666\" cy=\"249.792\" r=\"16.461\"/>\n\t<circle class=\"st2\" cx=\"237.78\" cy=\"249.792\" r=\"16.461\"/>\n\t<circle class=\"st2\" cx=\"196.471\" cy=\"182.679\" r=\"16.461\"/>\n</g>\n<g>\n\t<rect x=\"401.438\" y=\"116.826\" class=\"st0\" width=\"4.103\" height=\"58.527\"/>\n\t\n\t\t<rect x=\"321.47\" y=\"148.542\" transform=\"matrix(0.7071 -0.7071 0.7071 0.7071 1.5143 304.8419)\" class=\"st0\" width=\"94.527\" height=\"4.102\"/>\n\t\n\t\t<rect x=\"282.916\" y=\"216.448\" transform=\"matrix(0.5301 -0.8479 0.8479 0.5301 -35.589 372.7752)\" class=\"st0\" width=\"71.277\" height=\"4.102\"/>\n\t\n\t\t<rect x=\"412.268\" y=\"216.448\" transform=\"matrix(0.5301 -0.8479 0.8479 0.5301 25.1896 482.4545)\" class=\"st0\" width=\"71.277\" height=\"4.102\"/>\n\t\n\t\t<rect x=\"487.751\" y=\"182.86\" transform=\"matrix(0.8479 -0.5301 0.5301 0.8479 -41.3409 292.8969)\" class=\"st0\" width=\"4.102\" height=\"71.277\"/>\n\t\n\t\t<rect x=\"358.399\" y=\"182.86\" transform=\"matrix(0.8479 -0.5301 0.5301 0.8479 -61.0142 224.3246)\" class=\"st0\" width=\"4.102\" height=\"71.277\"/>\n\t\n\t\t<rect x=\"436.488\" y=\"103.33\" transform=\"matrix(0.7071 -0.7071 0.7071 0.7071 21.9597 354.2014)\" class=\"st0\" width=\"4.102\" height=\"94.527\"/>\n\t<circle class=\"st2\" cx=\"404.091\" cy=\"112.619\" r=\"16.461\"/>\n\t<circle class=\"st3\" cx=\"404.091\" cy=\"182.679\" r=\"16.461\"/>\n\t<circle class=\"st2\" cx=\"339.304\" cy=\"182.679\" r=\"16.461\"/>\n\t<circle class=\"st2\" cx=\"298.399\" cy=\"249.792\" r=\"16.461\"/>\n\t<circle class=\"st3\" cx=\"378.514\" cy=\"249.792\" r=\"16.461\"/>\n\t<circle class=\"st3\" cx=\"430.073\" cy=\"249.792\" r=\"16.461\"/>\n\t<circle class=\"st3\" cx=\"510.188\" cy=\"249.792\" r=\"16.461\"/>\n\t<circle class=\"st3\" cx=\"468.878\" cy=\"182.679\" r=\"16.461\"/>\n</g>\n<g>\n\t<rect x=\"675.669\" y=\"116.826\" class=\"st0\" width=\"4.102\" height=\"58.527\"/>\n\t\n\t\t<rect x=\"595.701\" y=\"148.542\" transform=\"matrix(0.7071 -0.7071 0.7071 0.7071 81.8346 498.7521)\" class=\"st0\" width=\"94.527\" height=\"4.102\"/>\n\t\n\t\t<rect x=\"557.147\" y=\"216.448\" transform=\"matrix(0.5301 -0.8479 0.8479 0.5301 93.2645 605.3004)\" class=\"st0\" width=\"71.278\" height=\"4.102\"/>\n\t\n\t\t<rect x=\"686.498\" y=\"216.448\" transform=\"matrix(0.5301 -0.8479 0.8479 0.5301 154.0433 714.9799)\" class=\"st0\" width=\"71.278\" height=\"4.102\"/>\n\t\n\t\t<rect x=\"761.982\" y=\"182.86\" transform=\"matrix(0.8479 -0.5302 0.5302 0.8479 0.3699 438.2874)\" class=\"st0\" width=\"4.102\" height=\"71.278\"/>\n\t\n\t\t<rect x=\"632.63\" y=\"182.86\" transform=\"matrix(0.8479 -0.5302 0.5302 0.8479 -19.3042 369.7113)\" class=\"st0\" width=\"4.102\" height=\"71.278\"/>\n\t\n\t\t<rect x=\"710.719\" y=\"103.33\" transform=\"matrix(0.7071 -0.7071 0.7071 0.7071 102.2816 548.1144)\" class=\"st0\" width=\"4.102\" height=\"94.527\"/>\n\t<circle class=\"st2\" cx=\"678.322\" cy=\"112.619\" r=\"16.461\"/>\n\t<circle class=\"st2\" cx=\"678.322\" cy=\"182.679\" r=\"16.461\"/>\n\t<circle class=\"st3\" cx=\"613.535\" cy=\"182.679\" r=\"16.461\"/>\n\t<circle class=\"st3\" cx=\"572.63\" cy=\"249.792\" r=\"16.461\"/>\n\t<circle class=\"st3\" cx=\"652.744\" cy=\"249.792\" r=\"16.461\"/>\n\t<circle class=\"st3\" cx=\"704.304\" cy=\"249.792\" r=\"16.461\"/>\n\t<circle class=\"st3\" cx=\"784.419\" cy=\"249.792\" r=\"16.461\"/>\n\t<circle class=\"st3\" cx=\"743.109\" cy=\"182.679\" r=\"16.461\"/>\n</g>\n<rect x=\"350.852\" y=\"26.003\" class=\"st0\" width=\"106.884\" height=\"31.568\"/>\n<g>\n\t<path class=\"st1\" d=\"M366.339,36.668h3.979c3.354,0,5.67,2.302,5.67,5.305v0.03c0,3.003-2.317,5.335-5.67,5.335h-3.979V36.668z    M368.214,38.375v7.256h2.104c2.241,0,3.704-1.509,3.704-3.598v-0.031c0-2.088-1.463-3.628-3.704-3.628H368.214z\"/>\n\t<path class=\"st1\" d=\"M382.235,36.592h1.738l4.695,10.747h-1.981l-1.083-2.576h-5.045l-1.098,2.576h-1.92L382.235,36.592z    M384.917,43.101l-1.844-4.268l-1.829,4.268H384.917z\"/>\n\t<path class=\"st1\" d=\"M392.689,38.406h-3.384v-1.738h8.658v1.738h-3.384v8.933h-1.89V38.406z\"/>\n\t<path class=\"st1\" d=\"M403.297,36.592h1.738l4.695,10.747h-1.981l-1.083-2.576h-5.045l-1.098,2.576h-1.92L403.297,36.592z    M405.979,43.101l-1.844-4.268l-1.829,4.268H405.979z\"/>\n\t<path class=\"st1\" d=\"M411.602,45.784l1.128-1.342c1.021,0.884,2.059,1.387,3.369,1.387c1.158,0,1.891-0.549,1.891-1.341v-0.03   c0-0.762-0.428-1.174-2.409-1.631c-2.271-0.549-3.552-1.219-3.552-3.186V39.61c0-1.829,1.524-3.094,3.644-3.094   c1.555,0,2.789,0.472,3.872,1.341l-1.007,1.417c-0.96-0.716-1.92-1.097-2.896-1.097c-1.098,0-1.738,0.564-1.738,1.265v0.03   c0,0.823,0.488,1.189,2.546,1.677c2.256,0.549,3.414,1.357,3.414,3.125v0.03c0,1.997-1.569,3.186-3.811,3.186   C414.422,47.491,412.882,46.927,411.602,45.784z\"/>\n\t<path class=\"st1\" d=\"M423.017,36.668h7.911v1.677h-6.036v2.774h5.351v1.677h-5.351v2.866h6.112v1.677h-7.987V36.668z\"/>\n\t<path class=\"st1\" d=\"M436.794,38.406h-3.385v-1.738h8.658v1.738h-3.384v8.933h-1.89V38.406z\"/>\n</g>\n<g>\n\t<g>\n\t\t<rect x=\"129.834\" y=\"293.712\" class=\"st0\" width=\"4.103\" height=\"32.706\"/>\n\t\t<g>\n\t\t\t<polygon class=\"st0\" points=\"138.022,324.623 131.886,335.249 125.75,324.623    \"/>\n\t\t</g>\n\t</g>\n</g>\n<g>\n\t<g>\n\t\t<rect x=\"402.242\" y=\"293.712\" class=\"st0\" width=\"4.103\" height=\"32.706\"/>\n\t\t<g>\n\t\t\t<polygon class=\"st0\" points=\"410.43,324.623 404.293,335.249 398.157,324.623    \"/>\n\t\t</g>\n\t</g>\n</g>\n<g>\n\t<g>\n\t\t<rect x=\"402.242\" y=\"373.547\" class=\"st0\" width=\"4.103\" height=\"32.706\"/>\n\t\t<g>\n\t\t\t<polygon class=\"st0\" points=\"410.43,404.458 404.293,415.084 398.157,404.458    \"/>\n\t\t</g>\n\t</g>\n</g>\n<g>\n\t<g>\n\t\t<rect x=\"402.242\" y=\"464.648\" class=\"st0\" width=\"4.103\" height=\"32.705\"/>\n\t\t<g>\n\t\t\t<polygon class=\"st0\" points=\"410.43,495.558 404.293,506.185 398.157,495.558    \"/>\n\t\t</g>\n\t</g>\n</g>\n<g>\n\t<g>\n\t\t<rect x=\"676.474\" y=\"293.712\" class=\"st0\" width=\"4.102\" height=\"32.706\"/>\n\t\t<g>\n\t\t\t<polygon class=\"st0\" points=\"684.661,324.623 678.524,335.249 672.388,324.623    \"/>\n\t\t</g>\n\t</g>\n</g>\n<g>\n\t<polygon class=\"st0\" points=\"232.389,441.441 128.765,441.441 128.765,373.547 132.868,373.547 132.868,437.34 232.389,437.34  \"/>\n\t<g>\n\t\t<polygon class=\"st0\" points=\"230.593,445.527 241.22,439.391 230.593,433.254   \"/>\n\t</g>\n</g>\n<g>\n\t<polygon class=\"st0\" points=\"132.868,79.729 128.765,79.729 128.765,40.105 356.66,40.105 356.66,44.208 132.868,44.208  \"/>\n\t<g>\n\t\t<polygon class=\"st0\" points=\"124.68,77.933 130.816,88.56 136.953,77.933   \"/>\n\t</g>\n</g>\n<g>\n\t<polygon class=\"st0\" points=\"680.113,79.729 676.012,79.729 676.012,44.208 452.22,44.208 452.22,40.105 680.113,40.105  \"/>\n\t<g>\n\t\t<polygon class=\"st0\" points=\"671.926,77.933 678.063,88.56 684.199,77.933   \"/>\n\t</g>\n</g>\n<g>\n\t<polygon class=\"st0\" points=\"680.833,441.441 577.21,441.441 577.21,437.34 676.731,437.34 676.731,373.547 680.833,373.547  \"/>\n\t<g>\n\t\t<polygon class=\"st0\" points=\"579.005,433.254 568.379,439.391 579.005,445.527   \"/>\n\t</g>\n</g>\n</svg>",
      "text/plain": [
       "<IPython.core.display.SVG object>"
      ]
     },
     "metadata": {},
     "output_type": "display_data"
    }
   ],
   "source": [
    "from IPython.display import SVG, display\n",
    "\n",
    "display(SVG(\"https://www.tibco.com/sites/tibco/files/media_entity/2021-05/random-forest-diagram.svg\"))"
   ]
  },
  {
   "cell_type": "code",
   "execution_count": 130,
   "metadata": {},
   "outputs": [],
   "source": [
    "from sklearn.ensemble import RandomForestClassifier"
   ]
  },
  {
   "cell_type": "code",
   "execution_count": 131,
   "metadata": {},
   "outputs": [
    {
     "data": {
      "text/plain": [
       "0.7749449032476812"
      ]
     },
     "execution_count": 131,
     "metadata": {},
     "output_type": "execute_result"
    }
   ],
   "source": [
    "rf = RandomForestClassifier(n_estimators=10) # decision tree regressors (estimators) defaults to 100 in Scikit Learn.\n",
    "rf.fit(X_train, y_train)\n",
    "y_pred = rf.predict_proba(X_val)[:, 1]\n",
    "roc_auc_score(y_val, y_pred)"
   ]
  },
  {
   "cell_type": "markdown",
   "metadata": {},
   "source": [
    "If we repeat one more time - it changes:"
   ]
  },
  {
   "cell_type": "code",
   "execution_count": 132,
   "metadata": {},
   "outputs": [
    {
     "data": {
      "text/plain": [
       "0.7934295609212662"
      ]
     },
     "execution_count": 132,
     "metadata": {},
     "output_type": "execute_result"
    }
   ],
   "source": [
    "rf = RandomForestClassifier(n_estimators=10)\n",
    "rf.fit(X_train, y_train)\n",
    "y_pred = rf.predict_proba(X_val)[:, 1]\n",
    "roc_auc_score(y_val, y_pred)"
   ]
  },
  {
   "cell_type": "markdown",
   "metadata": {},
   "source": [
    "To understand how much it changes, we can repeat it 100 times and look at the mean and the standard deviation"
   ]
  },
  {
   "cell_type": "code",
   "execution_count": 134,
   "metadata": {},
   "outputs": [
    {
     "name": "stdout",
     "output_type": "stream",
     "text": [
      "0.785 +- 0.009\n",
      "(0.777, 0.794)\n"
     ]
    }
   ],
   "source": [
    "aucs = []\n",
    "\n",
    "for i in range(100):\n",
    "    rf = RandomForestClassifier(n_estimators=10)\n",
    "    rf.fit(X_train, y_train)\n",
    "    y_pred = rf.predict_proba(X_val)[:, 1]\n",
    "    auc = roc_auc_score(y_val, y_pred)\n",
    "    aucs.append(auc)\n",
    "\n",
    "auc_mean = np.mean(aucs)\n",
    "auc_std = np.std(aucs)\n",
    "\n",
    "print('%.3f +- %.3f' % (auc_mean, auc_std))\n",
    "print('(%.3f, %.3f)' % (auc_mean - auc_std, auc_mean + auc_std))"
   ]
  },
  {
   "cell_type": "markdown",
   "metadata": {},
   "source": [
    "To fix this issue, let's set the seed"
   ]
  },
  {
   "cell_type": "code",
   "execution_count": 135,
   "metadata": {},
   "outputs": [
    {
     "data": {
      "text/plain": [
       "0.7811145285897654"
      ]
     },
     "execution_count": 135,
     "metadata": {},
     "output_type": "execute_result"
    }
   ],
   "source": [
    "rf = RandomForestClassifier(n_estimators=10, random_state=3)\n",
    "rf.fit(X_train, y_train)\n",
    "y_pred = rf.predict_proba(X_val)[:, 1]\n",
    "roc_auc_score(y_val, y_pred)"
   ]
  },
  {
   "cell_type": "markdown",
   "metadata": {},
   "source": [
    "Now we'll check how AUC depends on the number of trees"
   ]
  },
  {
   "cell_type": "code",
   "execution_count": 136,
   "metadata": {},
   "outputs": [
    {
     "name": "stdout",
     "output_type": "stream",
     "text": [
      "  10 -> 0.781\n",
      "  20 -> 0.801\n",
      "  30 -> 0.813\n",
      "  40 -> 0.815\n",
      "  50 -> 0.816\n",
      "  60 -> 0.817\n",
      "  70 -> 0.818\n",
      "  80 -> 0.818\n",
      "  90 -> 0.820\n",
      " 100 -> 0.819\n",
      " 110 -> 0.819\n",
      " 120 -> 0.821\n",
      " 130 -> 0.822\n",
      " 140 -> 0.822\n",
      " 150 -> 0.820\n",
      " 160 -> 0.820\n",
      " 170 -> 0.819\n",
      " 180 -> 0.820\n",
      " 190 -> 0.820\n",
      " 200 -> 0.820\n"
     ]
    }
   ],
   "source": [
    "aucs = []\n",
    "\n",
    "for i in range(10, 201, 10):\n",
    "    rf = RandomForestClassifier(n_estimators=i, random_state=3)\n",
    "    rf.fit(X_train, y_train)\n",
    "    y_pred = rf.predict_proba(X_val)[:, 1]\n",
    "    auc = roc_auc_score(y_val, y_pred)\n",
    "    aucs.append(auc)\n",
    "    print('%4s -> %.3f' % (i, auc))"
   ]
  },
  {
   "cell_type": "code",
   "execution_count": 147,
   "metadata": {},
   "outputs": [
    {
     "data": {
      "image/png": "[encoded data removed]",
      "text/plain": [
       "<Figure size 500x300 with 1 Axes>"
      ]
     },
     "metadata": {},
     "output_type": "display_data"
    }
   ],
   "source": [
    "plt.figure(figsize=(5, 3))\n",
    "\n",
    "plt.plot(range(10, 201, 10), aucs, color='black')\n",
    "plt.xticks(range(0, 201, 25))\n",
    "\n",
    "plt.title('Number of trees vs AUC')\n",
    "plt.xlabel('Number of trees')\n",
    "plt.ylabel('AUC')\n",
    "\n",
    "# plt.savefig('ch06-figures/06_random_forest_n_estimators.svg')\n",
    "\n",
    "plt.show()"
   ]
  },
  {
   "cell_type": "markdown",
   "metadata": {},
   "source": [
    "Tuninig the `max_depth` parameter:"
   ]
  },
  {
   "cell_type": "code",
   "execution_count": 143,
   "metadata": {
    "scrolled": true
   },
   "outputs": [
    {
     "name": "stdout",
     "output_type": "stream",
     "text": [
      "depth: (5)\n",
      "  10 -> 0.788\n",
      "  20 -> 0.798\n",
      "  30 -> 0.800\n",
      "  40 -> 0.800\n",
      "  50 -> 0.800\n",
      "  60 -> 0.801\n",
      "  70 -> 0.802\n",
      "  80 -> 0.803\n",
      "  90 -> 0.804\n",
      " 100 -> 0.804\n",
      " 110 -> 0.807\n",
      " 120 -> 0.806\n",
      " 130 -> 0.808\n",
      " 140 -> 0.807\n",
      " 150 -> 0.807\n",
      " 160 -> 0.807\n",
      " 170 -> 0.807\n",
      " 180 -> 0.807\n",
      " 190 -> 0.807\n",
      " 200 -> 0.807\n",
      "---------------\n",
      "depth: (10)\n",
      "  10 -> 0.791\n",
      "  20 -> 0.808\n",
      "  30 -> 0.812\n",
      "  40 -> 0.818\n",
      "  50 -> 0.817\n",
      "  60 -> 0.819\n",
      "  70 -> 0.820\n",
      "  80 -> 0.820\n",
      "  90 -> 0.820\n",
      " 100 -> 0.821\n",
      " 110 -> 0.823\n",
      " 120 -> 0.823\n",
      " 130 -> 0.825\n",
      " 140 -> 0.824\n",
      " 150 -> 0.824\n",
      " 160 -> 0.825\n",
      " 170 -> 0.825\n",
      " 180 -> 0.825\n",
      " 190 -> 0.825\n",
      " 200 -> 0.825\n",
      "---------------\n",
      "depth: (20)\n",
      "  10 -> 0.776\n",
      "  20 -> 0.803\n",
      "  30 -> 0.813\n",
      "  40 -> 0.817\n",
      "  50 -> 0.815\n",
      "  60 -> 0.813\n",
      "  70 -> 0.814\n",
      "  80 -> 0.815\n",
      "  90 -> 0.814\n",
      " 100 -> 0.815\n",
      " 110 -> 0.817\n",
      " 120 -> 0.816\n",
      " 130 -> 0.818\n",
      " 140 -> 0.818\n",
      " 150 -> 0.818\n",
      " 160 -> 0.818\n",
      " 170 -> 0.817\n",
      " 180 -> 0.817\n",
      " 190 -> 0.817\n",
      " 200 -> 0.818\n",
      "---------------\n"
     ]
    }
   ],
   "source": [
    "all_aucs = {}\n",
    "\n",
    "for d in [5, 10, 20]:\n",
    "    print('depth: (%s)' % d)\n",
    "    aucs = []\n",
    "\n",
    "    for i in range(10, 201, 10):\n",
    "        rf = RandomForestClassifier(n_estimators=i, max_depth=d, random_state=1)\n",
    "        rf.fit(X_train, y_train)\n",
    "        y_pred = rf.predict_proba(X_val)[:, 1]\n",
    "        auc = roc_auc_score(y_val, y_pred)\n",
    "        aucs.append(auc)\n",
    "        print('%4s -> %.3f' % (i, auc))\n",
    "    \n",
    "    all_aucs[d] = aucs\n",
    "    print(\"-\"*15)"
   ]
  },
  {
   "cell_type": "code",
   "execution_count": 146,
   "metadata": {
    "scrolled": false
   },
   "outputs": [
    {
     "data": {
      "image/png": "[encoded data removed]",
      "text/plain": [
       "<Figure size 500x300 with 1 Axes>"
      ]
     },
     "metadata": {},
     "output_type": "display_data"
    }
   ],
   "source": [
    "plt.figure(figsize=(5, 3))\n",
    "\n",
    "num_trees = list(range(10, 201, 10))\n",
    "\n",
    "plt.plot(num_trees, all_aucs[5], label='depth=5', color='black', linestyle='dotted')\n",
    "plt.plot(num_trees, all_aucs[10], label='depth=10', color='black', linestyle='dashed')\n",
    "plt.plot(num_trees, all_aucs[20], label='depth=20', color='black', linestyle='solid')\n",
    "    \n",
    "plt.xticks(range(0, 201, 25))\n",
    "plt.legend()\n",
    "\n",
    "plt.title('Number of trees vs AUC')\n",
    "plt.xlabel('Number of trees')\n",
    "plt.ylabel('AUC')\n",
    "\n",
    "# plt.savefig('ch06-figures/06_random_forest_n_estimators_depth.svg')\n",
    "\n",
    "plt.show()"
   ]
  },
  {
   "cell_type": "markdown",
   "metadata": {},
   "source": [
    "Tuning the `min_samples_leaf` parameter"
   ]
  },
  {
   "cell_type": "code",
   "execution_count": 148,
   "metadata": {
    "scrolled": true
   },
   "outputs": [
    {
     "name": "stdout",
     "output_type": "stream",
     "text": [
      "min_samples_leaf: 3\n",
      "  10 -> 0.811\n",
      "  30 -> 0.823\n",
      "  50 -> 0.823\n",
      "  70 -> 0.822\n",
      "  90 -> 0.823\n",
      " 110 -> 0.823\n",
      " 130 -> 0.824\n",
      " 150 -> 0.825\n",
      " 170 -> 0.825\n",
      " 190 -> 0.825\n",
      "\n",
      "min_samples_leaf: 5\n",
      "  10 -> 0.813\n",
      "  30 -> 0.818\n",
      "  50 -> 0.821\n",
      "  70 -> 0.822\n",
      "  90 -> 0.822\n",
      " 110 -> 0.825\n",
      " 130 -> 0.825\n",
      " 150 -> 0.825\n",
      " 170 -> 0.825\n",
      " 190 -> 0.826\n",
      "\n",
      "min_samples_leaf: 10\n",
      "  10 -> 0.810\n",
      "  30 -> 0.822\n",
      "  50 -> 0.822\n",
      "  70 -> 0.819\n",
      "  90 -> 0.820\n",
      " 110 -> 0.820\n",
      " 130 -> 0.821\n",
      " 150 -> 0.820\n",
      " 170 -> 0.820\n",
      " 190 -> 0.820\n",
      "\n"
     ]
    }
   ],
   "source": [
    "all_aucs = {}\n",
    "\n",
    "for m in [3, 5, 10]:\n",
    "    print('min_samples_leaf: %s' % m)\n",
    "    aucs = []\n",
    "\n",
    "    for i in range(10, 201, 20):\n",
    "        rf = RandomForestClassifier(n_estimators=i, max_depth=10, min_samples_leaf=m, random_state=1)\n",
    "        rf.fit(X_train, y_train)\n",
    "        y_pred = rf.predict_proba(X_val)[:, 1]\n",
    "        auc = roc_auc_score(y_val, y_pred)\n",
    "        aucs.append(auc)\n",
    "        print('%4s -> %.3f' % (i, auc))\n",
    "    \n",
    "    all_aucs[m] = aucs\n",
    "    print()"
   ]
  },
  {
   "cell_type": "code",
   "execution_count": 150,
   "metadata": {
    "scrolled": false
   },
   "outputs": [
    {
     "data": {
      "image/png": "[encoded data removed]",
      "text/plain": [
       "<Figure size 500x300 with 1 Axes>"
      ]
     },
     "metadata": {},
     "output_type": "display_data"
    }
   ],
   "source": [
    "plt.figure(figsize=(5, 3))\n",
    "\n",
    "num_trees = list(range(10, 201, 20))\n",
    "\n",
    "plt.plot(num_trees, all_aucs[3], label='min_samples_leaf=3', color='black', linestyle='dotted')\n",
    "plt.plot(num_trees, all_aucs[5], label='min_samples_leaf=5', color='black', linestyle='dashed')\n",
    "plt.plot(num_trees, all_aucs[10], label='min_samples_leaf=10', color='black', linestyle='solid')\n",
    "    \n",
    "plt.xticks(range(0, 201, 25))\n",
    "plt.legend()\n",
    "\n",
    "plt.title('Number of trees vs AUC')\n",
    "plt.xlabel('Number of trees')\n",
    "plt.ylabel('AUC')\n",
    "\n",
    "# plt.savefig('ch06-figures/06_random_forest_n_estimators_sample_leaf.svg')\n",
    "\n",
    "plt.show()"
   ]
  },
  {
   "cell_type": "markdown",
   "metadata": {},
   "source": [
    "Training the final model:"
   ]
  },
  {
   "cell_type": "code",
   "execution_count": 151,
   "metadata": {},
   "outputs": [
    {
     "data": {
      "text/html": [
       "<style>#sk-container-id-2 {color: black;background-color: white;}#sk-container-id-2 pre{padding: 0;}#sk-container-id-2 div.sk-toggleable {background-color: white;}#sk-container-id-2 label.sk-toggleable__label {cursor: pointer;display: block;width: 100%;margin-bottom: 0;padding: 0.3em;box-sizing: border-box;text-align: center;}#sk-container-id-2 label.sk-toggleable__label-arrow:before {content: \"▸\";float: left;margin-right: 0.25em;color: #696969;}#sk-container-id-2 label.sk-toggleable__label-arrow:hover:before {color: black;}#sk-container-id-2 div.sk-estimator:hover label.sk-toggleable__label-arrow:before {color: black;}#sk-container-id-2 div.sk-toggleable__content {max-height: 0;max-width: 0;overflow: hidden;text-align: left;background-color: #f0f8ff;}#sk-container-id-2 div.sk-toggleable__content pre {margin: 0.2em;color: black;border-radius: 0.25em;background-color: #f0f8ff;}#sk-container-id-2 input.sk-toggleable__control:checked~div.sk-toggleable__content {max-height: 200px;max-width: 100%;overflow: auto;}#sk-container-id-2 input.sk-toggleable__control:checked~label.sk-toggleable__label-arrow:before {content: \"▾\";}#sk-container-id-2 div.sk-estimator input.sk-toggleable__control:checked~label.sk-toggleable__label {background-color: #d4ebff;}#sk-container-id-2 div.sk-label input.sk-toggleable__control:checked~label.sk-toggleable__label {background-color: #d4ebff;}#sk-container-id-2 input.sk-hidden--visually {border: 0;clip: rect(1px 1px 1px 1px);clip: rect(1px, 1px, 1px, 1px);height: 1px;margin: -1px;overflow: hidden;padding: 0;position: absolute;width: 1px;}#sk-container-id-2 div.sk-estimator {font-family: monospace;background-color: #f0f8ff;border: 1px dotted black;border-radius: 0.25em;box-sizing: border-box;margin-bottom: 0.5em;}#sk-container-id-2 div.sk-estimator:hover {background-color: #d4ebff;}#sk-container-id-2 div.sk-parallel-item::after {content: \"\";width: 100%;border-bottom: 1px solid gray;flex-grow: 1;}#sk-container-id-2 div.sk-label:hover label.sk-toggleable__label {background-color: #d4ebff;}#sk-container-id-2 div.sk-serial::before {content: \"\";position: absolute;border-left: 1px solid gray;box-sizing: border-box;top: 0;bottom: 0;left: 50%;z-index: 0;}#sk-container-id-2 div.sk-serial {display: flex;flex-direction: column;align-items: center;background-color: white;padding-right: 0.2em;padding-left: 0.2em;position: relative;}#sk-container-id-2 div.sk-item {position: relative;z-index: 1;}#sk-container-id-2 div.sk-parallel {display: flex;align-items: stretch;justify-content: center;background-color: white;position: relative;}#sk-container-id-2 div.sk-item::before, #sk-container-id-2 div.sk-parallel-item::before {content: \"\";position: absolute;border-left: 1px solid gray;box-sizing: border-box;top: 0;bottom: 0;left: 50%;z-index: -1;}#sk-container-id-2 div.sk-parallel-item {display: flex;flex-direction: column;z-index: 1;position: relative;background-color: white;}#sk-container-id-2 div.sk-parallel-item:first-child::after {align-self: flex-end;width: 50%;}#sk-container-id-2 div.sk-parallel-item:last-child::after {align-self: flex-start;width: 50%;}#sk-container-id-2 div.sk-parallel-item:only-child::after {width: 0;}#sk-container-id-2 div.sk-dashed-wrapped {border: 1px dashed gray;margin: 0 0.4em 0.5em 0.4em;box-sizing: border-box;padding-bottom: 0.4em;background-color: white;}#sk-container-id-2 div.sk-label label {font-family: monospace;font-weight: bold;display: inline-block;line-height: 1.2em;}#sk-container-id-2 div.sk-label-container {text-align: center;}#sk-container-id-2 div.sk-container {/* jupyter's `normalize.less` sets `[hidden] { display: none; }` but bootstrap.min.css set `[hidden] { display: none !important; }` so we also need the `!important` here to be able to override the default hidden behavior on the sphinx rendered scikit-learn.org. See: https://github.com/scikit-learn/scikit-learn/issues/21755 */display: inline-block !important;position: relative;}#sk-container-id-2 div.sk-text-repr-fallback {display: none;}</style><div id=\"sk-container-id-2\" class=\"sk-top-container\"><div class=\"sk-text-repr-fallback\"><pre>RandomForestClassifier(max_depth=10, min_samples_leaf=5, n_estimators=200,\n",
       "                       random_state=1)</pre><b>In a Jupyter environment, please rerun this cell to show the HTML representation or trust the notebook. <br />On GitHub, the HTML representation is unable to render, please try loading this page with nbviewer.org.</b></div><div class=\"sk-container\" hidden><div class=\"sk-item\"><div class=\"sk-estimator sk-toggleable\"><input class=\"sk-toggleable__control sk-hidden--visually\" id=\"sk-estimator-id-2\" type=\"checkbox\" checked><label for=\"sk-estimator-id-2\" class=\"sk-toggleable__label sk-toggleable__label-arrow\">RandomForestClassifier</label><div class=\"sk-toggleable__content\"><pre>RandomForestClassifier(max_depth=10, min_samples_leaf=5, n_estimators=200,\n",
       "                       random_state=1)</pre></div></div></div></div></div>"
      ],
      "text/plain": [
       "RandomForestClassifier(max_depth=10, min_samples_leaf=5, n_estimators=200,\n",
       "                       random_state=1)"
      ]
     },
     "execution_count": 151,
     "metadata": {},
     "output_type": "execute_result"
    }
   ],
   "source": [
    "rf = RandomForestClassifier(n_estimators=200, max_depth=10, min_samples_leaf=5, random_state=1)\n",
    "rf.fit(X_train, y_train)"
   ]
  },
  {
   "cell_type": "code",
   "execution_count": 152,
   "metadata": {},
   "outputs": [
    {
     "data": {
      "text/plain": [
       "0.8253826499721489"
      ]
     },
     "execution_count": 152,
     "metadata": {},
     "output_type": "execute_result"
    }
   ],
   "source": [
    "y_pred_rf = rf.predict_proba(X_val)[:, 1]\n",
    "roc_auc_score(y_val, y_pred_rf)"
   ]
  },
  {
   "cell_type": "code",
   "execution_count": 154,
   "metadata": {},
   "outputs": [
    {
     "data": {
      "image/png": "[encoded data removed]",
      "text/plain": [
       "<Figure size 400x400 with 1 Axes>"
      ]
     },
     "metadata": {},
     "output_type": "display_data"
    }
   ],
   "source": [
    "plt.figure(figsize=(4, 4))\n",
    "\n",
    "fpr, tpr, _ = roc_curve(y_val, y_pred_rf)\n",
    "plt.plot(fpr, tpr, color='black', label='Random Forest')\n",
    "\n",
    "fpr, tpr, _ = roc_curve(y_val, y_pred_dt)\n",
    "plt.plot(fpr, tpr, color='black', linestyle='dashed', label='Decision Tree')\n",
    "\n",
    "plt.plot([0, 1], [0, 1], color='black', lw=0.7, linestyle='dashed', alpha=0.5, label='Baseline')\n",
    "\n",
    "plt.legend()\n",
    "\n",
    "plt.xlim([-0.02, 1.02])\n",
    "plt.ylim([-0.02, 1.02])\n",
    "plt.xlabel('False Positive Rate')\n",
    "plt.ylabel('True Positive Rate')\n",
    "\n",
    "plt.title('ROC curve')\n",
    "\n",
    "plt.show()"
   ]
  },
  {
   "attachments": {},
   "cell_type": "markdown",
   "metadata": {},
   "source": [
    "## Gradient Booting Trees / XGBoost"
   ]
  },
  {
   "cell_type": "code",
   "execution_count": 156,
   "metadata": {},
   "outputs": [],
   "source": [
    "import xgboost as xgb"
   ]
  },
  {
   "cell_type": "code",
   "execution_count": 157,
   "metadata": {},
   "outputs": [],
   "source": [
    "dtrain = xgb.DMatrix(X_train, label=y_train, feature_names=dv.feature_names_)\n",
    "dval = xgb.DMatrix(X_val, label=y_val, feature_names=dv.feature_names_)"
   ]
  },
  {
   "cell_type": "code",
   "execution_count": 176,
   "metadata": {
    "scrolled": true
   },
   "outputs": [],
   "source": [
    "xgb_params = {\n",
    "    'eta': 0.3, # learning_rate: How fast our model learn.\n",
    "    'max_depth': 6, # Size of trees.\n",
    "    'min_child_weight': 1, # How many observations w should have in a leaf node\n",
    "\n",
    "    'objective': 'binary:logistic', # logistic regression for binary classification, output probability.\n",
    "    'nthread': 8, # Number of parallel threads used to run XGBoost. default to maximum number of threads available if not set.\n",
    "    'seed': 1\n",
    "}"
   ]
  },
  {
   "cell_type": "code",
   "execution_count": 177,
   "metadata": {},
   "outputs": [],
   "source": [
    "model = xgb.train(xgb_params, dtrain, num_boost_round=10)"
   ]
  },
  {
   "cell_type": "code",
   "execution_count": 178,
   "metadata": {},
   "outputs": [
    {
     "data": {
      "text/plain": [
       "array([0.08926772, 0.0468099 , 0.09692743, 0.17261842, 0.05435968,\n",
       "       0.12576081, 0.08033007, 0.61870354, 0.486538  , 0.04056795],\n",
       "      dtype=float32)"
      ]
     },
     "execution_count": 178,
     "metadata": {},
     "output_type": "execute_result"
    }
   ],
   "source": [
    "y_pred = model.predict(dval)\n",
    "y_pred[:10]"
   ]
  },
  {
   "cell_type": "code",
   "execution_count": 179,
   "metadata": {},
   "outputs": [
    {
     "data": {
      "text/plain": [
       "0.8152745150274878"
      ]
     },
     "execution_count": 179,
     "metadata": {},
     "output_type": "execute_result"
    }
   ],
   "source": [
    "roc_auc_score(y_val, y_pred)"
   ]
  },
  {
   "cell_type": "code",
   "execution_count": 180,
   "metadata": {},
   "outputs": [],
   "source": [
    "# Watchlist contains datasets that we want to evaluate our model.\n",
    "watchlist = [(dtrain, 'train'), (dval, 'val')]"
   ]
  },
  {
   "cell_type": "code",
   "execution_count": 181,
   "metadata": {},
   "outputs": [],
   "source": [
    "xgb_params = {\n",
    "    'eta': 0.3,\n",
    "    'max_depth': 6,\n",
    "    'min_child_weight': 1,\n",
    "\n",
    "    'objective': 'binary:logistic',\n",
    "    'eval_metric': 'auc',\n",
    "    'nthread': 8,\n",
    "    'seed': 1\n",
    "}"
   ]
  },
  {
   "cell_type": "code",
   "execution_count": 182,
   "metadata": {},
   "outputs": [
    {
     "name": "stdout",
     "output_type": "stream",
     "text": [
      "[0]\ttrain-auc:0.86300\tval-auc:0.76818\n",
      "[10]\ttrain-auc:0.95002\tval-auc:0.81558\n",
      "[20]\ttrain-auc:0.97316\tval-auc:0.81775\n",
      "[30]\ttrain-auc:0.98772\tval-auc:0.81787\n",
      "[40]\ttrain-auc:0.99456\tval-auc:0.81387\n",
      "[50]\ttrain-auc:0.99688\tval-auc:0.81128\n",
      "[60]\ttrain-auc:0.99889\tval-auc:0.80801\n",
      "[70]\ttrain-auc:0.99944\tval-auc:0.80732\n",
      "[80]\ttrain-auc:0.99985\tval-auc:0.80677\n",
      "[90]\ttrain-auc:0.99992\tval-auc:0.80637\n",
      "[99]\ttrain-auc:0.99998\tval-auc:0.80546\n"
     ]
    }
   ],
   "source": [
    "model = xgb.train(xgb_params, dtrain, num_boost_round=100,\n",
    "                  evals=watchlist, verbose_eval=10)"
   ]
  },
  {
   "cell_type": "markdown",
   "metadata": {},
   "source": [
    "To capture this output, we can use \n",
    "\n",
    "- `%%capture` instruction that saves the result to `output`\n",
    "- `parse_xgb_output` function that parses it"
   ]
  },
  {
   "cell_type": "code",
   "execution_count": 183,
   "metadata": {
    "scrolled": true
   },
   "outputs": [],
   "source": [
    "%%capture output\n",
    "\n",
    "model = xgb.train(xgb_params, dtrain, num_boost_round=100,\n",
    "                  evals=watchlist, verbose_eval=5)"
   ]
  },
  {
   "cell_type": "code",
   "execution_count": 195,
   "metadata": {},
   "outputs": [
    {
     "name": "stdout",
     "output_type": "stream",
     "text": [
      "[0]\ttrain-auc:0.86300\tval-auc:0.76818\n",
      "[5]\ttrain-auc:0.92863\tval-auc:0.80606\n",
      "[10]\ttrain-auc:0.95002\tval-auc:0.81558\n",
      "[15]\ttrain-auc:0.96558\tval-auc:0.81680\n",
      "[20]\ttrain-auc:0.97316\tval-auc:0.81775\n",
      "[25]\ttrain-auc:0.98174\tval-auc:0.81878\n",
      "[30]\ttrain-auc:0.98772\tval-auc:0.81787\n",
      "[35]\ttrain-auc:0.99180\tval-auc:0.81510\n",
      "[40]\ttrain-auc:0.99456\tval-auc:0.81387\n",
      "[45]\ttrain-auc:0.99596\tval-auc:0.81462\n",
      "[50]\ttrain-auc:0.99688\tval-auc:0.81128\n",
      "[55]\ttrain-auc:0.99787\tval-auc:0.80874\n",
      "[60]\ttrain-auc:0.99889\tval-auc:0.80801\n",
      "[65]\ttrain-auc:0.99919\tval-auc:0.80751\n",
      "[70]\ttrain-auc:0.99944\tval-auc:0.80732\n",
      "[75]\ttrain-auc:0.99964\tval-auc:0.80692\n",
      "[80]\ttrain-auc:0.99985\tval-auc:0.80677\n",
      "[85]\ttrain-auc:0.99986\tval-auc:0.80671\n",
      "[90]\ttrain-auc:0.99992\tval-auc:0.80637\n",
      "[95]\ttrain-auc:0.99996\tval-auc:0.80580\n",
      "[99]\ttrain-auc:0.99998\tval-auc:0.80546\n",
      "\n",
      "<class 'str'>\n"
     ]
    }
   ],
   "source": [
    "s = output.stdout\n",
    "print(s, type(s), sep='\\n')"
   ]
  },
  {
   "cell_type": "code",
   "execution_count": 190,
   "metadata": {},
   "outputs": [
    {
     "name": "stdout",
     "output_type": "stream",
     "text": [
      "['[0]\\ttrain-auc:0.86300\\tval-auc:0.76818', '[5]\\ttrain-auc:0.92863\\tval-auc:0.80606', '[10]\\ttrain-auc:0.95002\\tval-auc:0.81558', '[15]\\ttrain-auc:0.96558\\tval-auc:0.81680', '[20]\\ttrain-auc:0.97316\\tval-auc:0.81775', '[25]\\ttrain-auc:0.98174\\tval-auc:0.81878', '[30]\\ttrain-auc:0.98772\\tval-auc:0.81787', '[35]\\ttrain-auc:0.99180\\tval-auc:0.81510', '[40]\\ttrain-auc:0.99456\\tval-auc:0.81387', '[45]\\ttrain-auc:0.99596\\tval-auc:0.81462', '[50]\\ttrain-auc:0.99688\\tval-auc:0.81128', '[55]\\ttrain-auc:0.99787\\tval-auc:0.80874', '[60]\\ttrain-auc:0.99889\\tval-auc:0.80801', '[65]\\ttrain-auc:0.99919\\tval-auc:0.80751', '[70]\\ttrain-auc:0.99944\\tval-auc:0.80732', '[75]\\ttrain-auc:0.99964\\tval-auc:0.80692', '[80]\\ttrain-auc:0.99985\\tval-auc:0.80677', '[85]\\ttrain-auc:0.99986\\tval-auc:0.80671', '[90]\\ttrain-auc:0.99992\\tval-auc:0.80637', '[95]\\ttrain-auc:0.99996\\tval-auc:0.80580', '[99]\\ttrain-auc:0.99998\\tval-auc:0.80546']\n"
     ]
    }
   ],
   "source": [
    "print(s.strip().split('\\n'))"
   ]
  },
  {
   "cell_type": "code",
   "execution_count": 193,
   "metadata": {},
   "outputs": [
    {
     "data": {
      "text/plain": [
       "[['[0]', 'train-auc:0.86300', 'val-auc:0.76818'],\n",
       " ['[5]', 'train-auc:0.92863', 'val-auc:0.80606'],\n",
       " ['[10]', 'train-auc:0.95002', 'val-auc:0.81558'],\n",
       " ['[15]', 'train-auc:0.96558', 'val-auc:0.81680'],\n",
       " ['[20]', 'train-auc:0.97316', 'val-auc:0.81775'],\n",
       " ['[25]', 'train-auc:0.98174', 'val-auc:0.81878'],\n",
       " ['[30]', 'train-auc:0.98772', 'val-auc:0.81787'],\n",
       " ['[35]', 'train-auc:0.99180', 'val-auc:0.81510'],\n",
       " ['[40]', 'train-auc:0.99456', 'val-auc:0.81387'],\n",
       " ['[45]', 'train-auc:0.99596', 'val-auc:0.81462'],\n",
       " ['[50]', 'train-auc:0.99688', 'val-auc:0.81128'],\n",
       " ['[55]', 'train-auc:0.99787', 'val-auc:0.80874'],\n",
       " ['[60]', 'train-auc:0.99889', 'val-auc:0.80801'],\n",
       " ['[65]', 'train-auc:0.99919', 'val-auc:0.80751'],\n",
       " ['[70]', 'train-auc:0.99944', 'val-auc:0.80732'],\n",
       " ['[75]', 'train-auc:0.99964', 'val-auc:0.80692'],\n",
       " ['[80]', 'train-auc:0.99985', 'val-auc:0.80677'],\n",
       " ['[85]', 'train-auc:0.99986', 'val-auc:0.80671'],\n",
       " ['[90]', 'train-auc:0.99992', 'val-auc:0.80637'],\n",
       " ['[95]', 'train-auc:0.99996', 'val-auc:0.80580'],\n",
       " ['[99]', 'train-auc:0.99998', 'val-auc:0.80546']]"
      ]
     },
     "execution_count": 193,
     "metadata": {},
     "output_type": "execute_result"
    }
   ],
   "source": [
    "[i.split('\\t') for i in s.strip().split('\\n')]"
   ]
  },
  {
   "cell_type": "code",
   "execution_count": 200,
   "metadata": {},
   "outputs": [],
   "source": [
    "def parse_xgb_output(output):\n",
    "    results = []\n",
    "\n",
    "    for line in output.stdout.strip().split('\\n'):\n",
    "        it_line, train_line, val_line = line.split('\\t')\n",
    "\n",
    "        it = int(it_line.strip('[]'))\n",
    "        train = float(train_line.split(':')[1])\n",
    "        val = float(val_line.split(':')[1])\n",
    "\n",
    "        results.append((it, train, val))\n",
    "        \n",
    "    columns = ['tree', 'aucs_train', 'aucs_val']\n",
    "    df_results = pd.DataFrame(results, columns=columns)\n",
    "    return df_results"
   ]
  },
  {
   "cell_type": "markdown",
   "metadata": {},
   "source": [
    "Let's use it for plotting the scores"
   ]
  },
  {
   "cell_type": "code",
   "execution_count": 201,
   "metadata": {},
   "outputs": [
    {
     "data": {
      "text/html": [
       "<div>\n",
       "<style scoped>\n",
       "    .dataframe tbody tr th:only-of-type {\n",
       "        vertical-align: middle;\n",
       "    }\n",
       "\n",
       "    .dataframe tbody tr th {\n",
       "        vertical-align: top;\n",
       "    }\n",
       "\n",
       "    .dataframe thead th {\n",
       "        text-align: right;\n",
       "    }\n",
       "</style>\n",
       "<table border=\"1\" class=\"dataframe\">\n",
       "  <thead>\n",
       "    <tr style=\"text-align: right;\">\n",
       "      <th></th>\n",
       "      <th>tree</th>\n",
       "      <th>aucs_train</th>\n",
       "      <th>aucs_val</th>\n",
       "    </tr>\n",
       "  </thead>\n",
       "  <tbody>\n",
       "    <tr>\n",
       "      <th>0</th>\n",
       "      <td>0</td>\n",
       "      <td>0.86300</td>\n",
       "      <td>0.76818</td>\n",
       "    </tr>\n",
       "    <tr>\n",
       "      <th>1</th>\n",
       "      <td>5</td>\n",
       "      <td>0.92863</td>\n",
       "      <td>0.80606</td>\n",
       "    </tr>\n",
       "    <tr>\n",
       "      <th>2</th>\n",
       "      <td>10</td>\n",
       "      <td>0.95002</td>\n",
       "      <td>0.81558</td>\n",
       "    </tr>\n",
       "    <tr>\n",
       "      <th>3</th>\n",
       "      <td>15</td>\n",
       "      <td>0.96558</td>\n",
       "      <td>0.81680</td>\n",
       "    </tr>\n",
       "    <tr>\n",
       "      <th>4</th>\n",
       "      <td>20</td>\n",
       "      <td>0.97316</td>\n",
       "      <td>0.81775</td>\n",
       "    </tr>\n",
       "    <tr>\n",
       "      <th>5</th>\n",
       "      <td>25</td>\n",
       "      <td>0.98174</td>\n",
       "      <td>0.81878</td>\n",
       "    </tr>\n",
       "    <tr>\n",
       "      <th>6</th>\n",
       "      <td>30</td>\n",
       "      <td>0.98772</td>\n",
       "      <td>0.81787</td>\n",
       "    </tr>\n",
       "    <tr>\n",
       "      <th>7</th>\n",
       "      <td>35</td>\n",
       "      <td>0.99180</td>\n",
       "      <td>0.81510</td>\n",
       "    </tr>\n",
       "    <tr>\n",
       "      <th>8</th>\n",
       "      <td>40</td>\n",
       "      <td>0.99456</td>\n",
       "      <td>0.81387</td>\n",
       "    </tr>\n",
       "    <tr>\n",
       "      <th>9</th>\n",
       "      <td>45</td>\n",
       "      <td>0.99596</td>\n",
       "      <td>0.81462</td>\n",
       "    </tr>\n",
       "    <tr>\n",
       "      <th>10</th>\n",
       "      <td>50</td>\n",
       "      <td>0.99688</td>\n",
       "      <td>0.81128</td>\n",
       "    </tr>\n",
       "    <tr>\n",
       "      <th>11</th>\n",
       "      <td>55</td>\n",
       "      <td>0.99787</td>\n",
       "      <td>0.80874</td>\n",
       "    </tr>\n",
       "    <tr>\n",
       "      <th>12</th>\n",
       "      <td>60</td>\n",
       "      <td>0.99889</td>\n",
       "      <td>0.80801</td>\n",
       "    </tr>\n",
       "    <tr>\n",
       "      <th>13</th>\n",
       "      <td>65</td>\n",
       "      <td>0.99919</td>\n",
       "      <td>0.80751</td>\n",
       "    </tr>\n",
       "    <tr>\n",
       "      <th>14</th>\n",
       "      <td>70</td>\n",
       "      <td>0.99944</td>\n",
       "      <td>0.80732</td>\n",
       "    </tr>\n",
       "    <tr>\n",
       "      <th>15</th>\n",
       "      <td>75</td>\n",
       "      <td>0.99964</td>\n",
       "      <td>0.80692</td>\n",
       "    </tr>\n",
       "    <tr>\n",
       "      <th>16</th>\n",
       "      <td>80</td>\n",
       "      <td>0.99985</td>\n",
       "      <td>0.80677</td>\n",
       "    </tr>\n",
       "    <tr>\n",
       "      <th>17</th>\n",
       "      <td>85</td>\n",
       "      <td>0.99986</td>\n",
       "      <td>0.80671</td>\n",
       "    </tr>\n",
       "    <tr>\n",
       "      <th>18</th>\n",
       "      <td>90</td>\n",
       "      <td>0.99992</td>\n",
       "      <td>0.80637</td>\n",
       "    </tr>\n",
       "    <tr>\n",
       "      <th>19</th>\n",
       "      <td>95</td>\n",
       "      <td>0.99996</td>\n",
       "      <td>0.80580</td>\n",
       "    </tr>\n",
       "    <tr>\n",
       "      <th>20</th>\n",
       "      <td>99</td>\n",
       "      <td>0.99998</td>\n",
       "      <td>0.80546</td>\n",
       "    </tr>\n",
       "  </tbody>\n",
       "</table>\n",
       "</div>"
      ],
      "text/plain": [
       "    tree  aucs_train  aucs_val\n",
       "0      0     0.86300   0.76818\n",
       "1      5     0.92863   0.80606\n",
       "2     10     0.95002   0.81558\n",
       "3     15     0.96558   0.81680\n",
       "4     20     0.97316   0.81775\n",
       "5     25     0.98174   0.81878\n",
       "6     30     0.98772   0.81787\n",
       "7     35     0.99180   0.81510\n",
       "8     40     0.99456   0.81387\n",
       "9     45     0.99596   0.81462\n",
       "10    50     0.99688   0.81128\n",
       "11    55     0.99787   0.80874\n",
       "12    60     0.99889   0.80801\n",
       "13    65     0.99919   0.80751\n",
       "14    70     0.99944   0.80732\n",
       "15    75     0.99964   0.80692\n",
       "16    80     0.99985   0.80677\n",
       "17    85     0.99986   0.80671\n",
       "18    90     0.99992   0.80637\n",
       "19    95     0.99996   0.80580\n",
       "20    99     0.99998   0.80546"
      ]
     },
     "execution_count": 201,
     "metadata": {},
     "output_type": "execute_result"
    }
   ],
   "source": [
    "df_score = parse_xgb_output(output)\n",
    "df_score"
   ]
  },
  {
   "cell_type": "code",
   "execution_count": 202,
   "metadata": {},
   "outputs": [
    {
     "data": {
      "image/png": "[encoded data removed]",
      "text/plain": [
       "<Figure size 500x300 with 1 Axes>"
      ]
     },
     "metadata": {},
     "output_type": "display_data"
    }
   ],
   "source": [
    "plt.figure(figsize=(5, 3))\n",
    "\n",
    "plt.plot(df_score['tree'], df_score['aucs_train'], color='black', linestyle='dashed', label='Train AUC')\n",
    "plt.plot(df_score['tree'], df_score['aucs_val'], color='black', linestyle='solid', label='Validation AUC')\n",
    "plt.xticks(range(0, 101, 25))\n",
    "\n",
    "plt.legend()\n",
    "\n",
    "plt.title('XGBoost: number of trees vs AUC')\n",
    "plt.xlabel('Number of trees')\n",
    "plt.ylabel('AUC')\n",
    "\n",
    "# plt.savefig('ch06-figures/06_xgb_default.svg')\n",
    "\n",
    "plt.show()"
   ]
  },
  {
   "attachments": {},
   "cell_type": "markdown",
   "metadata": {},
   "source": [
    "### Parameter tuning: eta\n",
    "\n",
    "eta = 0.3"
   ]
  },
  {
   "cell_type": "code",
   "execution_count": 235,
   "metadata": {
    "scrolled": true
   },
   "outputs": [],
   "source": [
    "%%capture output\n",
    "\n",
    "xgb_params = {\n",
    "    'eta': 0.3,\n",
    "    'max_depth': 6,\n",
    "    'min_child_weight': 1,\n",
    "\n",
    "    'objective': 'binary:logistic',\n",
    "    'eval_metric': 'auc',\n",
    "    'nthread': 8,\n",
    "    'seed': 1,\n",
    "}\n",
    "\n",
    "model = xgb.train(xgb_params, dtrain, num_boost_round=500,\n",
    "                  evals=watchlist, verbose_eval=10)"
   ]
  },
  {
   "cell_type": "code",
   "execution_count": 236,
   "metadata": {},
   "outputs": [
    {
     "name": "stdout",
     "output_type": "stream",
     "text": [
      "0.81787\n",
      "(0.81787, 30)\n"
     ]
    }
   ],
   "source": [
    "df_score_eta_03 = parse_xgb_output(output)\n",
    "print(max(df_score_eta_03.aucs_val))\n",
    "print(max(zip(df_score_eta_03.aucs_val, df_score_eta_03.tree)))"
   ]
  },
  {
   "attachments": {},
   "cell_type": "markdown",
   "metadata": {},
   "source": [
    "eta = 0.1"
   ]
  },
  {
   "cell_type": "code",
   "execution_count": 237,
   "metadata": {
    "scrolled": true
   },
   "outputs": [],
   "source": [
    "%%capture output\n",
    "\n",
    "xgb_params = {\n",
    "    'eta': 0.1,\n",
    "    'max_depth': 6,\n",
    "    'min_child_weight': 1,\n",
    "\n",
    "    'objective': 'binary:logistic',\n",
    "    'eval_metric': 'auc',\n",
    "    'nthread': 8,\n",
    "    'seed': 1,\n",
    "}\n",
    "\n",
    "model = xgb.train(xgb_params, dtrain, num_boost_round=500,\n",
    "                  evals=watchlist, verbose_eval=10)"
   ]
  },
  {
   "cell_type": "code",
   "execution_count": 238,
   "metadata": {},
   "outputs": [
    {
     "name": "stdout",
     "output_type": "stream",
     "text": [
      "0.82477\n",
      "(0.82477, 70)\n"
     ]
    }
   ],
   "source": [
    "df_score_eta_01 = parse_xgb_output(output)\n",
    "print(max(df_score_eta_01.aucs_val))\n",
    "print(max(zip(df_score_eta_01.aucs_val, df_score_eta_01.tree)))"
   ]
  },
  {
   "attachments": {},
   "cell_type": "markdown",
   "metadata": {},
   "source": [
    "eta = 0.05"
   ]
  },
  {
   "cell_type": "code",
   "execution_count": 239,
   "metadata": {
    "scrolled": true
   },
   "outputs": [],
   "source": [
    "%%capture output\n",
    "\n",
    "xgb_params = {\n",
    "    'eta': 0.05,\n",
    "    'max_depth': 6,\n",
    "    'min_child_weight': 1,\n",
    "\n",
    "    'objective': 'binary:logistic',\n",
    "    'eval_metric': 'auc',\n",
    "    'nthread': 8,\n",
    "    'seed': 1,\n",
    "}\n",
    "\n",
    "model = xgb.train(xgb_params, dtrain, num_boost_round=500,\n",
    "                  evals=watchlist, verbose_eval=10)"
   ]
  },
  {
   "cell_type": "code",
   "execution_count": 240,
   "metadata": {},
   "outputs": [
    {
     "name": "stdout",
     "output_type": "stream",
     "text": [
      "0.82297\n",
      "(0.82297, 120)\n"
     ]
    }
   ],
   "source": [
    "df_score_eta_005 = parse_xgb_output(output)\n",
    "print(max(df_score_eta_005.aucs_val))\n",
    "print(max(zip(df_score_eta_005.aucs_val, df_score_eta_005.tree)))"
   ]
  },
  {
   "attachments": {},
   "cell_type": "markdown",
   "metadata": {},
   "source": [
    "eta = 0.06"
   ]
  },
  {
   "cell_type": "code",
   "execution_count": 241,
   "metadata": {
    "scrolled": true
   },
   "outputs": [],
   "source": [
    "%%capture output\n",
    "\n",
    "xgb_params = {\n",
    "    'eta': 0.01,\n",
    "    'max_depth': 6,\n",
    "    'min_child_weight': 1,\n",
    "\n",
    "    'objective': 'binary:logistic',\n",
    "    'eval_metric': 'auc',\n",
    "    'nthread': 8,\n",
    "    'seed': 1,\n",
    "}\n",
    "\n",
    "model = xgb.train(xgb_params, dtrain, num_boost_round=500,\n",
    "                  evals=watchlist, verbose_eval=10)"
   ]
  },
  {
   "cell_type": "code",
   "execution_count": 242,
   "metadata": {},
   "outputs": [
    {
     "name": "stdout",
     "output_type": "stream",
     "text": [
      "0.82168\n",
      "(0.82168, 499)\n"
     ]
    }
   ],
   "source": [
    "df_score_eta_001 = parse_xgb_output(output)\n",
    "print(max(df_score_eta_001.aucs_val))\n",
    "print(max(zip(df_score_eta_001.aucs_val, df_score_eta_001.tree)))"
   ]
  },
  {
   "cell_type": "code",
   "execution_count": 243,
   "metadata": {},
   "outputs": [
    {
     "data": {
      "image/png": "[encoded data removed]",
      "text/plain": [
       "<Figure size 500x300 with 1 Axes>"
      ]
     },
     "metadata": {},
     "output_type": "display_data"
    }
   ],
   "source": [
    "plt.figure(figsize=(5, 3))\n",
    "\n",
    "plt.plot(df_score_eta_03['tree'], df_score_eta_03['aucs_val'], color='black', linestyle='solid', label='eta=0.3')\n",
    "plt.plot(df_score_eta_01['tree'], df_score_eta_01['aucs_val'], color='black', linestyle='dashed', label='eta=0.1')\n",
    "# plt.plot(df_score_eta_005['tree'], df_score_eta_005['aucs_val'], color='grey', linestyle='solid', label='eta=0.05')\n",
    "# plt.plot(df_score_eta_001['tree'], df_score_eta_001['aucs_val'], color='grey', linestyle='dashed', label='eta=0.01')\n",
    "\n",
    "plt.xticks(range(0, 501, 50))\n",
    "\n",
    "plt.legend()\n",
    "\n",
    "plt.title('The effect of eta on model performance')\n",
    "plt.xlabel('Number of trees')\n",
    "plt.ylabel('AUC (validation)')\n",
    "\n",
    "# plt.savefig('ch06-figures/06_xgb_eta.svg')\n",
    "\n",
    "plt.show()"
   ]
  },
  {
   "cell_type": "code",
   "execution_count": 223,
   "metadata": {},
   "outputs": [
    {
     "data": {
      "image/png": "[encoded data removed]",
      "text/plain": [
       "<Figure size 500x300 with 1 Axes>"
      ]
     },
     "metadata": {},
     "output_type": "display_data"
    }
   ],
   "source": [
    "plt.figure(figsize=(5, 3))\n",
    "\n",
    "plt.plot(aucs_val_eta_01['tree'], aucs_val_eta_01['aucs_val'], color='grey', linestyle='dashed', label='eta=0.1')\n",
    "plt.plot(aucs_val_eta_005['tree'], aucs_val_eta_005['aucs_val'], color='black', linestyle='solid', label='eta=0.05')\n",
    "plt.plot(aucs_val_eta_001['tree'], aucs_val_eta_001['aucs_val'], color='black', linestyle='dashed', label='eta=0.01')\n",
    "\n",
    "plt.xticks(range(0, 501, 50))\n",
    "\n",
    "plt.legend()\n",
    "\n",
    "plt.title('The effect of eta on model performance')\n",
    "plt.xlabel('Number of trees')\n",
    "plt.ylabel('AUC (validation)')\n",
    "\n",
    "# plt.savefig('ch06-figures/06_xgb_eta_2.svg')\n",
    "\n",
    "plt.show()"
   ]
  },
  {
   "attachments": {},
   "cell_type": "markdown",
   "metadata": {},
   "source": [
    "eta = 0.1 seems the best parammeter."
   ]
  },
  {
   "attachments": {},
   "cell_type": "markdown",
   "metadata": {},
   "source": [
    "### Parameter tuning: max_depth\n",
    "\n",
    "max_depth = 3"
   ]
  },
  {
   "cell_type": "code",
   "execution_count": 244,
   "metadata": {
    "scrolled": true
   },
   "outputs": [],
   "source": [
    "%%capture output\n",
    "\n",
    "xgb_params = {\n",
    "    'eta': 0.1,\n",
    "    'max_depth': 3,\n",
    "    'min_child_weight': 1,\n",
    "\n",
    "    'objective': 'binary:logistic',\n",
    "    'eval_metric': 'auc',\n",
    "    'nthread': 8,\n",
    "    'seed': 1,\n",
    "}\n",
    "\n",
    "model = xgb.train(xgb_params, dtrain, num_boost_round=500,\n",
    "                  evals=watchlist, verbose_eval=10)"
   ]
  },
  {
   "cell_type": "code",
   "execution_count": 245,
   "metadata": {},
   "outputs": [
    {
     "name": "stdout",
     "output_type": "stream",
     "text": [
      "0.83657\n",
      "(0.83657, 180)\n"
     ]
    }
   ],
   "source": [
    "df_score_depth3 = parse_xgb_output(output)\n",
    "print(max(df_score_depth3.aucs_val))\n",
    "print(max(zip(df_score_depth3.aucs_val, df_score_depth3.tree)))"
   ]
  },
  {
   "attachments": {},
   "cell_type": "markdown",
   "metadata": {},
   "source": [
    "max_depth = 6"
   ]
  },
  {
   "cell_type": "code",
   "execution_count": 246,
   "metadata": {},
   "outputs": [],
   "source": [
    "%%capture output\n",
    "\n",
    "xgb_params = {\n",
    "    'eta': 0.1,\n",
    "    'max_depth': 6,\n",
    "    'min_child_weight': 1,\n",
    "\n",
    "    'objective': 'binary:logistic',\n",
    "    'eval_metric': 'auc',\n",
    "    'nthread': 8,\n",
    "    'seed': 1,\n",
    "}\n",
    "\n",
    "model = xgb.train(xgb_params, dtrain, num_boost_round=500,\n",
    "                  evals=watchlist, verbose_eval=10)"
   ]
  },
  {
   "cell_type": "code",
   "execution_count": 247,
   "metadata": {},
   "outputs": [
    {
     "name": "stdout",
     "output_type": "stream",
     "text": [
      "0.82477\n",
      "(0.82477, 70)\n"
     ]
    }
   ],
   "source": [
    "df_score_depth6 = parse_xgb_output(output)\n",
    "print(max(df_score_depth6.aucs_val))\n",
    "print(max(zip(df_score_depth6.aucs_val, df_score_depth6.tree)))"
   ]
  },
  {
   "attachments": {},
   "cell_type": "markdown",
   "metadata": {},
   "source": [
    "max_depth = 10"
   ]
  },
  {
   "cell_type": "code",
   "execution_count": 248,
   "metadata": {
    "scrolled": true
   },
   "outputs": [],
   "source": [
    "%%capture output\n",
    "\n",
    "xgb_params = {\n",
    "    'eta': 0.1,\n",
    "    'max_depth': 10,\n",
    "    'min_child_weight': 1,\n",
    "\n",
    "    'objective': 'binary:logistic',\n",
    "    'eval_metric': 'auc',\n",
    "    'nthread': 8,\n",
    "    'seed': 1,\n",
    "}\n",
    "\n",
    "model = xgb.train(xgb_params, dtrain, num_boost_round=500,\n",
    "                  evals=watchlist, verbose_eval=10)"
   ]
  },
  {
   "cell_type": "code",
   "execution_count": 249,
   "metadata": {},
   "outputs": [
    {
     "name": "stdout",
     "output_type": "stream",
     "text": [
      "0.81169\n",
      "(0.81169, 100)\n"
     ]
    }
   ],
   "source": [
    "df_score_depth10 = parse_xgb_output(output)\n",
    "print(max(df_score_depth10.aucs_val))\n",
    "print(max(zip(df_score_depth10.aucs_val, df_score_depth10.tree)))"
   ]
  },
  {
   "cell_type": "markdown",
   "metadata": {},
   "source": [
    "With depth=3 it's better than depth=6 and depth=10. So let's try 4 to see if it's better than 3"
   ]
  },
  {
   "cell_type": "code",
   "execution_count": 251,
   "metadata": {},
   "outputs": [],
   "source": [
    "%%capture output\n",
    "\n",
    "xgb_params = {\n",
    "    'eta': 0.1,\n",
    "    'max_depth': 4,\n",
    "    'min_child_weight': 1,\n",
    "\n",
    "    'objective': 'binary:logistic',\n",
    "    'eval_metric': 'auc',\n",
    "    'nthread': 8,\n",
    "    'seed': 1,\n",
    "}\n",
    "\n",
    "model = xgb.train(xgb_params, dtrain, num_boost_round=500,\n",
    "                  evals=watchlist, verbose_eval=10)"
   ]
  },
  {
   "cell_type": "code",
   "execution_count": 252,
   "metadata": {},
   "outputs": [
    {
     "name": "stdout",
     "output_type": "stream",
     "text": [
      "0.83014\n",
      "(0.83014, 80)\n"
     ]
    }
   ],
   "source": [
    "df_score_depth4 = parse_xgb_output(output)\n",
    "print(max(df_score_depth4.aucs_val))\n",
    "print(max(zip(df_score_depth4.aucs_val, df_score_depth4.tree)))"
   ]
  },
  {
   "cell_type": "code",
   "execution_count": 253,
   "metadata": {},
   "outputs": [
    {
     "data": {
      "image/png": "[encoded data removed]",
      "text/plain": [
       "<Figure size 500x300 with 1 Axes>"
      ]
     },
     "metadata": {},
     "output_type": "display_data"
    }
   ],
   "source": [
    "plt.figure(figsize=(5, 3))\n",
    "\n",
    "plt.plot(df_score_depth3['tree'], df_score_depth3['aucs_val'], color='black', linestyle='dashed', label='max_depth=3')\n",
    "plt.plot(df_score_depth4['tree'], df_score_depth4['aucs_val'], color='grey', linestyle='dashed', label='max_depth=4')\n",
    "plt.plot(df_score_depth6['tree'], df_score_depth6['aucs_val'], color='black', linestyle='solid', label='max_depth=6')\n",
    "plt.plot(df_score_depth10['tree'], df_score_depth10['aucs_val'], color='grey', linestyle='solid', label='max_depth=10')\n",
    "\n",
    "plt.ylim(0.75, 0.845)\n",
    "plt.xlim(-10, 510)\n",
    "plt.xticks(range(0, 501, 50))\n",
    "\n",
    "plt.legend()\n",
    "\n",
    "plt.title('The effect of max_depth on model performance')\n",
    "plt.xlabel('Number of trees')\n",
    "plt.ylabel('AUC (validation)')\n",
    "\n",
    "# plt.savefig('ch06-figures/06_xgb_depth.svg')\n",
    "\n",
    "plt.show()"
   ]
  },
  {
   "attachments": {},
   "cell_type": "markdown",
   "metadata": {},
   "source": [
    "It's not better, so we'll leave it at max_depth = 3"
   ]
  },
  {
   "attachments": {},
   "cell_type": "markdown",
   "metadata": {},
   "source": [
    "### Tune \"min_child_weight\"\n",
    "\n",
    "min_child_weight = 1"
   ]
  },
  {
   "cell_type": "code",
   "execution_count": 254,
   "metadata": {},
   "outputs": [],
   "source": [
    "%%capture output\n",
    "\n",
    "xgb_params = {\n",
    "    'eta': 0.1,\n",
    "    'max_depth': 3,\n",
    "    'min_child_weight': 1,\n",
    "\n",
    "    'objective': 'binary:logistic',\n",
    "    'eval_metric': 'auc',\n",
    "    'nthread': 8,\n",
    "    'seed': 1,\n",
    "}\n",
    "\n",
    "model = xgb.train(xgb_params, dtrain, num_boost_round=500,\n",
    "                  evals=watchlist, verbose_eval=10)"
   ]
  },
  {
   "cell_type": "code",
   "execution_count": 255,
   "metadata": {
    "scrolled": true
   },
   "outputs": [
    {
     "name": "stdout",
     "output_type": "stream",
     "text": [
      "0.83657\n",
      "(0.83657, 180)\n"
     ]
    }
   ],
   "source": [
    "df_score_mcw1 = parse_xgb_output(output)\n",
    "print(max(df_score_mcw1.aucs_val))\n",
    "print(max(zip(df_score_mcw1.aucs_val, df_score_mcw1.tree)))"
   ]
  },
  {
   "attachments": {},
   "cell_type": "markdown",
   "metadata": {},
   "source": [
    "min_child_weight = 10"
   ]
  },
  {
   "cell_type": "code",
   "execution_count": 256,
   "metadata": {},
   "outputs": [],
   "source": [
    "%%capture output\n",
    "\n",
    "xgb_params = {\n",
    "    'eta': 0.1,\n",
    "    'max_depth': 3,\n",
    "    'min_child_weight': 10,\n",
    "\n",
    "    'objective': 'binary:logistic',\n",
    "    'eval_metric': 'auc',\n",
    "    'nthread': 8,\n",
    "    'seed': 1,\n",
    "}\n",
    "\n",
    "model = xgb.train(xgb_params, dtrain, num_boost_round=500,\n",
    "                  evals=watchlist, verbose_eval=10)"
   ]
  },
  {
   "cell_type": "code",
   "execution_count": 257,
   "metadata": {
    "scrolled": true
   },
   "outputs": [
    {
     "name": "stdout",
     "output_type": "stream",
     "text": [
      "0.83336\n",
      "(0.83336, 150)\n"
     ]
    }
   ],
   "source": [
    "df_score_mcw10 = parse_xgb_output(output)\n",
    "print(max(df_score_mcw10.aucs_val))\n",
    "print(max(zip(df_score_mcw10.aucs_val, df_score_mcw10.tree)))"
   ]
  },
  {
   "attachments": {},
   "cell_type": "markdown",
   "metadata": {},
   "source": [
    "min_child_weight = 30"
   ]
  },
  {
   "cell_type": "code",
   "execution_count": 258,
   "metadata": {},
   "outputs": [],
   "source": [
    "%%capture output\n",
    "\n",
    "xgb_params = {\n",
    "    'eta': 0.1,\n",
    "    'max_depth': 3,\n",
    "    'min_child_weight': 30,\n",
    "\n",
    "    'objective': 'binary:logistic',\n",
    "    'eval_metric': 'auc',\n",
    "    'nthread': 8,\n",
    "    'seed': 1,\n",
    "}\n",
    "\n",
    "model = xgb.train(xgb_params, dtrain, num_boost_round=500,\n",
    "                  evals=watchlist, verbose_eval=10)"
   ]
  },
  {
   "cell_type": "code",
   "execution_count": 259,
   "metadata": {
    "scrolled": true
   },
   "outputs": [
    {
     "name": "stdout",
     "output_type": "stream",
     "text": [
      "0.83543\n",
      "(0.83543, 160)\n"
     ]
    }
   ],
   "source": [
    "df_score_mcw30 = parse_xgb_output(output)\n",
    "print(max(df_score_mcw30.aucs_val))\n",
    "print(max(zip(df_score_mcw30.aucs_val, df_score_mcw30.tree)))"
   ]
  },
  {
   "cell_type": "code",
   "execution_count": 260,
   "metadata": {},
   "outputs": [
    {
     "data": {
      "image/png": "[encoded data removed]",
      "text/plain": [
       "<Figure size 500x300 with 1 Axes>"
      ]
     },
     "metadata": {},
     "output_type": "display_data"
    }
   ],
   "source": [
    "plt.figure(figsize=(5, 3))\n",
    "\n",
    "plt.plot(df_score_mcw1['tree'], df_score_mcw1['aucs_val'], color='black', linestyle='solid', label='min_child_weight=1')\n",
    "plt.plot(df_score_mcw10['tree'], df_score_mcw10['aucs_val'], color='grey', linestyle='solid', label='min_child_weight=10')\n",
    "plt.plot(df_score_mcw30['tree'], df_score_mcw30['aucs_val'], color='black', linestyle='dashed', label='min_child_weight=30')\n",
    "\n",
    "plt.ylim(0.82, 0.84)\n",
    "plt.xlim(0, 510)\n",
    "plt.xticks(range(0, 501, 50))\n",
    "plt.yticks(np.linspace(0.82, 0.84, 5))\n",
    "\n",
    "plt.legend()\n",
    "\n",
    "plt.title('The effect of min_child_weight on model performance')\n",
    "plt.xlabel('Number of trees')\n",
    "plt.ylabel('AUC (validation)')\n",
    "\n",
    "# plt.savefig('ch06-figures/06_xgb_mcw.svg')\n",
    "\n",
    "plt.show()"
   ]
  },
  {
   "cell_type": "markdown",
   "metadata": {},
   "source": [
    "## Checking the best number of trees"
   ]
  },
  {
   "cell_type": "code",
   "execution_count": 233,
   "metadata": {},
   "outputs": [],
   "source": [
    "%%capture output\n",
    "\n",
    "xgb_params = {\n",
    "    'eta': 0.1,\n",
    "    'max_depth': 3,\n",
    "    'min_child_weight': 1,\n",
    "\n",
    "    'objective': 'binary:logistic',\n",
    "    'eval_metric': 'auc',\n",
    "    'nthread': 8,\n",
    "    'seed': 1,\n",
    "}\n",
    "\n",
    "model = xgb.train(xgb_params, dtrain, num_boost_round=500,\n",
    "                  evals=watchlist, verbose_eval=10)"
   ]
  },
  {
   "cell_type": "code",
   "execution_count": 234,
   "metadata": {},
   "outputs": [
    {
     "name": "stdout",
     "output_type": "stream",
     "text": [
      "[0]\ttrain-auc:0.77424\tval-auc:0.73571\n",
      "[10]\ttrain-auc:0.84733\tval-auc:0.78964\n",
      "[20]\ttrain-auc:0.86359\tval-auc:0.80617\n",
      "[30]\ttrain-auc:0.87855\tval-auc:0.81478\n",
      "[40]\ttrain-auc:0.88701\tval-auc:0.81990\n",
      "[50]\ttrain-auc:0.89458\tval-auc:0.82595\n",
      "[60]\ttrain-auc:0.90159\tval-auc:0.82806\n",
      "[70]\ttrain-auc:0.90650\tval-auc:0.82801\n",
      "[80]\ttrain-auc:0.91110\tval-auc:0.82940\n",
      "[90]\ttrain-auc:0.91428\tval-auc:0.82997\n",
      "[100]\ttrain-auc:0.91801\tval-auc:0.83221\n",
      "[110]\ttrain-auc:0.92205\tval-auc:0.83290\n",
      "[120]\ttrain-auc:0.92460\tval-auc:0.83285\n",
      "[130]\ttrain-auc:0.92843\tval-auc:0.83414\n",
      "[140]\ttrain-auc:0.93100\tval-auc:0.83463\n",
      "[150]\ttrain-auc:0.93296\tval-auc:0.83525\n",
      "[160]\ttrain-auc:0.93551\tval-auc:0.83554\n",
      "[170]\ttrain-auc:0.93788\tval-auc:0.83638\n",
      "[180]\ttrain-auc:0.93971\tval-auc:0.83657\n",
      "[190]\ttrain-auc:0.94203\tval-auc:0.83562\n",
      "[200]\ttrain-auc:0.94334\tval-auc:0.83512\n",
      "[210]\ttrain-auc:0.94501\tval-auc:0.83546\n",
      "[220]\ttrain-auc:0.94693\tval-auc:0.83508\n",
      "[230]\ttrain-auc:0.94839\tval-auc:0.83417\n",
      "[240]\ttrain-auc:0.94999\tval-auc:0.83336\n",
      "[250]\ttrain-auc:0.95088\tval-auc:0.83341\n",
      "[260]\ttrain-auc:0.95235\tval-auc:0.83379\n",
      "[270]\ttrain-auc:0.95333\tval-auc:0.83389\n",
      "[280]\ttrain-auc:0.95470\tval-auc:0.83288\n",
      "[290]\ttrain-auc:0.95575\tval-auc:0.83274\n",
      "[300]\ttrain-auc:0.95733\tval-auc:0.83173\n",
      "[310]\ttrain-auc:0.95886\tval-auc:0.83222\n",
      "[320]\ttrain-auc:0.95972\tval-auc:0.83201\n",
      "[330]\ttrain-auc:0.96091\tval-auc:0.83139\n",
      "[340]\ttrain-auc:0.96172\tval-auc:0.83101\n",
      "[350]\ttrain-auc:0.96298\tval-auc:0.83059\n",
      "[360]\ttrain-auc:0.96416\tval-auc:0.83034\n",
      "[370]\ttrain-auc:0.96539\tval-auc:0.82945\n",
      "[380]\ttrain-auc:0.96669\tval-auc:0.82905\n",
      "[390]\ttrain-auc:0.96785\tval-auc:0.82876\n",
      "[400]\ttrain-auc:0.96875\tval-auc:0.82846\n",
      "[410]\ttrain-auc:0.96983\tval-auc:0.82744\n",
      "[420]\ttrain-auc:0.97055\tval-auc:0.82764\n",
      "[430]\ttrain-auc:0.97115\tval-auc:0.82695\n",
      "[440]\ttrain-auc:0.97213\tval-auc:0.82659\n",
      "[450]\ttrain-auc:0.97303\tval-auc:0.82662\n",
      "[460]\ttrain-auc:0.97357\tval-auc:0.82642\n",
      "[470]\ttrain-auc:0.97421\tval-auc:0.82591\n",
      "[480]\ttrain-auc:0.97497\tval-auc:0.82635\n",
      "[490]\ttrain-auc:0.97576\tval-auc:0.82604\n",
      "[499]\ttrain-auc:0.97642\tval-auc:0.82599\n",
      "\n"
     ]
    }
   ],
   "source": [
    "print(output)"
   ]
  },
  {
   "cell_type": "code",
   "execution_count": 261,
   "metadata": {
    "scrolled": false
   },
   "outputs": [
    {
     "name": "stdout",
     "output_type": "stream",
     "text": [
      "0.83543\n"
     ]
    }
   ],
   "source": [
    "df_score = parse_xgb_output(output)\n",
    "print(max(df_score.aucs_val))"
   ]
  },
  {
   "cell_type": "code",
   "execution_count": 262,
   "metadata": {
    "scrolled": true
   },
   "outputs": [
    {
     "data": {
      "text/plain": [
       "(0.83543, 160)"
      ]
     },
     "execution_count": 262,
     "metadata": {},
     "output_type": "execute_result"
    }
   ],
   "source": [
    "max(zip(df_score.aucs_val, df_score.tree))"
   ]
  },
  {
   "cell_type": "code",
   "execution_count": 264,
   "metadata": {},
   "outputs": [
    {
     "data": {
      "image/png": "[encoded data removed]",
      "text/plain": [
       "<Figure size 500x300 with 1 Axes>"
      ]
     },
     "metadata": {},
     "output_type": "display_data"
    }
   ],
   "source": [
    "plt.figure(figsize=(5, 3))\n",
    "\n",
    "plt.plot(df_score['tree'], df_score['aucs_val'], color='black', linestyle='solid')\n",
    "\n",
    "\n",
    "plt.ylim(0.80, 0.84)\n",
    "plt.xlim(0, 510)\n",
    "plt.xticks(range(0, 501, 50))\n",
    "plt.yticks(np.linspace(0.80, 0.84, 9))\n",
    "\n",
    "\n",
    "plt.vlines(160, 0, 1, color='grey', linestyle='dashed', linewidth=0.9)\n",
    "\n",
    "plt.title('Selecting the number of trees')\n",
    "plt.xlabel('Number of trees')\n",
    "plt.ylabel('AUC (validation)')\n",
    "\n",
    "# plt.savefig('ch06-figures/06_xgb_number_trees.svg')\n",
    "\n",
    "plt.show()"
   ]
  },
  {
   "attachments": {},
   "cell_type": "markdown",
   "metadata": {},
   "source": [
    "#### Final model"
   ]
  },
  {
   "cell_type": "code",
   "execution_count": 265,
   "metadata": {},
   "outputs": [
    {
     "name": "stdout",
     "output_type": "stream",
     "text": [
      "[0]\ttrain-auc:0.77424\tval-auc:0.73571\n",
      "[10]\ttrain-auc:0.84733\tval-auc:0.78964\n",
      "[20]\ttrain-auc:0.86359\tval-auc:0.80617\n",
      "[30]\ttrain-auc:0.87855\tval-auc:0.81478\n",
      "[40]\ttrain-auc:0.88701\tval-auc:0.81990\n",
      "[50]\ttrain-auc:0.89458\tval-auc:0.82595\n",
      "[60]\ttrain-auc:0.90159\tval-auc:0.82806\n",
      "[70]\ttrain-auc:0.90650\tval-auc:0.82801\n",
      "[80]\ttrain-auc:0.91110\tval-auc:0.82940\n",
      "[90]\ttrain-auc:0.91428\tval-auc:0.82997\n",
      "[100]\ttrain-auc:0.91801\tval-auc:0.83221\n",
      "[110]\ttrain-auc:0.92205\tval-auc:0.83290\n",
      "[120]\ttrain-auc:0.92460\tval-auc:0.83285\n",
      "[130]\ttrain-auc:0.92843\tval-auc:0.83414\n",
      "[140]\ttrain-auc:0.93100\tval-auc:0.83463\n",
      "[150]\ttrain-auc:0.93296\tval-auc:0.83525\n",
      "[159]\ttrain-auc:0.93552\tval-auc:0.83542\n"
     ]
    }
   ],
   "source": [
    "xgb_params = {\n",
    "    'eta': 0.1,\n",
    "    'max_depth': 3,\n",
    "    'min_child_weight': 1,\n",
    "\n",
    "    'objective': 'binary:logistic',\n",
    "    'eval_metric': 'auc',\n",
    "    'nthread': 8,\n",
    "    'seed': 1,\n",
    "}\n",
    "\n",
    "model = xgb.train(xgb_params, dtrain, num_boost_round=160,\n",
    "                  evals=watchlist, verbose_eval=10)"
   ]
  },
  {
   "cell_type": "code",
   "execution_count": 266,
   "metadata": {},
   "outputs": [],
   "source": [
    "y_pred_xgb = model.predict(dval)"
   ]
  },
  {
   "cell_type": "code",
   "execution_count": 267,
   "metadata": {},
   "outputs": [
    {
     "data": {
      "text/plain": [
       "0.8354211571528904"
      ]
     },
     "execution_count": 267,
     "metadata": {},
     "output_type": "execute_result"
    }
   ],
   "source": [
    "roc_auc_score(y_val, y_pred_xgb)"
   ]
  },
  {
   "cell_type": "code",
   "execution_count": 268,
   "metadata": {},
   "outputs": [
    {
     "name": "stdout",
     "output_type": "stream",
     "text": [
      "0.7848562640769174\n",
      "0.8253826499721489\n",
      "0.8354211571528904\n"
     ]
    }
   ],
   "source": [
    "print(roc_auc_score(y_val, y_pred_dt))\n",
    "print(roc_auc_score(y_val, y_pred_rf))\n",
    "print(roc_auc_score(y_val, y_pred_xgb))"
   ]
  },
  {
   "cell_type": "code",
   "execution_count": 269,
   "metadata": {},
   "outputs": [
    {
     "data": {
      "image/png": "[encoded data removed]",
      "text/plain": [
       "<Figure size 400x400 with 1 Axes>"
      ]
     },
     "metadata": {},
     "output_type": "display_data"
    }
   ],
   "source": [
    "plt.figure(figsize=(4, 4))\n",
    "\n",
    "fpr, tpr, _ = roc_curve(y_val, y_pred_xgb)\n",
    "plt.plot(fpr, tpr, color='black', label='XGboost')\n",
    "\n",
    "fpr, tpr, _ = roc_curve(y_val, y_pred_rf)\n",
    "plt.plot(fpr, tpr, color='grey', linestyle='dashed', alpha=0.9, label='Random Forest')\n",
    "\n",
    "fpr, tpr, _ = roc_curve(y_val, y_pred_dt)\n",
    "plt.plot(fpr, tpr, color='grey', linestyle='dashed', alpha=0.9, label='Decision Tree')\n",
    "\n",
    "plt.plot([0, 1], [0, 1], color='black', lw=0.7, linestyle='dashed', alpha=0.5, label='Baseline')\n",
    "\n",
    "plt.legend()\n",
    "\n",
    "plt.xlim([-0.02, 1.02])\n",
    "plt.ylim([-0.02, 1.02])\n",
    "plt.xlabel('False Positive Rate')\n",
    "plt.ylabel('True Positive Rate')\n",
    "\n",
    "plt.title('ROC curve')\n",
    "\n",
    "plt.show()"
   ]
  },
  {
   "cell_type": "markdown",
   "metadata": {},
   "source": [
    "## Final test"
   ]
  },
  {
   "cell_type": "code",
   "execution_count": 313,
   "metadata": {},
   "outputs": [
    {
     "name": "stdout",
     "output_type": "stream",
     "text": [
      "df (4454) => df_train_full (3563) + df_test (891)\n"
     ]
    }
   ],
   "source": [
    "df_train_full, df_test = train_test_split(df, test_size=0.2, random_state=11)\n",
    "print(\"df ({}) => df_train_full ({}) + df_test ({})\".format(len(df), len(df_train_full), len(df_test)))"
   ]
  },
  {
   "cell_type": "code",
   "execution_count": 314,
   "metadata": {},
   "outputs": [
    {
     "name": "stdout",
     "output_type": "stream",
     "text": [
      "[df_train_full -> y_train_full] (3563) + [df_test -> y_test] (891)\n"
     ]
    }
   ],
   "source": [
    "y_train_full = (df_train_full.status == 'default').values\n",
    "y_test = (df_test.status == 'default').values\n",
    "\n",
    "del df_train_full['status']\n",
    "del df_test['status']\n",
    "\n",
    "print(\"[df_train_full -> y_train_full] ({}) + [df_test -> y_test] ({})\".format(len(y_train_full), len(y_test)))"
   ]
  },
  {
   "cell_type": "code",
   "execution_count": 310,
   "metadata": {},
   "outputs": [
    {
     "data": {
      "text/plain": [
       "status       0\n",
       "seniority    0\n",
       "home         0\n",
       "time         0\n",
       "age          0\n",
       "marital      0\n",
       "records      0\n",
       "job          0\n",
       "expenses     0\n",
       "income       0\n",
       "assets       0\n",
       "debt         0\n",
       "amount       0\n",
       "price        0\n",
       "dtype: int64"
      ]
     },
     "execution_count": 310,
     "metadata": {},
     "output_type": "execute_result"
    }
   ],
   "source": [
    "df.isnull().sum()"
   ]
  },
  {
   "cell_type": "code",
   "execution_count": 302,
   "metadata": {},
   "outputs": [
    {
     "data": {
      "text/plain": [
       "(pandas.core.frame.DataFrame,\n",
       " pandas.core.frame.DataFrame,\n",
       " numpy.ndarray,\n",
       " numpy.ndarray)"
      ]
     },
     "execution_count": 302,
     "metadata": {},
     "output_type": "execute_result"
    }
   ],
   "source": [
    "type(df_train_full), type(df_test), type(y_train_full), type(y_test)"
   ]
  },
  {
   "cell_type": "code",
   "execution_count": 315,
   "metadata": {},
   "outputs": [],
   "source": [
    "dict_train_full = df_train_full.to_dict(orient='records')\n",
    "dict_test = df_test.to_dict(orient='records')\n",
    "\n",
    "dv = DictVectorizer(sparse=False)\n",
    "X_train_full = dv.fit_transform(dict_train_full)\n",
    "X_test = dv.transform(dict_test)"
   ]
  },
  {
   "cell_type": "code",
   "execution_count": 316,
   "metadata": {},
   "outputs": [],
   "source": [
    "rf_final_model = RandomForestClassifier(n_estimators=200, max_depth=10, min_samples_leaf=5, random_state=1)\n",
    "rf_final_model.fit(X_train_full, y_train_full)\n",
    "\n",
    "y_pred_rf = rf.predict_proba(X_test)[:, 1]"
   ]
  },
  {
   "cell_type": "code",
   "execution_count": 323,
   "metadata": {},
   "outputs": [],
   "source": [
    "dtrain_full = xgb.DMatrix(X_train_full, label=y_train_full, feature_names=dv.feature_names_)\n",
    "dtest = xgb.DMatrix(X_test, feature_names=dv.feature_names_)\n",
    "\n",
    "xgb_params = {\n",
    "    'eta': 0.1,\n",
    "    'max_depth': 3,\n",
    "    'min_child_weight': 1,\n",
    "\n",
    "    'objective': 'binary:logistic',\n",
    "    'eval_metric': 'auc',\n",
    "    'nthread': 8,\n",
    "    'seed': 1,\n",
    "}\n",
    "\n",
    "num_trees = 160\n",
    "\n",
    "xgb_final_model = xgb.train(xgb_params, dtrain_full, num_boost_round=num_trees)\n",
    "\n",
    "y_pred_xgb = xgb_final_model.predict(dtest)"
   ]
  },
  {
   "cell_type": "code",
   "execution_count": 319,
   "metadata": {},
   "outputs": [
    {
     "name": "stdout",
     "output_type": "stream",
     "text": [
      "0.8241777039245393\n",
      "0.8322845901959826\n"
     ]
    }
   ],
   "source": [
    "print(roc_auc_score(y_test, y_pred_rf))\n",
    "print(roc_auc_score(y_test, y_pred_xgb))"
   ]
  },
  {
   "cell_type": "markdown",
   "metadata": {},
   "source": [
    "## Bonus: feature importance"
   ]
  },
  {
   "cell_type": "markdown",
   "metadata": {},
   "source": [
    "### Decision trees"
   ]
  },
  {
   "cell_type": "code",
   "execution_count": 111,
   "metadata": {},
   "outputs": [
    {
     "data": {
      "text/plain": [
       "array([0.01387723, 0.04793733, 0.1226385 , 0.00833288, 0.0250906 ,\n",
       "       0.        , 0.        , 0.        , 0.        , 0.        ,\n",
       "       0.        , 0.        , 0.18724799, 0.00699145, 0.        ,\n",
       "       0.        , 0.17292753, 0.        , 0.        , 0.        ,\n",
       "       0.        , 0.        , 0.        , 0.        , 0.0302163 ,\n",
       "       0.        , 0.24421676, 0.12152239, 0.01900104])"
      ]
     },
     "execution_count": 111,
     "metadata": {},
     "output_type": "execute_result"
    }
   ],
   "source": [
    "dt.feature_importances_"
   ]
  },
  {
   "cell_type": "code",
   "execution_count": 112,
   "metadata": {},
   "outputs": [
    {
     "data": {
      "text/plain": [
       "[('age', 0.013877231876069153),\n",
       " ('amount', 0.04793733336664824),\n",
       " ('assets', 0.12263850423922844),\n",
       " ('debt', 0.008332876385504902),\n",
       " ('expenses', 0.025090602575881322),\n",
       " ('home=ignore', 0.0),\n",
       " ('home=other', 0.0),\n",
       " ('home=owner', 0.0),\n",
       " ('home=parents', 0.0),\n",
       " ('home=private', 0.0),\n",
       " ('home=rent', 0.0),\n",
       " ('home=unk', 0.0),\n",
       " ('income', 0.18724798934476602),\n",
       " ('job=fixed', 0.006991445659436667),\n",
       " ('job=freelance', 0.0),\n",
       " ('job=others', 0.0),\n",
       " ('job=partime', 0.17292752964348085),\n",
       " ('job=unk', 0.0),\n",
       " ('marital=divorced', 0.0),\n",
       " ('marital=married', 0.0),\n",
       " ('marital=separated', 0.0),\n",
       " ('marital=single', 0.0),\n",
       " ('marital=unk', 0.0),\n",
       " ('marital=widow', 0.0),\n",
       " ('price', 0.030216298419676543),\n",
       " ('records=no', 0.0),\n",
       " ('records=yes', 0.24421675762093445),\n",
       " ('seniority', 0.12152238957522045),\n",
       " ('time', 0.019001041293152915)]"
      ]
     },
     "execution_count": 112,
     "metadata": {},
     "output_type": "execute_result"
    }
   ],
   "source": [
    "list(zip(dv.feature_names_, dt.feature_importances_))"
   ]
  },
  {
   "cell_type": "code",
   "execution_count": 113,
   "metadata": {},
   "outputs": [
    {
     "data": {
      "text/html": [
       "<div>\n",
       "<style scoped>\n",
       "    .dataframe tbody tr th:only-of-type {\n",
       "        vertical-align: middle;\n",
       "    }\n",
       "\n",
       "    .dataframe tbody tr th {\n",
       "        vertical-align: top;\n",
       "    }\n",
       "\n",
       "    .dataframe thead th {\n",
       "        text-align: right;\n",
       "    }\n",
       "</style>\n",
       "<table border=\"1\" class=\"dataframe\">\n",
       "  <thead>\n",
       "    <tr style=\"text-align: right;\">\n",
       "      <th></th>\n",
       "      <th>feature</th>\n",
       "      <th>gain</th>\n",
       "    </tr>\n",
       "  </thead>\n",
       "  <tbody>\n",
       "    <tr>\n",
       "      <th>26</th>\n",
       "      <td>records=yes</td>\n",
       "      <td>0.244217</td>\n",
       "    </tr>\n",
       "    <tr>\n",
       "      <th>12</th>\n",
       "      <td>income</td>\n",
       "      <td>0.187248</td>\n",
       "    </tr>\n",
       "    <tr>\n",
       "      <th>16</th>\n",
       "      <td>job=partime</td>\n",
       "      <td>0.172928</td>\n",
       "    </tr>\n",
       "    <tr>\n",
       "      <th>2</th>\n",
       "      <td>assets</td>\n",
       "      <td>0.122639</td>\n",
       "    </tr>\n",
       "    <tr>\n",
       "      <th>27</th>\n",
       "      <td>seniority</td>\n",
       "      <td>0.121522</td>\n",
       "    </tr>\n",
       "    <tr>\n",
       "      <th>1</th>\n",
       "      <td>amount</td>\n",
       "      <td>0.047937</td>\n",
       "    </tr>\n",
       "    <tr>\n",
       "      <th>24</th>\n",
       "      <td>price</td>\n",
       "      <td>0.030216</td>\n",
       "    </tr>\n",
       "    <tr>\n",
       "      <th>4</th>\n",
       "      <td>expenses</td>\n",
       "      <td>0.025091</td>\n",
       "    </tr>\n",
       "    <tr>\n",
       "      <th>28</th>\n",
       "      <td>time</td>\n",
       "      <td>0.019001</td>\n",
       "    </tr>\n",
       "    <tr>\n",
       "      <th>0</th>\n",
       "      <td>age</td>\n",
       "      <td>0.013877</td>\n",
       "    </tr>\n",
       "    <tr>\n",
       "      <th>3</th>\n",
       "      <td>debt</td>\n",
       "      <td>0.008333</td>\n",
       "    </tr>\n",
       "    <tr>\n",
       "      <th>13</th>\n",
       "      <td>job=fixed</td>\n",
       "      <td>0.006991</td>\n",
       "    </tr>\n",
       "    <tr>\n",
       "      <th>10</th>\n",
       "      <td>home=rent</td>\n",
       "      <td>0.000000</td>\n",
       "    </tr>\n",
       "    <tr>\n",
       "      <th>20</th>\n",
       "      <td>marital=separated</td>\n",
       "      <td>0.000000</td>\n",
       "    </tr>\n",
       "    <tr>\n",
       "      <th>5</th>\n",
       "      <td>home=ignore</td>\n",
       "      <td>0.000000</td>\n",
       "    </tr>\n",
       "    <tr>\n",
       "      <th>25</th>\n",
       "      <td>records=no</td>\n",
       "      <td>0.000000</td>\n",
       "    </tr>\n",
       "    <tr>\n",
       "      <th>6</th>\n",
       "      <td>home=other</td>\n",
       "      <td>0.000000</td>\n",
       "    </tr>\n",
       "    <tr>\n",
       "      <th>23</th>\n",
       "      <td>marital=widow</td>\n",
       "      <td>0.000000</td>\n",
       "    </tr>\n",
       "    <tr>\n",
       "      <th>22</th>\n",
       "      <td>marital=unk</td>\n",
       "      <td>0.000000</td>\n",
       "    </tr>\n",
       "    <tr>\n",
       "      <th>21</th>\n",
       "      <td>marital=single</td>\n",
       "      <td>0.000000</td>\n",
       "    </tr>\n",
       "    <tr>\n",
       "      <th>19</th>\n",
       "      <td>marital=married</td>\n",
       "      <td>0.000000</td>\n",
       "    </tr>\n",
       "    <tr>\n",
       "      <th>11</th>\n",
       "      <td>home=unk</td>\n",
       "      <td>0.000000</td>\n",
       "    </tr>\n",
       "    <tr>\n",
       "      <th>18</th>\n",
       "      <td>marital=divorced</td>\n",
       "      <td>0.000000</td>\n",
       "    </tr>\n",
       "    <tr>\n",
       "      <th>17</th>\n",
       "      <td>job=unk</td>\n",
       "      <td>0.000000</td>\n",
       "    </tr>\n",
       "    <tr>\n",
       "      <th>7</th>\n",
       "      <td>home=owner</td>\n",
       "      <td>0.000000</td>\n",
       "    </tr>\n",
       "    <tr>\n",
       "      <th>15</th>\n",
       "      <td>job=others</td>\n",
       "      <td>0.000000</td>\n",
       "    </tr>\n",
       "    <tr>\n",
       "      <th>8</th>\n",
       "      <td>home=parents</td>\n",
       "      <td>0.000000</td>\n",
       "    </tr>\n",
       "    <tr>\n",
       "      <th>9</th>\n",
       "      <td>home=private</td>\n",
       "      <td>0.000000</td>\n",
       "    </tr>\n",
       "    <tr>\n",
       "      <th>14</th>\n",
       "      <td>job=freelance</td>\n",
       "      <td>0.000000</td>\n",
       "    </tr>\n",
       "  </tbody>\n",
       "</table>\n",
       "</div>"
      ],
      "text/plain": [
       "              feature      gain\n",
       "26        records=yes  0.244217\n",
       "12             income  0.187248\n",
       "16        job=partime  0.172928\n",
       "2              assets  0.122639\n",
       "27          seniority  0.121522\n",
       "1              amount  0.047937\n",
       "24              price  0.030216\n",
       "4            expenses  0.025091\n",
       "28               time  0.019001\n",
       "0                 age  0.013877\n",
       "3                debt  0.008333\n",
       "13          job=fixed  0.006991\n",
       "10          home=rent  0.000000\n",
       "20  marital=separated  0.000000\n",
       "5         home=ignore  0.000000\n",
       "25         records=no  0.000000\n",
       "6          home=other  0.000000\n",
       "23      marital=widow  0.000000\n",
       "22        marital=unk  0.000000\n",
       "21     marital=single  0.000000\n",
       "19    marital=married  0.000000\n",
       "11           home=unk  0.000000\n",
       "18   marital=divorced  0.000000\n",
       "17            job=unk  0.000000\n",
       "7          home=owner  0.000000\n",
       "15         job=others  0.000000\n",
       "8        home=parents  0.000000\n",
       "9        home=private  0.000000\n",
       "14      job=freelance  0.000000"
      ]
     },
     "execution_count": 113,
     "metadata": {},
     "output_type": "execute_result"
    }
   ],
   "source": [
    "importances = list(zip(dv.feature_names_, dt.feature_importances_))\n",
    "\n",
    "df_importance = pd.DataFrame(importances, columns=['feature', 'gain'])\n",
    "df_importance = df_importance.sort_values(by='gain', ascending=False)\n",
    "df_importance"
   ]
  },
  {
   "cell_type": "code",
   "execution_count": 114,
   "metadata": {},
   "outputs": [],
   "source": [
    "df_importance = df_importance[df_importance.gain > 0]"
   ]
  },
  {
   "cell_type": "code",
   "execution_count": 115,
   "metadata": {},
   "outputs": [
    {
     "data": {
      "image/png": "[encoded data removed]",
      "text/plain": [
       "<Figure size 432x288 with 1 Axes>"
      ]
     },
     "metadata": {
      "needs_background": "light"
     },
     "output_type": "display_data"
    }
   ],
   "source": [
    "num = len(df_importance)\n",
    "plt.barh(range(num), df_importance.gain[::-1])\n",
    "plt.yticks(range(num), df_importance.feature[::-1])\n",
    "\n",
    "plt.show()"
   ]
  },
  {
   "cell_type": "markdown",
   "metadata": {},
   "source": [
    "### Random forest"
   ]
  },
  {
   "cell_type": "code",
   "execution_count": 116,
   "metadata": {
    "scrolled": true
   },
   "outputs": [
    {
     "data": {
      "text/plain": [
       "array([5.81509463e-02, 8.42444361e-02, 7.75901403e-02, 1.33739427e-02,\n",
       "       3.62995916e-02, 1.26998064e-06, 5.25854792e-03, 2.57383446e-02,\n",
       "       8.51497558e-03, 3.24437831e-03, 1.44619658e-02, 0.00000000e+00,\n",
       "       1.50682384e-01, 4.78310889e-02, 9.96408243e-03, 2.85512508e-03,\n",
       "       5.65260797e-02, 0.00000000e+00, 2.43128646e-04, 6.42996557e-03,\n",
       "       1.68784119e-03, 6.67458246e-03, 0.00000000e+00, 1.97498337e-04,\n",
       "       6.62193254e-02, 8.41683921e-02, 8.30420483e-02, 1.25453198e-01,\n",
       "       3.11467205e-02])"
      ]
     },
     "execution_count": 116,
     "metadata": {},
     "output_type": "execute_result"
    }
   ],
   "source": [
    "rf.feature_importances_"
   ]
  },
  {
   "cell_type": "code",
   "execution_count": 117,
   "metadata": {
    "scrolled": false
   },
   "outputs": [
    {
     "data": {
      "text/html": [
       "<div>\n",
       "<style scoped>\n",
       "    .dataframe tbody tr th:only-of-type {\n",
       "        vertical-align: middle;\n",
       "    }\n",
       "\n",
       "    .dataframe tbody tr th {\n",
       "        vertical-align: top;\n",
       "    }\n",
       "\n",
       "    .dataframe thead th {\n",
       "        text-align: right;\n",
       "    }\n",
       "</style>\n",
       "<table border=\"1\" class=\"dataframe\">\n",
       "  <thead>\n",
       "    <tr style=\"text-align: right;\">\n",
       "      <th></th>\n",
       "      <th>feature</th>\n",
       "      <th>gain</th>\n",
       "    </tr>\n",
       "  </thead>\n",
       "  <tbody>\n",
       "    <tr>\n",
       "      <th>12</th>\n",
       "      <td>income</td>\n",
       "      <td>0.150682</td>\n",
       "    </tr>\n",
       "    <tr>\n",
       "      <th>27</th>\n",
       "      <td>seniority</td>\n",
       "      <td>0.125453</td>\n",
       "    </tr>\n",
       "    <tr>\n",
       "      <th>1</th>\n",
       "      <td>amount</td>\n",
       "      <td>0.084244</td>\n",
       "    </tr>\n",
       "    <tr>\n",
       "      <th>25</th>\n",
       "      <td>records=no</td>\n",
       "      <td>0.084168</td>\n",
       "    </tr>\n",
       "    <tr>\n",
       "      <th>26</th>\n",
       "      <td>records=yes</td>\n",
       "      <td>0.083042</td>\n",
       "    </tr>\n",
       "    <tr>\n",
       "      <th>2</th>\n",
       "      <td>assets</td>\n",
       "      <td>0.077590</td>\n",
       "    </tr>\n",
       "    <tr>\n",
       "      <th>24</th>\n",
       "      <td>price</td>\n",
       "      <td>0.066219</td>\n",
       "    </tr>\n",
       "    <tr>\n",
       "      <th>0</th>\n",
       "      <td>age</td>\n",
       "      <td>0.058151</td>\n",
       "    </tr>\n",
       "    <tr>\n",
       "      <th>16</th>\n",
       "      <td>job=partime</td>\n",
       "      <td>0.056526</td>\n",
       "    </tr>\n",
       "    <tr>\n",
       "      <th>13</th>\n",
       "      <td>job=fixed</td>\n",
       "      <td>0.047831</td>\n",
       "    </tr>\n",
       "    <tr>\n",
       "      <th>4</th>\n",
       "      <td>expenses</td>\n",
       "      <td>0.036300</td>\n",
       "    </tr>\n",
       "    <tr>\n",
       "      <th>28</th>\n",
       "      <td>time</td>\n",
       "      <td>0.031147</td>\n",
       "    </tr>\n",
       "    <tr>\n",
       "      <th>7</th>\n",
       "      <td>home=owner</td>\n",
       "      <td>0.025738</td>\n",
       "    </tr>\n",
       "    <tr>\n",
       "      <th>10</th>\n",
       "      <td>home=rent</td>\n",
       "      <td>0.014462</td>\n",
       "    </tr>\n",
       "    <tr>\n",
       "      <th>3</th>\n",
       "      <td>debt</td>\n",
       "      <td>0.013374</td>\n",
       "    </tr>\n",
       "    <tr>\n",
       "      <th>14</th>\n",
       "      <td>job=freelance</td>\n",
       "      <td>0.009964</td>\n",
       "    </tr>\n",
       "    <tr>\n",
       "      <th>8</th>\n",
       "      <td>home=parents</td>\n",
       "      <td>0.008515</td>\n",
       "    </tr>\n",
       "    <tr>\n",
       "      <th>21</th>\n",
       "      <td>marital=single</td>\n",
       "      <td>0.006675</td>\n",
       "    </tr>\n",
       "    <tr>\n",
       "      <th>19</th>\n",
       "      <td>marital=married</td>\n",
       "      <td>0.006430</td>\n",
       "    </tr>\n",
       "    <tr>\n",
       "      <th>6</th>\n",
       "      <td>home=other</td>\n",
       "      <td>0.005259</td>\n",
       "    </tr>\n",
       "    <tr>\n",
       "      <th>9</th>\n",
       "      <td>home=private</td>\n",
       "      <td>0.003244</td>\n",
       "    </tr>\n",
       "    <tr>\n",
       "      <th>15</th>\n",
       "      <td>job=others</td>\n",
       "      <td>0.002855</td>\n",
       "    </tr>\n",
       "    <tr>\n",
       "      <th>20</th>\n",
       "      <td>marital=separated</td>\n",
       "      <td>0.001688</td>\n",
       "    </tr>\n",
       "    <tr>\n",
       "      <th>18</th>\n",
       "      <td>marital=divorced</td>\n",
       "      <td>0.000243</td>\n",
       "    </tr>\n",
       "    <tr>\n",
       "      <th>23</th>\n",
       "      <td>marital=widow</td>\n",
       "      <td>0.000197</td>\n",
       "    </tr>\n",
       "    <tr>\n",
       "      <th>5</th>\n",
       "      <td>home=ignore</td>\n",
       "      <td>0.000001</td>\n",
       "    </tr>\n",
       "    <tr>\n",
       "      <th>22</th>\n",
       "      <td>marital=unk</td>\n",
       "      <td>0.000000</td>\n",
       "    </tr>\n",
       "    <tr>\n",
       "      <th>17</th>\n",
       "      <td>job=unk</td>\n",
       "      <td>0.000000</td>\n",
       "    </tr>\n",
       "    <tr>\n",
       "      <th>11</th>\n",
       "      <td>home=unk</td>\n",
       "      <td>0.000000</td>\n",
       "    </tr>\n",
       "  </tbody>\n",
       "</table>\n",
       "</div>"
      ],
      "text/plain": [
       "              feature      gain\n",
       "12             income  0.150682\n",
       "27          seniority  0.125453\n",
       "1              amount  0.084244\n",
       "25         records=no  0.084168\n",
       "26        records=yes  0.083042\n",
       "2              assets  0.077590\n",
       "24              price  0.066219\n",
       "0                 age  0.058151\n",
       "16        job=partime  0.056526\n",
       "13          job=fixed  0.047831\n",
       "4            expenses  0.036300\n",
       "28               time  0.031147\n",
       "7          home=owner  0.025738\n",
       "10          home=rent  0.014462\n",
       "3                debt  0.013374\n",
       "14      job=freelance  0.009964\n",
       "8        home=parents  0.008515\n",
       "21     marital=single  0.006675\n",
       "19    marital=married  0.006430\n",
       "6          home=other  0.005259\n",
       "9        home=private  0.003244\n",
       "15         job=others  0.002855\n",
       "20  marital=separated  0.001688\n",
       "18   marital=divorced  0.000243\n",
       "23      marital=widow  0.000197\n",
       "5         home=ignore  0.000001\n",
       "22        marital=unk  0.000000\n",
       "17            job=unk  0.000000\n",
       "11           home=unk  0.000000"
      ]
     },
     "execution_count": 117,
     "metadata": {},
     "output_type": "execute_result"
    }
   ],
   "source": [
    "importances = list(zip(dv.feature_names_, rf.feature_importances_))\n",
    "\n",
    "df_importance = pd.DataFrame(importances, columns=['feature', 'gain'])\n",
    "df_importance = df_importance.sort_values(by='gain', ascending=False)\n",
    "df_importance"
   ]
  },
  {
   "cell_type": "code",
   "execution_count": 118,
   "metadata": {},
   "outputs": [],
   "source": [
    "df_importance = df_importance[df_importance.gain > 0.01]"
   ]
  },
  {
   "cell_type": "code",
   "execution_count": 119,
   "metadata": {},
   "outputs": [
    {
     "data": {
      "image/png": "[encoded data removed]",
      "text/plain": [
       "<Figure size 432x288 with 1 Axes>"
      ]
     },
     "metadata": {
      "needs_background": "light"
     },
     "output_type": "display_data"
    }
   ],
   "source": [
    "num = len(df_importance)\n",
    "plt.barh(range(num), df_importance.gain[::-1])\n",
    "plt.yticks(range(num), df_importance.feature[::-1])\n",
    "\n",
    "plt.show()"
   ]
  },
  {
   "cell_type": "markdown",
   "metadata": {},
   "source": [
    "### XGBoost"
   ]
  },
  {
   "cell_type": "code",
   "execution_count": 120,
   "metadata": {},
   "outputs": [
    {
     "data": {
      "text/plain": [
       "[('records=no', 20.205886174933337),\n",
       " ('job=partime', 19.571840249333327),\n",
       " ('job=fixed', 14.703467482368419),\n",
       " ('home=owner', 12.168287986666668),\n",
       " ('seniority', 10.93204644173191),\n",
       " ('income', 8.676314024586466),\n",
       " ('assets', 5.918307806556342),\n",
       " ('amount', 5.400780562827161),\n",
       " ('time', 5.0175909627586215),\n",
       " ('home=parents', 4.499092019090908),\n",
       " ('home=rent', 4.028717651875),\n",
       " ('price', 3.7946846306606075),\n",
       " ('expenses', 3.589669993872826),\n",
       " ('age', 3.318183602467891),\n",
       " ('debt', 2.9418528487777773),\n",
       " ('marital=separated', 2.641880279076923),\n",
       " ('home=private', 2.4620430769999997),\n",
       " ('marital=married', 2.427789335636364),\n",
       " ('home=other', 2.3016982833333333),\n",
       " ('job=freelance', 2.25929752),\n",
       " ('job=others', 1.61876595),\n",
       " ('home=ignore', 0.7887506362000001)]"
      ]
     },
     "execution_count": 120,
     "metadata": {},
     "output_type": "execute_result"
    }
   ],
   "source": [
    "scores = model.get_score(importance_type='gain')\n",
    "scores = sorted(scores.items(), key=lambda x: x[1])\n",
    "list(reversed(scores))"
   ]
  },
  {
   "cell_type": "code",
   "execution_count": 121,
   "metadata": {},
   "outputs": [
    {
     "data": {
      "text/plain": [
       "[('price', 165),\n",
       " ('amount', 162),\n",
       " ('assets', 142),\n",
       " ('income', 133),\n",
       " ('seniority', 119),\n",
       " ('age', 109),\n",
       " ('expenses', 92),\n",
       " ('debt', 63),\n",
       " ('records=no', 60),\n",
       " ('time', 29),\n",
       " ('home=parents', 22),\n",
       " ('job=partime', 21),\n",
       " ('job=fixed', 19),\n",
       " ('marital=separated', 13),\n",
       " ('home=private', 12),\n",
       " ('marital=married', 11),\n",
       " ('home=rent', 8),\n",
       " ('home=owner', 6),\n",
       " ('home=ignore', 5),\n",
       " ('job=freelance', 4),\n",
       " ('home=other', 3),\n",
       " ('job=others', 1)]"
      ]
     },
     "execution_count": 121,
     "metadata": {},
     "output_type": "execute_result"
    }
   ],
   "source": [
    "scores = model.get_score(importance_type='weight')\n",
    "scores = sorted(scores.items(), key=lambda x: x[1])\n",
    "list(reversed(scores))"
   ]
  },
  {
   "cell_type": "code",
   "execution_count": 122,
   "metadata": {},
   "outputs": [],
   "source": [
    "names = [n for (n, s) in scores]\n",
    "scores = [s for (n, s) in scores]"
   ]
  },
  {
   "cell_type": "code",
   "execution_count": 123,
   "metadata": {},
   "outputs": [
    {
     "data": {
      "image/png": "[encoded data removed]",
      "text/plain": [
       "<Figure size 432x576 with 1 Axes>"
      ]
     },
     "metadata": {
      "needs_background": "light"
     },
     "output_type": "display_data"
    }
   ],
   "source": [
    "plt.figure(figsize=(6, 8))\n",
    "\n",
    "plt.barh(np.arange(len(scores)), scores)\n",
    "plt.yticks(np.arange(len(names)), names)\n",
    "\n",
    "plt.show()"
   ]
  },
  {
   "cell_type": "markdown",
   "metadata": {},
   "source": [
    "## Bonus: Extremely randomized trees\n",
    "\n",
    "Similar to random forest, but more random. Instead of selecting the best split among all posible splits, ET picks a few candidate splits at random and then select the best one among them."
   ]
  },
  {
   "cell_type": "code",
   "execution_count": 124,
   "metadata": {},
   "outputs": [],
   "source": [
    "from sklearn.ensemble import ExtraTreesClassifier"
   ]
  },
  {
   "cell_type": "code",
   "execution_count": 125,
   "metadata": {
    "scrolled": true
   },
   "outputs": [
    {
     "name": "stdout",
     "output_type": "stream",
     "text": [
      "10 -> 0.765\n",
      "20 -> 0.785\n",
      "30 -> 0.786\n",
      "40 -> 0.782\n",
      "50 -> 0.786\n",
      "60 -> 0.790\n",
      "70 -> 0.790\n",
      "80 -> 0.791\n",
      "90 -> 0.794\n",
      "100 -> 0.790\n",
      "110 -> 0.800\n",
      "120 -> 0.787\n",
      "130 -> 0.798\n",
      "140 -> 0.792\n",
      "150 -> 0.794\n",
      "160 -> 0.796\n",
      "170 -> 0.800\n",
      "180 -> 0.797\n",
      "190 -> 0.797\n",
      "200 -> 0.797\n"
     ]
    }
   ],
   "source": [
    "aucs = []\n",
    "\n",
    "for i in range(10, 201, 10):\n",
    "    rf = ExtraTreesClassifier(n_estimators=i, max_depth=30)\n",
    "    rf.fit(X_train, y_train)\n",
    "    y_pred = rf.predict_proba(X_val)[:, 1]\n",
    "    auc = roc_auc_score(y_val, y_pred)\n",
    "    print('%s -> %.3f' % (i, auc))\n",
    "    aucs.append(auc)"
   ]
  },
  {
   "cell_type": "code",
   "execution_count": null,
   "metadata": {},
   "outputs": [],
   "source": []
  }
 ],
 "metadata": {
  "kernelspec": {
   "display_name": "DataTalksClub",
   "language": "python",
   "name": "python3"
  },
  "language_info": {
   "codemirror_mode": {
    "name": "ipython",
    "version": 3
   },
   "file_extension": ".py",
   "mimetype": "text/x-python",
   "name": "python",
   "nbconvert_exporter": "python",
   "pygments_lexer": "ipython3",
   "version": "3.9.16"
  },
  "vscode": {
   "interpreter": {
    "hash": "5783565fb0534694d7e07bd81ad0765e6953059f0fd3c6bf524fe1d6561aea7a"
   }
  }
 },
 "nbformat": 4,
 "nbformat_minor": 2
}
